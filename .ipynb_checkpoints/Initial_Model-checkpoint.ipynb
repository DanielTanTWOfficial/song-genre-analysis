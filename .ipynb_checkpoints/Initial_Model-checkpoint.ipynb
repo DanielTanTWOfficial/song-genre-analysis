{
 "cells": [
  {
   "cell_type": "markdown",
   "id": "b9bd9501",
   "metadata": {
    "id": "b9bd9501",
    "papermill": {
     "duration": 0.015558,
     "end_time": "2022-02-16T02:25:50.528603",
     "exception": false,
     "start_time": "2022-02-16T02:25:50.513045",
     "status": "completed"
    },
    "tags": []
   },
   "source": [
    "## SC1015 Project\n",
    "\n",
    "Can we identify defining characteristics of a particular song genre that makes them unique? Can we accurately predict the genre of a particular song based on these characteristics? In this project, we utilize the Spotify Music Dataset on Kaggle to find out if the popularity of a song can be determined by acoustic data such as acousticness, danceability, liveliness and energy.\n",
    "\n",
    "We aim to:\n",
    "1. Accurately predict the genre of songs based upon their characteristics. (Training on songs in the Spotify Music Dataset)\n",
    "2. Demonstrate how relevant our predictions are in real life by predicting the genre of songs in an extra test dataset and checking whether their genres are reflected by the predictions of our model."
   ]
  },
  {
   "cell_type": "code",
   "execution_count": 14,
   "id": "7ef1aef5",
   "metadata": {
    "_cell_guid": "b1076dfc-b9ad-4769-8c92-a6c4dae69d19",
    "_uuid": "8f2839f25d086af736a60e9eeb907d3b93b6e0e5",
    "execution": {
     "iopub.execute_input": "2022-02-16T02:25:50.562033Z",
     "iopub.status.busy": "2022-02-16T02:25:50.560858Z",
     "iopub.status.idle": "2022-02-16T02:25:51.653868Z",
     "shell.execute_reply": "2022-02-16T02:25:51.653194Z",
     "shell.execute_reply.started": "2022-02-16T01:58:06.734377Z"
    },
    "executionInfo": {
     "elapsed": 307,
     "status": "ok",
     "timestamp": 1648535214945,
     "user": {
      "displayName": "Daniel Tan",
      "userId": "08000639285833235229"
     },
     "user_tz": -480
    },
    "id": "7ef1aef5",
    "papermill": {
     "duration": 1.111296,
     "end_time": "2022-02-16T02:25:51.654060",
     "exception": false,
     "start_time": "2022-02-16T02:25:50.542764",
     "status": "completed"
    },
    "tags": []
   },
   "outputs": [],
   "source": [
    "import numpy as np\n",
    "import pandas as pd\n",
    "import matplotlib.pyplot as plt\n",
    "import seaborn as sb\n",
    "sb.set()"
   ]
  },
  {
   "cell_type": "markdown",
   "id": "bFKiuXuJVaHX",
   "metadata": {
    "id": "bFKiuXuJVaHX"
   },
   "source": [
    "Import the dataset we will be using:"
   ]
  },
  {
   "cell_type": "code",
   "execution_count": 5,
   "id": "2cvZ1_icVixF",
   "metadata": {
    "executionInfo": {
     "elapsed": 1717,
     "status": "ok",
     "timestamp": 1648535184704,
     "user": {
      "displayName": "Daniel Tan",
      "userId": "08000639285833235229"
     },
     "user_tz": -480
    },
    "id": "2cvZ1_icVixF"
   },
   "outputs": [],
   "source": [
    "songdata = pd.read_csv('data/genre_music_cleaned.csv')"
   ]
  },
  {
   "cell_type": "markdown",
   "id": "9311ee65",
   "metadata": {
    "id": "9311ee65"
   },
   "source": [
    "### Since no clear correlation is found on univariate linear regression, we use Feedforward Neural Network (Multi-layer Perceptron)\n",
    "\n",
    "\n",
    "This is the initial model, which is trained on most of the numeric variables in the dataset."
   ]
  },
  {
   "cell_type": "markdown",
   "id": "a1f2f097",
   "metadata": {
    "id": "a1f2f097"
   },
   "source": [
    "MLPClassifier predicts classes that inputs fall into, and therefore we need to classify the genre values and label encode them.\n",
    "\n",
    "The labels given to each genre are as follows:\n",
    "\n",
    "0. EDM\n",
    "1. Latin\n",
    "2. Pop\n",
    "3. R&B\n",
    "4. Rap\n",
    "5. Rock"
   ]
  },
  {
   "cell_type": "code",
   "execution_count": 6,
   "id": "8d52701d",
   "metadata": {
    "colab": {
     "base_uri": "https://localhost:8080/",
     "height": 438
    },
    "executionInfo": {
     "elapsed": 1055,
     "status": "ok",
     "timestamp": 1648535185755,
     "user": {
      "displayName": "Daniel Tan",
      "userId": "08000639285833235229"
     },
     "user_tz": -480
    },
    "id": "8d52701d",
    "outputId": "f616663f-4aa3-4173-83b2-c2fb4e65628b"
   },
   "outputs": [
    {
     "data": {
      "text/html": [
       "\n",
       "  <div id=\"df-b3293c60-1049-4acf-b858-765a1a021bf6\">\n",
       "    <div class=\"colab-df-container\">\n",
       "      <div>\n",
       "<style scoped>\n",
       "    .dataframe tbody tr th:only-of-type {\n",
       "        vertical-align: middle;\n",
       "    }\n",
       "\n",
       "    .dataframe tbody tr th {\n",
       "        vertical-align: top;\n",
       "    }\n",
       "\n",
       "    .dataframe thead th {\n",
       "        text-align: right;\n",
       "    }\n",
       "</style>\n",
       "<table border=\"1\" class=\"dataframe\">\n",
       "  <thead>\n",
       "    <tr style=\"text-align: right;\">\n",
       "      <th></th>\n",
       "      <th>Unnamed: 0</th>\n",
       "      <th>track</th>\n",
       "      <th>artist</th>\n",
       "      <th>danceability</th>\n",
       "      <th>energy</th>\n",
       "      <th>key</th>\n",
       "      <th>loudness</th>\n",
       "      <th>mode</th>\n",
       "      <th>speechiness</th>\n",
       "      <th>acousticness</th>\n",
       "      <th>...</th>\n",
       "      <th>liveness</th>\n",
       "      <th>valence</th>\n",
       "      <th>tempo</th>\n",
       "      <th>duration_s</th>\n",
       "      <th>time_signature</th>\n",
       "      <th>chorus_hit</th>\n",
       "      <th>sections</th>\n",
       "      <th>popularity</th>\n",
       "      <th>decade</th>\n",
       "      <th>genre</th>\n",
       "    </tr>\n",
       "  </thead>\n",
       "  <tbody>\n",
       "    <tr>\n",
       "      <th>0</th>\n",
       "      <td>0</td>\n",
       "      <td>Jealous Kind Of Fella</td>\n",
       "      <td>Garland Green</td>\n",
       "      <td>0.417</td>\n",
       "      <td>0.620</td>\n",
       "      <td>3</td>\n",
       "      <td>-7.727</td>\n",
       "      <td>1</td>\n",
       "      <td>0.0403</td>\n",
       "      <td>0.490</td>\n",
       "      <td>...</td>\n",
       "      <td>0.0779</td>\n",
       "      <td>0.845</td>\n",
       "      <td>185.655</td>\n",
       "      <td>173.533</td>\n",
       "      <td>3</td>\n",
       "      <td>32.94975</td>\n",
       "      <td>9</td>\n",
       "      <td>1</td>\n",
       "      <td>60s</td>\n",
       "      <td>0</td>\n",
       "    </tr>\n",
       "    <tr>\n",
       "      <th>1</th>\n",
       "      <td>1</td>\n",
       "      <td>Initials B.B.</td>\n",
       "      <td>Serge Gainsbourg</td>\n",
       "      <td>0.498</td>\n",
       "      <td>0.505</td>\n",
       "      <td>3</td>\n",
       "      <td>-12.475</td>\n",
       "      <td>1</td>\n",
       "      <td>0.0337</td>\n",
       "      <td>0.018</td>\n",
       "      <td>...</td>\n",
       "      <td>0.1760</td>\n",
       "      <td>0.797</td>\n",
       "      <td>101.801</td>\n",
       "      <td>213.613</td>\n",
       "      <td>4</td>\n",
       "      <td>48.82510</td>\n",
       "      <td>10</td>\n",
       "      <td>0</td>\n",
       "      <td>60s</td>\n",
       "      <td>2</td>\n",
       "    </tr>\n",
       "    <tr>\n",
       "      <th>2</th>\n",
       "      <td>2</td>\n",
       "      <td>Melody Twist</td>\n",
       "      <td>Lord Melody</td>\n",
       "      <td>0.657</td>\n",
       "      <td>0.649</td>\n",
       "      <td>5</td>\n",
       "      <td>-13.392</td>\n",
       "      <td>1</td>\n",
       "      <td>0.0380</td>\n",
       "      <td>0.846</td>\n",
       "      <td>...</td>\n",
       "      <td>0.1190</td>\n",
       "      <td>0.908</td>\n",
       "      <td>115.940</td>\n",
       "      <td>223.960</td>\n",
       "      <td>4</td>\n",
       "      <td>37.22663</td>\n",
       "      <td>12</td>\n",
       "      <td>0</td>\n",
       "      <td>60s</td>\n",
       "      <td>2</td>\n",
       "    </tr>\n",
       "    <tr>\n",
       "      <th>3</th>\n",
       "      <td>3</td>\n",
       "      <td>Mi Bomba Sonó</td>\n",
       "      <td>Celia Cruz</td>\n",
       "      <td>0.590</td>\n",
       "      <td>0.545</td>\n",
       "      <td>7</td>\n",
       "      <td>-12.058</td>\n",
       "      <td>0</td>\n",
       "      <td>0.1040</td>\n",
       "      <td>0.706</td>\n",
       "      <td>...</td>\n",
       "      <td>0.0610</td>\n",
       "      <td>0.967</td>\n",
       "      <td>105.592</td>\n",
       "      <td>157.907</td>\n",
       "      <td>4</td>\n",
       "      <td>24.75484</td>\n",
       "      <td>8</td>\n",
       "      <td>0</td>\n",
       "      <td>60s</td>\n",
       "      <td>2</td>\n",
       "    </tr>\n",
       "    <tr>\n",
       "      <th>4</th>\n",
       "      <td>4</td>\n",
       "      <td>Uravu Solla</td>\n",
       "      <td>P. Susheela</td>\n",
       "      <td>0.515</td>\n",
       "      <td>0.765</td>\n",
       "      <td>11</td>\n",
       "      <td>-3.515</td>\n",
       "      <td>0</td>\n",
       "      <td>0.1240</td>\n",
       "      <td>0.857</td>\n",
       "      <td>...</td>\n",
       "      <td>0.2130</td>\n",
       "      <td>0.906</td>\n",
       "      <td>114.617</td>\n",
       "      <td>245.600</td>\n",
       "      <td>4</td>\n",
       "      <td>21.79874</td>\n",
       "      <td>14</td>\n",
       "      <td>0</td>\n",
       "      <td>60s</td>\n",
       "      <td>3</td>\n",
       "    </tr>\n",
       "  </tbody>\n",
       "</table>\n",
       "<p>5 rows × 21 columns</p>\n",
       "</div>\n",
       "      <button class=\"colab-df-convert\" onclick=\"convertToInteractive('df-b3293c60-1049-4acf-b858-765a1a021bf6')\"\n",
       "              title=\"Convert this dataframe to an interactive table.\"\n",
       "              style=\"display:none;\">\n",
       "        \n",
       "  <svg xmlns=\"http://www.w3.org/2000/svg\" height=\"24px\"viewBox=\"0 0 24 24\"\n",
       "       width=\"24px\">\n",
       "    <path d=\"M0 0h24v24H0V0z\" fill=\"none\"/>\n",
       "    <path d=\"M18.56 5.44l.94 2.06.94-2.06 2.06-.94-2.06-.94-.94-2.06-.94 2.06-2.06.94zm-11 1L8.5 8.5l.94-2.06 2.06-.94-2.06-.94L8.5 2.5l-.94 2.06-2.06.94zm10 10l.94 2.06.94-2.06 2.06-.94-2.06-.94-.94-2.06-.94 2.06-2.06.94z\"/><path d=\"M17.41 7.96l-1.37-1.37c-.4-.4-.92-.59-1.43-.59-.52 0-1.04.2-1.43.59L10.3 9.45l-7.72 7.72c-.78.78-.78 2.05 0 2.83L4 21.41c.39.39.9.59 1.41.59.51 0 1.02-.2 1.41-.59l7.78-7.78 2.81-2.81c.8-.78.8-2.07 0-2.86zM5.41 20L4 18.59l7.72-7.72 1.47 1.35L5.41 20z\"/>\n",
       "  </svg>\n",
       "      </button>\n",
       "      \n",
       "  <style>\n",
       "    .colab-df-container {\n",
       "      display:flex;\n",
       "      flex-wrap:wrap;\n",
       "      gap: 12px;\n",
       "    }\n",
       "\n",
       "    .colab-df-convert {\n",
       "      background-color: #E8F0FE;\n",
       "      border: none;\n",
       "      border-radius: 50%;\n",
       "      cursor: pointer;\n",
       "      display: none;\n",
       "      fill: #1967D2;\n",
       "      height: 32px;\n",
       "      padding: 0 0 0 0;\n",
       "      width: 32px;\n",
       "    }\n",
       "\n",
       "    .colab-df-convert:hover {\n",
       "      background-color: #E2EBFA;\n",
       "      box-shadow: 0px 1px 2px rgba(60, 64, 67, 0.3), 0px 1px 3px 1px rgba(60, 64, 67, 0.15);\n",
       "      fill: #174EA6;\n",
       "    }\n",
       "\n",
       "    [theme=dark] .colab-df-convert {\n",
       "      background-color: #3B4455;\n",
       "      fill: #D2E3FC;\n",
       "    }\n",
       "\n",
       "    [theme=dark] .colab-df-convert:hover {\n",
       "      background-color: #434B5C;\n",
       "      box-shadow: 0px 1px 3px 1px rgba(0, 0, 0, 0.15);\n",
       "      filter: drop-shadow(0px 1px 2px rgba(0, 0, 0, 0.3));\n",
       "      fill: #FFFFFF;\n",
       "    }\n",
       "  </style>\n",
       "\n",
       "      <script>\n",
       "        const buttonEl =\n",
       "          document.querySelector('#df-b3293c60-1049-4acf-b858-765a1a021bf6 button.colab-df-convert');\n",
       "        buttonEl.style.display =\n",
       "          google.colab.kernel.accessAllowed ? 'block' : 'none';\n",
       "\n",
       "        async function convertToInteractive(key) {\n",
       "          const element = document.querySelector('#df-b3293c60-1049-4acf-b858-765a1a021bf6');\n",
       "          const dataTable =\n",
       "            await google.colab.kernel.invokeFunction('convertToInteractive',\n",
       "                                                     [key], {});\n",
       "          if (!dataTable) return;\n",
       "\n",
       "          const docLinkHtml = 'Like what you see? Visit the ' +\n",
       "            '<a target=\"_blank\" href=https://colab.research.google.com/notebooks/data_table.ipynb>data table notebook</a>'\n",
       "            + ' to learn more about interactive tables.';\n",
       "          element.innerHTML = '';\n",
       "          dataTable['output_type'] = 'display_data';\n",
       "          await google.colab.output.renderOutput(dataTable, element);\n",
       "          const docLink = document.createElement('div');\n",
       "          docLink.innerHTML = docLinkHtml;\n",
       "          element.appendChild(docLink);\n",
       "        }\n",
       "      </script>\n",
       "    </div>\n",
       "  </div>\n",
       "  "
      ],
      "text/plain": [
       "   Unnamed: 0                  track            artist  danceability  energy  \\\n",
       "0           0  Jealous Kind Of Fella     Garland Green         0.417   0.620   \n",
       "1           1          Initials B.B.  Serge Gainsbourg         0.498   0.505   \n",
       "2           2           Melody Twist       Lord Melody         0.657   0.649   \n",
       "3           3          Mi Bomba Sonó        Celia Cruz         0.590   0.545   \n",
       "4           4            Uravu Solla       P. Susheela         0.515   0.765   \n",
       "\n",
       "   key  loudness  mode  speechiness  acousticness  ...  liveness  valence  \\\n",
       "0    3    -7.727     1       0.0403         0.490  ...    0.0779    0.845   \n",
       "1    3   -12.475     1       0.0337         0.018  ...    0.1760    0.797   \n",
       "2    5   -13.392     1       0.0380         0.846  ...    0.1190    0.908   \n",
       "3    7   -12.058     0       0.1040         0.706  ...    0.0610    0.967   \n",
       "4   11    -3.515     0       0.1240         0.857  ...    0.2130    0.906   \n",
       "\n",
       "     tempo  duration_s  time_signature  chorus_hit  sections  popularity  \\\n",
       "0  185.655     173.533               3    32.94975         9           1   \n",
       "1  101.801     213.613               4    48.82510        10           0   \n",
       "2  115.940     223.960               4    37.22663        12           0   \n",
       "3  105.592     157.907               4    24.75484         8           0   \n",
       "4  114.617     245.600               4    21.79874        14           0   \n",
       "\n",
       "   decade genre  \n",
       "0     60s     0  \n",
       "1     60s     2  \n",
       "2     60s     2  \n",
       "3     60s     2  \n",
       "4     60s     3  \n",
       "\n",
       "[5 rows x 21 columns]"
      ]
     },
     "execution_count": 6,
     "metadata": {},
     "output_type": "execute_result"
    }
   ],
   "source": [
    "from sklearn.preprocessing import LabelEncoder\n",
    "\n",
    "# label encoding genre\n",
    "songdata['genre'] = LabelEncoder().fit_transform(songdata['genre'])\n",
    "songdata.head()"
   ]
  },
  {
   "cell_type": "markdown",
   "id": "91b629d6",
   "metadata": {
    "id": "91b629d6"
   },
   "source": [
    "We now need to scale the predictor variables so that they can be used together to predict the genre."
   ]
  },
  {
   "cell_type": "code",
   "execution_count": 7,
   "id": "d003d43e",
   "metadata": {
    "colab": {
     "base_uri": "https://localhost:8080/",
     "height": 364
    },
    "executionInfo": {
     "elapsed": 124,
     "status": "ok",
     "timestamp": 1648535185759,
     "user": {
      "displayName": "Daniel Tan",
      "userId": "08000639285833235229"
     },
     "user_tz": -480
    },
    "id": "d003d43e",
    "outputId": "6a5b146a-3f71-4093-d75d-0d2a21263949"
   },
   "outputs": [
    {
     "data": {
      "text/html": [
       "\n",
       "  <div id=\"df-6a713ce1-5ddc-40fa-b202-4005efe6c28e\">\n",
       "    <div class=\"colab-df-container\">\n",
       "      <div>\n",
       "<style scoped>\n",
       "    .dataframe tbody tr th:only-of-type {\n",
       "        vertical-align: middle;\n",
       "    }\n",
       "\n",
       "    .dataframe tbody tr th {\n",
       "        vertical-align: top;\n",
       "    }\n",
       "\n",
       "    .dataframe thead th {\n",
       "        text-align: right;\n",
       "    }\n",
       "</style>\n",
       "<table border=\"1\" class=\"dataframe\">\n",
       "  <thead>\n",
       "    <tr style=\"text-align: right;\">\n",
       "      <th></th>\n",
       "      <th>Unnamed: 0</th>\n",
       "      <th>danceability</th>\n",
       "      <th>energy</th>\n",
       "      <th>key</th>\n",
       "      <th>loudness</th>\n",
       "      <th>mode</th>\n",
       "      <th>speechiness</th>\n",
       "      <th>acousticness</th>\n",
       "      <th>instrumentalness</th>\n",
       "      <th>liveness</th>\n",
       "      <th>valence</th>\n",
       "      <th>tempo</th>\n",
       "      <th>duration_s</th>\n",
       "      <th>chorus_hit</th>\n",
       "      <th>genre</th>\n",
       "    </tr>\n",
       "  </thead>\n",
       "  <tbody>\n",
       "    <tr>\n",
       "      <th>count</th>\n",
       "      <td>35853.000000</td>\n",
       "      <td>35853.000000</td>\n",
       "      <td>35853.000000</td>\n",
       "      <td>35853.000000</td>\n",
       "      <td>35853.000000</td>\n",
       "      <td>35853.000000</td>\n",
       "      <td>35853.000000</td>\n",
       "      <td>35853.000000</td>\n",
       "      <td>35853.000000</td>\n",
       "      <td>35853.000000</td>\n",
       "      <td>35853.000000</td>\n",
       "      <td>35853.000000</td>\n",
       "      <td>35853.000000</td>\n",
       "      <td>35853.000000</td>\n",
       "      <td>35853.000000</td>\n",
       "    </tr>\n",
       "    <tr>\n",
       "      <th>mean</th>\n",
       "      <td>19952.822916</td>\n",
       "      <td>0.542633</td>\n",
       "      <td>0.575719</td>\n",
       "      <td>5.202605</td>\n",
       "      <td>0.734070</td>\n",
       "      <td>0.692941</td>\n",
       "      <td>0.076686</td>\n",
       "      <td>0.374916</td>\n",
       "      <td>0.161579</td>\n",
       "      <td>0.192288</td>\n",
       "      <td>0.544558</td>\n",
       "      <td>0.494928</td>\n",
       "      <td>234.697358</td>\n",
       "      <td>0.092719</td>\n",
       "      <td>2.757315</td>\n",
       "    </tr>\n",
       "    <tr>\n",
       "      <th>std</th>\n",
       "      <td>11880.308641</td>\n",
       "      <td>0.181162</td>\n",
       "      <td>0.254555</td>\n",
       "      <td>3.533002</td>\n",
       "      <td>0.101216</td>\n",
       "      <td>0.461281</td>\n",
       "      <td>0.091585</td>\n",
       "      <td>0.342635</td>\n",
       "      <td>0.309249</td>\n",
       "      <td>0.176256</td>\n",
       "      <td>0.270307</td>\n",
       "      <td>0.120988</td>\n",
       "      <td>123.102013</td>\n",
       "      <td>0.044200</td>\n",
       "      <td>1.301303</td>\n",
       "    </tr>\n",
       "    <tr>\n",
       "      <th>min</th>\n",
       "      <td>0.000000</td>\n",
       "      <td>0.000000</td>\n",
       "      <td>0.000000</td>\n",
       "      <td>0.000000</td>\n",
       "      <td>0.000000</td>\n",
       "      <td>0.000000</td>\n",
       "      <td>0.000000</td>\n",
       "      <td>0.000000</td>\n",
       "      <td>0.000000</td>\n",
       "      <td>0.000000</td>\n",
       "      <td>0.000000</td>\n",
       "      <td>0.000000</td>\n",
       "      <td>15.168000</td>\n",
       "      <td>0.000000</td>\n",
       "      <td>0.000000</td>\n",
       "    </tr>\n",
       "    <tr>\n",
       "      <th>25%</th>\n",
       "      <td>9587.000000</td>\n",
       "      <td>0.420040</td>\n",
       "      <td>0.389847</td>\n",
       "      <td>2.000000</td>\n",
       "      <td>0.684963</td>\n",
       "      <td>0.000000</td>\n",
       "      <td>0.035208</td>\n",
       "      <td>0.041466</td>\n",
       "      <td>0.000000</td>\n",
       "      <td>0.082353</td>\n",
       "      <td>0.329317</td>\n",
       "      <td>0.403620</td>\n",
       "      <td>170.667000</td>\n",
       "      <td>0.063628</td>\n",
       "      <td>2.000000</td>\n",
       "    </tr>\n",
       "    <tr>\n",
       "      <th>50%</th>\n",
       "      <td>19695.000000</td>\n",
       "      <td>0.554656</td>\n",
       "      <td>0.595899</td>\n",
       "      <td>5.000000</td>\n",
       "      <td>0.752495</td>\n",
       "      <td>1.000000</td>\n",
       "      <td>0.045417</td>\n",
       "      <td>0.277108</td>\n",
       "      <td>0.000145</td>\n",
       "      <td>0.120690</td>\n",
       "      <td>0.561245</td>\n",
       "      <td>0.487123</td>\n",
       "      <td>216.712000</td>\n",
       "      <td>0.082806</td>\n",
       "      <td>2.000000</td>\n",
       "    </tr>\n",
       "    <tr>\n",
       "      <th>75%</th>\n",
       "      <td>30192.000000</td>\n",
       "      <td>0.675101</td>\n",
       "      <td>0.784946</td>\n",
       "      <td>8.000000</td>\n",
       "      <td>0.806989</td>\n",
       "      <td>1.000000</td>\n",
       "      <td>0.073229</td>\n",
       "      <td>0.693775</td>\n",
       "      <td>0.080800</td>\n",
       "      <td>0.253550</td>\n",
       "      <td>0.773092</td>\n",
       "      <td>0.566713</td>\n",
       "      <td>266.840000</td>\n",
       "      <td>0.110258</td>\n",
       "      <td>3.000000</td>\n",
       "    </tr>\n",
       "    <tr>\n",
       "      <th>max</th>\n",
       "      <td>41095.000000</td>\n",
       "      <td>1.000000</td>\n",
       "      <td>1.000000</td>\n",
       "      <td>11.000000</td>\n",
       "      <td>1.000000</td>\n",
       "      <td>1.000000</td>\n",
       "      <td>1.000000</td>\n",
       "      <td>1.000000</td>\n",
       "      <td>1.000000</td>\n",
       "      <td>1.000000</td>\n",
       "      <td>1.000000</td>\n",
       "      <td>1.000000</td>\n",
       "      <td>4170.227000</td>\n",
       "      <td>1.000000</td>\n",
       "      <td>5.000000</td>\n",
       "    </tr>\n",
       "  </tbody>\n",
       "</table>\n",
       "</div>\n",
       "      <button class=\"colab-df-convert\" onclick=\"convertToInteractive('df-6a713ce1-5ddc-40fa-b202-4005efe6c28e')\"\n",
       "              title=\"Convert this dataframe to an interactive table.\"\n",
       "              style=\"display:none;\">\n",
       "        \n",
       "  <svg xmlns=\"http://www.w3.org/2000/svg\" height=\"24px\"viewBox=\"0 0 24 24\"\n",
       "       width=\"24px\">\n",
       "    <path d=\"M0 0h24v24H0V0z\" fill=\"none\"/>\n",
       "    <path d=\"M18.56 5.44l.94 2.06.94-2.06 2.06-.94-2.06-.94-.94-2.06-.94 2.06-2.06.94zm-11 1L8.5 8.5l.94-2.06 2.06-.94-2.06-.94L8.5 2.5l-.94 2.06-2.06.94zm10 10l.94 2.06.94-2.06 2.06-.94-2.06-.94-.94-2.06-.94 2.06-2.06.94z\"/><path d=\"M17.41 7.96l-1.37-1.37c-.4-.4-.92-.59-1.43-.59-.52 0-1.04.2-1.43.59L10.3 9.45l-7.72 7.72c-.78.78-.78 2.05 0 2.83L4 21.41c.39.39.9.59 1.41.59.51 0 1.02-.2 1.41-.59l7.78-7.78 2.81-2.81c.8-.78.8-2.07 0-2.86zM5.41 20L4 18.59l7.72-7.72 1.47 1.35L5.41 20z\"/>\n",
       "  </svg>\n",
       "      </button>\n",
       "      \n",
       "  <style>\n",
       "    .colab-df-container {\n",
       "      display:flex;\n",
       "      flex-wrap:wrap;\n",
       "      gap: 12px;\n",
       "    }\n",
       "\n",
       "    .colab-df-convert {\n",
       "      background-color: #E8F0FE;\n",
       "      border: none;\n",
       "      border-radius: 50%;\n",
       "      cursor: pointer;\n",
       "      display: none;\n",
       "      fill: #1967D2;\n",
       "      height: 32px;\n",
       "      padding: 0 0 0 0;\n",
       "      width: 32px;\n",
       "    }\n",
       "\n",
       "    .colab-df-convert:hover {\n",
       "      background-color: #E2EBFA;\n",
       "      box-shadow: 0px 1px 2px rgba(60, 64, 67, 0.3), 0px 1px 3px 1px rgba(60, 64, 67, 0.15);\n",
       "      fill: #174EA6;\n",
       "    }\n",
       "\n",
       "    [theme=dark] .colab-df-convert {\n",
       "      background-color: #3B4455;\n",
       "      fill: #D2E3FC;\n",
       "    }\n",
       "\n",
       "    [theme=dark] .colab-df-convert:hover {\n",
       "      background-color: #434B5C;\n",
       "      box-shadow: 0px 1px 3px 1px rgba(0, 0, 0, 0.15);\n",
       "      filter: drop-shadow(0px 1px 2px rgba(0, 0, 0, 0.3));\n",
       "      fill: #FFFFFF;\n",
       "    }\n",
       "  </style>\n",
       "\n",
       "      <script>\n",
       "        const buttonEl =\n",
       "          document.querySelector('#df-6a713ce1-5ddc-40fa-b202-4005efe6c28e button.colab-df-convert');\n",
       "        buttonEl.style.display =\n",
       "          google.colab.kernel.accessAllowed ? 'block' : 'none';\n",
       "\n",
       "        async function convertToInteractive(key) {\n",
       "          const element = document.querySelector('#df-6a713ce1-5ddc-40fa-b202-4005efe6c28e');\n",
       "          const dataTable =\n",
       "            await google.colab.kernel.invokeFunction('convertToInteractive',\n",
       "                                                     [key], {});\n",
       "          if (!dataTable) return;\n",
       "\n",
       "          const docLinkHtml = 'Like what you see? Visit the ' +\n",
       "            '<a target=\"_blank\" href=https://colab.research.google.com/notebooks/data_table.ipynb>data table notebook</a>'\n",
       "            + ' to learn more about interactive tables.';\n",
       "          element.innerHTML = '';\n",
       "          dataTable['output_type'] = 'display_data';\n",
       "          await google.colab.output.renderOutput(dataTable, element);\n",
       "          const docLink = document.createElement('div');\n",
       "          docLink.innerHTML = docLinkHtml;\n",
       "          element.appendChild(docLink);\n",
       "        }\n",
       "      </script>\n",
       "    </div>\n",
       "  </div>\n",
       "  "
      ],
      "text/plain": [
       "         Unnamed: 0  danceability        energy           key      loudness  \\\n",
       "count  35853.000000  35853.000000  35853.000000  35853.000000  35853.000000   \n",
       "mean   19952.822916      0.542633      0.575719      5.202605      0.734070   \n",
       "std    11880.308641      0.181162      0.254555      3.533002      0.101216   \n",
       "min        0.000000      0.000000      0.000000      0.000000      0.000000   \n",
       "25%     9587.000000      0.420040      0.389847      2.000000      0.684963   \n",
       "50%    19695.000000      0.554656      0.595899      5.000000      0.752495   \n",
       "75%    30192.000000      0.675101      0.784946      8.000000      0.806989   \n",
       "max    41095.000000      1.000000      1.000000     11.000000      1.000000   \n",
       "\n",
       "               mode   speechiness  acousticness  instrumentalness  \\\n",
       "count  35853.000000  35853.000000  35853.000000      35853.000000   \n",
       "mean       0.692941      0.076686      0.374916          0.161579   \n",
       "std        0.461281      0.091585      0.342635          0.309249   \n",
       "min        0.000000      0.000000      0.000000          0.000000   \n",
       "25%        0.000000      0.035208      0.041466          0.000000   \n",
       "50%        1.000000      0.045417      0.277108          0.000145   \n",
       "75%        1.000000      0.073229      0.693775          0.080800   \n",
       "max        1.000000      1.000000      1.000000          1.000000   \n",
       "\n",
       "           liveness       valence         tempo    duration_s    chorus_hit  \\\n",
       "count  35853.000000  35853.000000  35853.000000  35853.000000  35853.000000   \n",
       "mean       0.192288      0.544558      0.494928    234.697358      0.092719   \n",
       "std        0.176256      0.270307      0.120988    123.102013      0.044200   \n",
       "min        0.000000      0.000000      0.000000     15.168000      0.000000   \n",
       "25%        0.082353      0.329317      0.403620    170.667000      0.063628   \n",
       "50%        0.120690      0.561245      0.487123    216.712000      0.082806   \n",
       "75%        0.253550      0.773092      0.566713    266.840000      0.110258   \n",
       "max        1.000000      1.000000      1.000000   4170.227000      1.000000   \n",
       "\n",
       "              genre  \n",
       "count  35853.000000  \n",
       "mean       2.757315  \n",
       "std        1.301303  \n",
       "min        0.000000  \n",
       "25%        2.000000  \n",
       "50%        2.000000  \n",
       "75%        3.000000  \n",
       "max        5.000000  "
      ]
     },
     "execution_count": 7,
     "metadata": {},
     "output_type": "execute_result"
    }
   ],
   "source": [
    "from sklearn.neural_network import MLPClassifier\n",
    "from sklearn.model_selection import train_test_split\n",
    "from sklearn.preprocessing import StandardScaler\n",
    "from sklearn.preprocessing import MinMaxScaler\n",
    "\n",
    "songdata[['acousticness', 'danceability', 'energy', 'instrumentalness', 'liveness', 'loudness', 'tempo', 'time_signature', 'valence', 'mode', 'speechiness', 'chorus_hit', 'sections']] = MinMaxScaler().fit_transform(songdata[['acousticness', 'danceability', 'energy', 'instrumentalness', 'liveness', 'loudness', 'tempo', 'time_signature', 'valence', 'mode', 'speechiness', 'chorus_hit', 'sections']])\n",
    "\n",
    "songdata.drop(columns=['popularity', 'track', 'artist', 'decade', 'time_signature', 'sections'], inplace=True)\n",
    "songdata.describe()"
   ]
  },
  {
   "cell_type": "code",
   "execution_count": 8,
   "id": "b02ef223",
   "metadata": {
    "colab": {
     "base_uri": "https://localhost:8080/"
    },
    "executionInfo": {
     "elapsed": 101,
     "status": "ok",
     "timestamp": 1648535185774,
     "user": {
      "displayName": "Daniel Tan",
      "userId": "08000639285833235229"
     },
     "user_tz": -480
    },
    "id": "b02ef223",
    "outputId": "8faab2f6-f983-47c0-bde2-154fb3cbd66a"
   },
   "outputs": [
    {
     "data": {
      "text/plain": [
       "2    14329\n",
       "3     9455\n",
       "5     6190\n",
       "1     2469\n",
       "4     2104\n",
       "0     1306\n",
       "Name: genre, dtype: int64"
      ]
     },
     "execution_count": 8,
     "metadata": {},
     "output_type": "execute_result"
    }
   ],
   "source": [
    "songdata['genre'].value_counts()"
   ]
  },
  {
   "cell_type": "markdown",
   "id": "4be525e2",
   "metadata": {
    "id": "4be525e2"
   },
   "source": [
    "We note that the numbers of each songs per category are different. For example, there are 14247 songs in the Pop genre, whereas there are only 1326 songs in the EDM genre. Although using a Train/Test model would help to obtain random sampling of data, as there is a huge difference in sample size between song categories, we run the risk of introducing a significant sampling bias. \n",
    "\n",
    "Hence, we use Stratified Sampling Technique, which would help to eliminate the biasness of the selection of data.\n",
    "\n",
    "Source: https://medium.com/@IrekponorVictor/creating-an-unbiased-test-set-for-your-model-using-stratified-sampling-technique-672b778022d5"
   ]
  },
  {
   "cell_type": "code",
   "execution_count": 9,
   "id": "d2bba12c",
   "metadata": {
    "executionInfo": {
     "elapsed": 94,
     "status": "ok",
     "timestamp": 1648535185786,
     "user": {
      "displayName": "Daniel Tan",
      "userId": "08000639285833235229"
     },
     "user_tz": -480
    },
    "id": "d2bba12c"
   },
   "outputs": [],
   "source": [
    "# importing StratifiedShuffleSplit\n",
    "from sklearn.model_selection import StratifiedShuffleSplit\n",
    "\n",
    "split = StratifiedShuffleSplit(n_splits=1, test_size=0.2)\n",
    "\n",
    "for train_index, test_index in split.split(songdata, songdata['genre']):\n",
    "     train_set, test_set = songdata.iloc[train_index], songdata.iloc[test_index]\n",
    "\n",
    "# after obtaining train/test set, proceed to split train into X and y train set, and test into x and y test set\n",
    "y_train = pd.DataFrame(train_set['genre'])\n",
    "x_train = train_set\n",
    "x_train = x_train.drop(columns=['genre'])\n",
    "\n",
    "y_test = pd.DataFrame(test_set['genre'])\n",
    "x_test = test_set\n",
    "x_test = x_test.drop(columns=['genre'])"
   ]
  },
  {
   "cell_type": "markdown",
   "id": "292f2b90",
   "metadata": {
    "id": "292f2b90"
   },
   "source": [
    "Check how many songs in each genre there are in train/test set"
   ]
  },
  {
   "cell_type": "code",
   "execution_count": 10,
   "id": "adde23ee",
   "metadata": {
    "colab": {
     "base_uri": "https://localhost:8080/"
    },
    "executionInfo": {
     "elapsed": 90,
     "status": "ok",
     "timestamp": 1648535185791,
     "user": {
      "displayName": "Daniel Tan",
      "userId": "08000639285833235229"
     },
     "user_tz": -480
    },
    "id": "adde23ee",
    "outputId": "1fac66e6-17cc-4237-85b0-03d7f006c49f"
   },
   "outputs": [
    {
     "data": {
      "text/plain": [
       "genre\n",
       "2        11463\n",
       "3         7564\n",
       "5         4952\n",
       "1         1975\n",
       "4         1683\n",
       "0         1045\n",
       "dtype: int64"
      ]
     },
     "execution_count": 10,
     "metadata": {},
     "output_type": "execute_result"
    }
   ],
   "source": [
    "y_train.value_counts()"
   ]
  },
  {
   "cell_type": "code",
   "execution_count": 11,
   "id": "d2c7155c",
   "metadata": {
    "colab": {
     "base_uri": "https://localhost:8080/"
    },
    "executionInfo": {
     "elapsed": 105,
     "status": "ok",
     "timestamp": 1648535185817,
     "user": {
      "displayName": "Daniel Tan",
      "userId": "08000639285833235229"
     },
     "user_tz": -480
    },
    "id": "d2c7155c",
    "outputId": "28983937-7b1b-434d-b58d-940766efedbd"
   },
   "outputs": [
    {
     "data": {
      "text/plain": [
       "genre\n",
       "2        2866\n",
       "3        1891\n",
       "5        1238\n",
       "1         494\n",
       "4         421\n",
       "0         261\n",
       "dtype: int64"
      ]
     },
     "execution_count": 11,
     "metadata": {},
     "output_type": "execute_result"
    }
   ],
   "source": [
    "y_test.value_counts()"
   ]
  },
  {
   "cell_type": "markdown",
   "id": "5e01ad5b",
   "metadata": {
    "id": "5e01ad5b"
   },
   "source": [
    "After obtaining Train/Test data, use MLPClassifier.\n",
    "\n",
    "The initial model is designed with 3 hidden layers of sizes 15, 8 and 5 respectively, max iterations of 1000, the relu activation function, stochastic gradient descent solver and a batch size of 258."
   ]
  },
  {
   "cell_type": "code",
   "execution_count": 12,
   "id": "4d909bd4",
   "metadata": {
    "colab": {
     "base_uri": "https://localhost:8080/"
    },
    "executionInfo": {
     "elapsed": 4032,
     "status": "ok",
     "timestamp": 1648535189756,
     "user": {
      "displayName": "Daniel Tan",
      "userId": "08000639285833235229"
     },
     "user_tz": -480
    },
    "id": "4d909bd4",
    "outputId": "5abb85b4-e89f-49fb-8c4c-f740e120138e"
   },
   "outputs": [
    {
     "name": "stderr",
     "output_type": "stream",
     "text": [
      "/usr/local/lib/python3.7/dist-packages/sklearn/neural_network/_multilayer_perceptron.py:1109: DataConversionWarning: A column-vector y was passed when a 1d array was expected. Please change the shape of y to (n_samples, ), for example using ravel().\n",
      "  y = column_or_1d(y, warn=True)\n"
     ]
    },
    {
     "name": "stdout",
     "output_type": "stream",
     "text": [
      "Accuracy of MLPClassifier :  0.39965832229272713\n"
     ]
    }
   ],
   "source": [
    "def accuracy(confusion_matrix):\n",
    "   diagonal_sum = confusion_matrix.trace()\n",
    "   sum_of_all_elements = confusion_matrix.sum()\n",
    "   return diagonal_sum / sum_of_all_elements\n",
    "\n",
    "#Initializing the MLPClassifier\n",
    "classifier = MLPClassifier(hidden_layer_sizes=(15, 8, 5), max_iter=1000,activation = 'relu',solver='sgd',batch_size=258,random_state=1)\n",
    "\n",
    "classifier.fit(x_train, y_train.values.ravel())\n",
    "y_pred = classifier.predict(x_train)\n",
    "\n",
    "#Importing Confusion Matrix\n",
    "from sklearn.metrics import confusion_matrix\n",
    "#Comparing the predictions against the actual observations in y_val\n",
    "cm = confusion_matrix(y_pred, y_train)\n",
    "\n",
    "#Printing the accuracy\n",
    "print(\"Accuracy of MLPClassifier : \", accuracy(cm))"
   ]
  },
  {
   "cell_type": "markdown",
   "id": "c49345f0",
   "metadata": {
    "id": "c49345f0"
   },
   "source": [
    "Try plotting the correlation matrix."
   ]
  },
  {
   "cell_type": "code",
   "execution_count": 15,
   "id": "d701154c",
   "metadata": {
    "colab": {
     "base_uri": "https://localhost:8080/",
     "height": 285
    },
    "executionInfo": {
     "elapsed": 759,
     "status": "ok",
     "timestamp": 1648535221940,
     "user": {
      "displayName": "Daniel Tan",
      "userId": "08000639285833235229"
     },
     "user_tz": -480
    },
    "id": "d701154c",
    "outputId": "7cdd3350-5ec9-47c9-844b-16fb865d89db"
   },
   "outputs": [
    {
     "data": {
      "text/plain": [
       "<matplotlib.axes._subplots.AxesSubplot at 0x7f08627066d0>"
      ]
     },
     "execution_count": 15,
     "metadata": {},
     "output_type": "execute_result"
    },
    {
     "data": {
      "image/png": "[encoded data removed]",
      "text/plain": [
       "<Figure size 432x288 with 2 Axes>"
      ]
     },
     "metadata": {},
     "output_type": "display_data"
    }
   ],
   "source": [
    "sb.heatmap(cm, annot=True, fmt=\".0f\", annot_kws={\"size\":18})"
   ]
  },
  {
   "cell_type": "markdown",
   "id": "7331ca3c",
   "metadata": {
    "id": "7331ca3c"
   },
   "source": [
    "Check the accuracy on the test data."
   ]
  },
  {
   "cell_type": "code",
   "execution_count": 16,
   "id": "f401d7e2",
   "metadata": {
    "colab": {
     "base_uri": "https://localhost:8080/"
    },
    "executionInfo": {
     "elapsed": 504,
     "status": "ok",
     "timestamp": 1648535226573,
     "user": {
      "displayName": "Daniel Tan",
      "userId": "08000639285833235229"
     },
     "user_tz": -480
    },
    "id": "f401d7e2",
    "outputId": "acd710af-03e5-4335-bfe1-912ba427abdd"
   },
   "outputs": [
    {
     "name": "stdout",
     "output_type": "stream",
     "text": [
      "Accuracy of MLPClassifier on test data : 0.39938641751499093\n"
     ]
    }
   ],
   "source": [
    "y_test_pred = classifier.predict(x_test)\n",
    "\n",
    "cm = confusion_matrix(y_test_pred, y_test)\n",
    "\n",
    "# print accuracy\n",
    "print('Accuracy of MLPClassifier on test data :', accuracy(cm))"
   ]
  },
  {
   "cell_type": "code",
   "execution_count": 17,
   "id": "b82ca0e8",
   "metadata": {
    "colab": {
     "base_uri": "https://localhost:8080/",
     "height": 285
    },
    "executionInfo": {
     "elapsed": 912,
     "status": "ok",
     "timestamp": 1648535228514,
     "user": {
      "displayName": "Daniel Tan",
      "userId": "08000639285833235229"
     },
     "user_tz": -480
    },
    "id": "b82ca0e8",
    "outputId": "15bc3735-97b2-426b-c251-c1d5368578f8"
   },
   "outputs": [
    {
     "data": {
      "text/plain": [
       "<matplotlib.axes._subplots.AxesSubplot at 0x7f0861914290>"
      ]
     },
     "execution_count": 17,
     "metadata": {},
     "output_type": "execute_result"
    },
    {
     "data": {
      "image/png": "[encoded data removed]",
      "text/plain": [
       "<Figure size 432x288 with 2 Axes>"
      ]
     },
     "metadata": {},
     "output_type": "display_data"
    }
   ],
   "source": [
    "sb.heatmap(cm, annot=True, fmt=\".0f\", annot_kws={\"size\":18})"
   ]
  },
  {
   "cell_type": "markdown",
   "id": "wFhf45NUWvlx",
   "metadata": {
    "id": "wFhf45NUWvlx"
   },
   "source": [
    "Clearly, the results of this model are very inaccurate, and it has been trained on too large a batch size, which has resulted in the model being unable to differentiate between each genre, and simply predicts all genres as being from the same genre."
   ]
  },
  {
   "cell_type": "markdown",
   "id": "uCflfQCDX-8W",
   "metadata": {
    "id": "uCflfQCDX-8W"
   },
   "source": [
    "Save the model into a file with pickle to load later."
   ]
  },
  {
   "cell_type": "code",
   "execution_count": 18,
   "id": "2nj3c4BZX6VA",
   "metadata": {
    "executionInfo": {
     "elapsed": 301,
     "status": "ok",
     "timestamp": 1648535230442,
     "user": {
      "displayName": "Daniel Tan",
      "userId": "08000639285833235229"
     },
     "user_tz": -480
    },
    "id": "2nj3c4BZX6VA"
   },
   "outputs": [],
   "source": [
    "import pickle\n",
    "\n",
    "# save the model to disk\n",
    "filename = 'model/initial_model.sav'\n",
    "pickle.dump(classifier, open(filename, 'wb'))"
   ]
  }
 ],
 "metadata": {
  "colab": {
   "collapsed_sections": [],
   "name": "Initial_Model.ipynb",
   "provenance": []
  },
  "kernelspec": {
   "display_name": "Python 3 (ipykernel)",
   "language": "python",
   "name": "python3"
  },
  "language_info": {
   "codemirror_mode": {
    "name": "ipython",
    "version": 3
   },
   "file_extension": ".py",
   "mimetype": "text/x-python",
   "name": "python",
   "nbconvert_exporter": "python",
   "pygments_lexer": "ipython3",
   "version": "3.9.7"
  },
  "papermill": {
   "default_parameters": {},
   "duration": 12.896024,
   "end_time": "2022-02-16T02:25:53.224422",
   "environment_variables": {},
   "exception": null,
   "input_path": "__notebook__.ipynb",
   "output_path": "__notebook__.ipynb",
   "parameters": {},
   "start_time": "2022-02-16T02:25:40.328398",
   "version": "2.3.3"
  }
 },
 "nbformat": 4,
 "nbformat_minor": 5
}
