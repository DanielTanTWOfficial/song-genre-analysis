{
 "cells": [
  {
   "cell_type": "markdown",
   "id": "b9bd9501",
   "metadata": {
    "id": "b9bd9501",
    "papermill": {
     "duration": 0.015558,
     "end_time": "2022-02-16T02:25:50.528603",
     "exception": false,
     "start_time": "2022-02-16T02:25:50.513045",
     "status": "completed"
    },
    "tags": []
   },
   "source": [
    "## Model Improvement\n",
    "\n",
    "In order to improve the prediction accuracy of the model, we tweaked the parameters given to the model to try to get as high a prediction accuracy as possible."
   ]
  },
  {
   "cell_type": "code",
   "execution_count": null,
   "id": "7ef1aef5",
   "metadata": {
    "_cell_guid": "b1076dfc-b9ad-4769-8c92-a6c4dae69d19",
    "_uuid": "8f2839f25d086af736a60e9eeb907d3b93b6e0e5",
    "execution": {
     "iopub.execute_input": "2022-02-16T02:25:50.562033Z",
     "iopub.status.busy": "2022-02-16T02:25:50.560858Z",
     "iopub.status.idle": "2022-02-16T02:25:51.653868Z",
     "shell.execute_reply": "2022-02-16T02:25:51.653194Z",
     "shell.execute_reply.started": "2022-02-16T01:58:06.734377Z"
    },
    "id": "7ef1aef5",
    "papermill": {
     "duration": 1.111296,
     "end_time": "2022-02-16T02:25:51.654060",
     "exception": false,
     "start_time": "2022-02-16T02:25:50.542764",
     "status": "completed"
    },
    "tags": []
   },
   "outputs": [],
   "source": [
    "import numpy as np\n",
    "import pandas as pd\n",
    "import matplotlib.pyplot as plt\n",
    "import seaborn as sb\n",
    "sb.set()"
   ]
  },
  {
   "cell_type": "markdown",
   "id": "633f52b5",
   "metadata": {
    "id": "633f52b5",
    "papermill": {
     "duration": 0.013889,
     "end_time": "2022-02-16T02:25:51.682821",
     "exception": false,
     "start_time": "2022-02-16T02:25:51.668932",
     "status": "completed"
    },
    "tags": []
   },
   "source": [
    "Load the dataframe from the dataset"
   ]
  },
  {
   "cell_type": "code",
   "execution_count": null,
   "id": "5f433dfd",
   "metadata": {
    "execution": {
     "iopub.execute_input": "2022-02-16T02:25:51.717449Z",
     "iopub.status.busy": "2022-02-16T02:25:51.716702Z",
     "iopub.status.idle": "2022-02-16T02:25:51.891228Z",
     "shell.execute_reply": "2022-02-16T02:25:51.890727Z",
     "shell.execute_reply.started": "2022-02-16T01:58:07.738499Z"
    },
    "id": "5f433dfd",
    "papermill": {
     "duration": 0.194273,
     "end_time": "2022-02-16T02:25:51.891373",
     "exception": false,
     "start_time": "2022-02-16T02:25:51.697100",
     "status": "completed"
    },
    "tags": []
   },
   "outputs": [],
   "source": [
    "#songdata = pd.read_csv('data/genre_music_cleaned.csv')\n",
    "songdata = songdata.sort_values(['track'])"
   ]
  },
  {
   "cell_type": "code",
   "execution_count": null,
   "id": "b8752fa6",
   "metadata": {
    "execution": {
     "iopub.execute_input": "2022-02-16T02:25:51.930956Z",
     "iopub.status.busy": "2022-02-16T02:25:51.930177Z",
     "iopub.status.idle": "2022-02-16T02:25:51.934114Z",
     "shell.execute_reply": "2022-02-16T02:25:51.934622Z",
     "shell.execute_reply.started": "2022-02-16T01:58:07.864297Z"
    },
    "id": "b8752fa6",
    "outputId": "5ca40bf1-36ea-4bad-f2bc-26622d80a1da",
    "papermill": {
     "duration": 0.027935,
     "end_time": "2022-02-16T02:25:51.934860",
     "exception": false,
     "start_time": "2022-02-16T02:25:51.906925",
     "status": "completed"
    },
    "tags": []
   },
   "outputs": [
    {
     "name": "stdout",
     "output_type": "stream",
     "text": [
      "Shape:  (41099, 20)\n"
     ]
    }
   ],
   "source": [
    "print(\"Shape: \", songdata.shape)"
   ]
  },
  {
   "cell_type": "markdown",
   "id": "9311ee65",
   "metadata": {
    "id": "9311ee65"
   },
   "source": [
    "### Model data preparation"
   ]
  },
  {
   "cell_type": "markdown",
   "id": "a1f2f097",
   "metadata": {
    "id": "a1f2f097"
   },
   "source": [
    "MLPClassifier predicts classes that inputs fall into, and therefore we need to classify the genre values and label encode them."
   ]
  },
  {
   "cell_type": "code",
   "execution_count": null,
   "id": "0f567542",
   "metadata": {
    "id": "0f567542",
    "outputId": "ce0db226-f12e-4d6c-a81b-51e69ab3f034"
   },
   "outputs": [
    {
     "data": {
      "text/plain": [
       "pop      14247\n",
       "r&b       9499\n",
       "rock      6157\n",
       "latin     2497\n",
       "rap       2127\n",
       "edm       1326\n",
       "Name: genre, dtype: int64"
      ]
     },
     "execution_count": 10,
     "metadata": {},
     "output_type": "execute_result"
    }
   ],
   "source": [
    "# Distribution of Genres before encoding\n",
    "\n",
    "songdata['genre'].value_counts()"
   ]
  },
  {
   "cell_type": "code",
   "execution_count": null,
   "id": "8d52701d",
   "metadata": {
    "colab": {
     "base_uri": "https://localhost:8080/",
     "height": 548
    },
    "executionInfo": {
     "elapsed": 341,
     "status": "ok",
     "timestamp": 1647949227420,
     "user": {
      "displayName": "Daniel Tan",
      "photoUrl": "https://lh3.googleusercontent.com/a-/AOh14Gh2rCY9GFaFOEwAtqfOOiYbt_xDtEymQK_Nbcw_fg=s64",
      "userId": "08000639285833235229"
     },
     "user_tz": -480
    },
    "id": "8d52701d",
    "outputId": "aee8fd11-6935-442f-a55b-f62f513f4eba"
   },
   "outputs": [
    {
     "data": {
      "text/html": [
       "\n",
       "  <div id=\"df-fa759903-1a11-4ee7-b512-0f4877790280\">\n",
       "    <div class=\"colab-df-container\">\n",
       "      <div>\n",
       "<style scoped>\n",
       "    .dataframe tbody tr th:only-of-type {\n",
       "        vertical-align: middle;\n",
       "    }\n",
       "\n",
       "    .dataframe tbody tr th {\n",
       "        vertical-align: top;\n",
       "    }\n",
       "\n",
       "    .dataframe thead th {\n",
       "        text-align: right;\n",
       "    }\n",
       "</style>\n",
       "<table border=\"1\" class=\"dataframe\">\n",
       "  <thead>\n",
       "    <tr style=\"text-align: right;\">\n",
       "      <th></th>\n",
       "      <th>track</th>\n",
       "      <th>artist</th>\n",
       "      <th>danceability</th>\n",
       "      <th>energy</th>\n",
       "      <th>key</th>\n",
       "      <th>loudness</th>\n",
       "      <th>mode</th>\n",
       "      <th>speechiness</th>\n",
       "      <th>acousticness</th>\n",
       "      <th>instrumentalness</th>\n",
       "      <th>liveness</th>\n",
       "      <th>valence</th>\n",
       "      <th>tempo</th>\n",
       "      <th>duration_s</th>\n",
       "      <th>time_signature</th>\n",
       "      <th>chorus_hit</th>\n",
       "      <th>sections</th>\n",
       "      <th>popularity</th>\n",
       "      <th>decade</th>\n",
       "      <th>genre</th>\n",
       "    </tr>\n",
       "  </thead>\n",
       "  <tbody>\n",
       "    <tr>\n",
       "      <th>11343</th>\n",
       "      <td>\"\"Cherry Cherry\"\" from Hot August Night</td>\n",
       "      <td>Neil Diamond</td>\n",
       "      <td>0.341</td>\n",
       "      <td>0.9480</td>\n",
       "      <td>9</td>\n",
       "      <td>-5.081</td>\n",
       "      <td>1</td>\n",
       "      <td>0.1360</td>\n",
       "      <td>0.10100</td>\n",
       "      <td>0.00148</td>\n",
       "      <td>0.874</td>\n",
       "      <td>0.6320</td>\n",
       "      <td>171.578</td>\n",
       "      <td>443.320</td>\n",
       "      <td>4</td>\n",
       "      <td>53.79041</td>\n",
       "      <td>16</td>\n",
       "      <td>1</td>\n",
       "      <td>70s</td>\n",
       "      <td>5</td>\n",
       "    </tr>\n",
       "    <tr>\n",
       "      <th>4669</th>\n",
       "      <td>\"\"Come, Sleep...\"\"</td>\n",
       "      <td>Louise Bogan</td>\n",
       "      <td>0.734</td>\n",
       "      <td>0.0694</td>\n",
       "      <td>3</td>\n",
       "      <td>-24.330</td>\n",
       "      <td>1</td>\n",
       "      <td>0.9170</td>\n",
       "      <td>0.61100</td>\n",
       "      <td>0.00000</td>\n",
       "      <td>0.106</td>\n",
       "      <td>0.3190</td>\n",
       "      <td>108.734</td>\n",
       "      <td>78.472</td>\n",
       "      <td>5</td>\n",
       "      <td>31.28651</td>\n",
       "      <td>4</td>\n",
       "      <td>0</td>\n",
       "      <td>60s</td>\n",
       "      <td>4</td>\n",
       "    </tr>\n",
       "    <tr>\n",
       "      <th>21253</th>\n",
       "      <td>\"\"I'll Be Back\"\" / Police Station &amp; Escape</td>\n",
       "      <td>Brad Fiedel</td>\n",
       "      <td>0.201</td>\n",
       "      <td>0.3910</td>\n",
       "      <td>7</td>\n",
       "      <td>-16.067</td>\n",
       "      <td>1</td>\n",
       "      <td>0.0479</td>\n",
       "      <td>0.88900</td>\n",
       "      <td>0.86400</td>\n",
       "      <td>0.111</td>\n",
       "      <td>0.1810</td>\n",
       "      <td>59.801</td>\n",
       "      <td>226.310</td>\n",
       "      <td>4</td>\n",
       "      <td>38.29173</td>\n",
       "      <td>10</td>\n",
       "      <td>0</td>\n",
       "      <td>80s</td>\n",
       "      <td>5</td>\n",
       "    </tr>\n",
       "    <tr>\n",
       "      <th>39054</th>\n",
       "      <td>\"\"Is This My Fate,\"\" He Asked Them</td>\n",
       "      <td>Story Of The Year</td>\n",
       "      <td>0.254</td>\n",
       "      <td>0.9700</td>\n",
       "      <td>8</td>\n",
       "      <td>-4.635</td>\n",
       "      <td>1</td>\n",
       "      <td>0.0789</td>\n",
       "      <td>0.00015</td>\n",
       "      <td>0.00586</td>\n",
       "      <td>0.141</td>\n",
       "      <td>0.1660</td>\n",
       "      <td>99.963</td>\n",
       "      <td>300.520</td>\n",
       "      <td>4</td>\n",
       "      <td>55.19977</td>\n",
       "      <td>13</td>\n",
       "      <td>0</td>\n",
       "      <td>10s</td>\n",
       "      <td>5</td>\n",
       "    </tr>\n",
       "    <tr>\n",
       "      <th>15187</th>\n",
       "      <td>\"\"Jerry\"\" To The Rescue</td>\n",
       "      <td>Pino Donaggio</td>\n",
       "      <td>0.215</td>\n",
       "      <td>0.2420</td>\n",
       "      <td>0</td>\n",
       "      <td>-15.141</td>\n",
       "      <td>0</td>\n",
       "      <td>0.0398</td>\n",
       "      <td>0.58400</td>\n",
       "      <td>0.93600</td>\n",
       "      <td>0.146</td>\n",
       "      <td>0.0613</td>\n",
       "      <td>116.234</td>\n",
       "      <td>143.520</td>\n",
       "      <td>4</td>\n",
       "      <td>25.60898</td>\n",
       "      <td>9</td>\n",
       "      <td>0</td>\n",
       "      <td>70s</td>\n",
       "      <td>5</td>\n",
       "    </tr>\n",
       "  </tbody>\n",
       "</table>\n",
       "</div>\n",
       "      <button class=\"colab-df-convert\" onclick=\"convertToInteractive('df-fa759903-1a11-4ee7-b512-0f4877790280')\"\n",
       "              title=\"Convert this dataframe to an interactive table.\"\n",
       "              style=\"display:none;\">\n",
       "        \n",
       "  <svg xmlns=\"http://www.w3.org/2000/svg\" height=\"24px\"viewBox=\"0 0 24 24\"\n",
       "       width=\"24px\">\n",
       "    <path d=\"M0 0h24v24H0V0z\" fill=\"none\"/>\n",
       "    <path d=\"M18.56 5.44l.94 2.06.94-2.06 2.06-.94-2.06-.94-.94-2.06-.94 2.06-2.06.94zm-11 1L8.5 8.5l.94-2.06 2.06-.94-2.06-.94L8.5 2.5l-.94 2.06-2.06.94zm10 10l.94 2.06.94-2.06 2.06-.94-2.06-.94-.94-2.06-.94 2.06-2.06.94z\"/><path d=\"M17.41 7.96l-1.37-1.37c-.4-.4-.92-.59-1.43-.59-.52 0-1.04.2-1.43.59L10.3 9.45l-7.72 7.72c-.78.78-.78 2.05 0 2.83L4 21.41c.39.39.9.59 1.41.59.51 0 1.02-.2 1.41-.59l7.78-7.78 2.81-2.81c.8-.78.8-2.07 0-2.86zM5.41 20L4 18.59l7.72-7.72 1.47 1.35L5.41 20z\"/>\n",
       "  </svg>\n",
       "      </button>\n",
       "      \n",
       "  <style>\n",
       "    .colab-df-container {\n",
       "      display:flex;\n",
       "      flex-wrap:wrap;\n",
       "      gap: 12px;\n",
       "    }\n",
       "\n",
       "    .colab-df-convert {\n",
       "      background-color: #E8F0FE;\n",
       "      border: none;\n",
       "      border-radius: 50%;\n",
       "      cursor: pointer;\n",
       "      display: none;\n",
       "      fill: #1967D2;\n",
       "      height: 32px;\n",
       "      padding: 0 0 0 0;\n",
       "      width: 32px;\n",
       "    }\n",
       "\n",
       "    .colab-df-convert:hover {\n",
       "      background-color: #E2EBFA;\n",
       "      box-shadow: 0px 1px 2px rgba(60, 64, 67, 0.3), 0px 1px 3px 1px rgba(60, 64, 67, 0.15);\n",
       "      fill: #174EA6;\n",
       "    }\n",
       "\n",
       "    [theme=dark] .colab-df-convert {\n",
       "      background-color: #3B4455;\n",
       "      fill: #D2E3FC;\n",
       "    }\n",
       "\n",
       "    [theme=dark] .colab-df-convert:hover {\n",
       "      background-color: #434B5C;\n",
       "      box-shadow: 0px 1px 3px 1px rgba(0, 0, 0, 0.15);\n",
       "      filter: drop-shadow(0px 1px 2px rgba(0, 0, 0, 0.3));\n",
       "      fill: #FFFFFF;\n",
       "    }\n",
       "  </style>\n",
       "\n",
       "      <script>\n",
       "        const buttonEl =\n",
       "          document.querySelector('#df-fa759903-1a11-4ee7-b512-0f4877790280 button.colab-df-convert');\n",
       "        buttonEl.style.display =\n",
       "          google.colab.kernel.accessAllowed ? 'block' : 'none';\n",
       "\n",
       "        async function convertToInteractive(key) {\n",
       "          const element = document.querySelector('#df-fa759903-1a11-4ee7-b512-0f4877790280');\n",
       "          const dataTable =\n",
       "            await google.colab.kernel.invokeFunction('convertToInteractive',\n",
       "                                                     [key], {});\n",
       "          if (!dataTable) return;\n",
       "\n",
       "          const docLinkHtml = 'Like what you see? Visit the ' +\n",
       "            '<a target=\"_blank\" href=https://colab.research.google.com/notebooks/data_table.ipynb>data table notebook</a>'\n",
       "            + ' to learn more about interactive tables.';\n",
       "          element.innerHTML = '';\n",
       "          dataTable['output_type'] = 'display_data';\n",
       "          await google.colab.output.renderOutput(dataTable, element);\n",
       "          const docLink = document.createElement('div');\n",
       "          docLink.innerHTML = docLinkHtml;\n",
       "          element.appendChild(docLink);\n",
       "        }\n",
       "      </script>\n",
       "    </div>\n",
       "  </div>\n",
       "  "
      ],
      "text/plain": [
       "                                            track             artist  \\\n",
       "11343     \"\"Cherry Cherry\"\" from Hot August Night       Neil Diamond   \n",
       "4669                           \"\"Come, Sleep...\"\"       Louise Bogan   \n",
       "21253  \"\"I'll Be Back\"\" / Police Station & Escape        Brad Fiedel   \n",
       "39054          \"\"Is This My Fate,\"\" He Asked Them  Story Of The Year   \n",
       "15187                     \"\"Jerry\"\" To The Rescue      Pino Donaggio   \n",
       "\n",
       "       danceability  energy  key  loudness  mode  speechiness  acousticness  \\\n",
       "11343         0.341  0.9480    9    -5.081     1       0.1360       0.10100   \n",
       "4669          0.734  0.0694    3   -24.330     1       0.9170       0.61100   \n",
       "21253         0.201  0.3910    7   -16.067     1       0.0479       0.88900   \n",
       "39054         0.254  0.9700    8    -4.635     1       0.0789       0.00015   \n",
       "15187         0.215  0.2420    0   -15.141     0       0.0398       0.58400   \n",
       "\n",
       "       instrumentalness  liveness  valence    tempo  duration_s  \\\n",
       "11343           0.00148     0.874   0.6320  171.578     443.320   \n",
       "4669            0.00000     0.106   0.3190  108.734      78.472   \n",
       "21253           0.86400     0.111   0.1810   59.801     226.310   \n",
       "39054           0.00586     0.141   0.1660   99.963     300.520   \n",
       "15187           0.93600     0.146   0.0613  116.234     143.520   \n",
       "\n",
       "       time_signature  chorus_hit  sections  popularity decade  genre  \n",
       "11343               4    53.79041        16           1    70s      5  \n",
       "4669                5    31.28651         4           0    60s      4  \n",
       "21253               4    38.29173        10           0    80s      5  \n",
       "39054               4    55.19977        13           0    10s      5  \n",
       "15187               4    25.60898         9           0    70s      5  "
      ]
     },
     "execution_count": 6,
     "metadata": {},
     "output_type": "execute_result"
    }
   ],
   "source": [
    "from sklearn.preprocessing import LabelEncoder\n",
    "\n",
    "# label encoding genre\n",
    "songdata['genre'] = LabelEncoder().fit_transform(songdata['genre'])\n",
    "songdata.head()"
   ]
  },
  {
   "cell_type": "markdown",
   "id": "91b629d6",
   "metadata": {
    "id": "91b629d6"
   },
   "source": [
    "We now need to scale the predictor variables so that they can be used together to predict the genres."
   ]
  },
  {
   "cell_type": "code",
   "execution_count": null,
   "id": "d003d43e",
   "metadata": {
    "colab": {
     "base_uri": "https://localhost:8080/",
     "height": 364
    },
    "executionInfo": {
     "elapsed": 381,
     "status": "ok",
     "timestamp": 1647949232047,
     "user": {
      "displayName": "Daniel Tan",
      "photoUrl": "https://lh3.googleusercontent.com/a-/AOh14Gh2rCY9GFaFOEwAtqfOOiYbt_xDtEymQK_Nbcw_fg=s64",
      "userId": "08000639285833235229"
     },
     "user_tz": -480
    },
    "id": "d003d43e",
    "outputId": "e1f459c9-a44f-4fe9-ea01-922bf031c85f"
   },
   "outputs": [
    {
     "data": {
      "text/html": [
       "\n",
       "  <div id=\"df-7e05a0e3-0ac7-435f-874f-0152708c3fc7\">\n",
       "    <div class=\"colab-df-container\">\n",
       "      <div>\n",
       "<style scoped>\n",
       "    .dataframe tbody tr th:only-of-type {\n",
       "        vertical-align: middle;\n",
       "    }\n",
       "\n",
       "    .dataframe tbody tr th {\n",
       "        vertical-align: top;\n",
       "    }\n",
       "\n",
       "    .dataframe thead th {\n",
       "        text-align: right;\n",
       "    }\n",
       "</style>\n",
       "<table border=\"1\" class=\"dataframe\">\n",
       "  <thead>\n",
       "    <tr style=\"text-align: right;\">\n",
       "      <th></th>\n",
       "      <th>danceability</th>\n",
       "      <th>energy</th>\n",
       "      <th>key</th>\n",
       "      <th>loudness</th>\n",
       "      <th>mode</th>\n",
       "      <th>speechiness</th>\n",
       "      <th>acousticness</th>\n",
       "      <th>instrumentalness</th>\n",
       "      <th>liveness</th>\n",
       "      <th>valence</th>\n",
       "      <th>tempo</th>\n",
       "      <th>duration_s</th>\n",
       "      <th>chorus_hit</th>\n",
       "      <th>genre</th>\n",
       "    </tr>\n",
       "  </thead>\n",
       "  <tbody>\n",
       "    <tr>\n",
       "      <th>count</th>\n",
       "      <td>35853.000000</td>\n",
       "      <td>35853.000000</td>\n",
       "      <td>35853.000000</td>\n",
       "      <td>35853.000000</td>\n",
       "      <td>35853.000000</td>\n",
       "      <td>35853.000000</td>\n",
       "      <td>35853.000000</td>\n",
       "      <td>35853.000000</td>\n",
       "      <td>35853.000000</td>\n",
       "      <td>35853.000000</td>\n",
       "      <td>35853.000000</td>\n",
       "      <td>35853.000000</td>\n",
       "      <td>35853.000000</td>\n",
       "      <td>35853.000000</td>\n",
       "    </tr>\n",
       "    <tr>\n",
       "      <th>mean</th>\n",
       "      <td>0.543350</td>\n",
       "      <td>0.577640</td>\n",
       "      <td>5.198393</td>\n",
       "      <td>0.734854</td>\n",
       "      <td>0.691351</td>\n",
       "      <td>0.077077</td>\n",
       "      <td>0.370930</td>\n",
       "      <td>0.161870</td>\n",
       "      <td>0.192366</td>\n",
       "      <td>0.542389</td>\n",
       "      <td>0.494077</td>\n",
       "      <td>235.412968</td>\n",
       "      <td>0.092798</td>\n",
       "      <td>2.755167</td>\n",
       "    </tr>\n",
       "    <tr>\n",
       "      <th>std</th>\n",
       "      <td>0.181269</td>\n",
       "      <td>0.254805</td>\n",
       "      <td>3.533529</td>\n",
       "      <td>0.101619</td>\n",
       "      <td>0.461942</td>\n",
       "      <td>0.091748</td>\n",
       "      <td>0.342750</td>\n",
       "      <td>0.309411</td>\n",
       "      <td>0.176929</td>\n",
       "      <td>0.270009</td>\n",
       "      <td>0.121035</td>\n",
       "      <td>122.663760</td>\n",
       "      <td>0.044278</td>\n",
       "      <td>1.301983</td>\n",
       "    </tr>\n",
       "    <tr>\n",
       "      <th>min</th>\n",
       "      <td>0.000000</td>\n",
       "      <td>0.000000</td>\n",
       "      <td>0.000000</td>\n",
       "      <td>0.000000</td>\n",
       "      <td>0.000000</td>\n",
       "      <td>0.000000</td>\n",
       "      <td>0.000000</td>\n",
       "      <td>0.000000</td>\n",
       "      <td>0.000000</td>\n",
       "      <td>0.000000</td>\n",
       "      <td>0.000000</td>\n",
       "      <td>15.168000</td>\n",
       "      <td>0.000000</td>\n",
       "      <td>0.000000</td>\n",
       "    </tr>\n",
       "    <tr>\n",
       "      <th>25%</th>\n",
       "      <td>0.421053</td>\n",
       "      <td>0.391847</td>\n",
       "      <td>2.000000</td>\n",
       "      <td>0.685378</td>\n",
       "      <td>0.000000</td>\n",
       "      <td>0.035313</td>\n",
       "      <td>0.039458</td>\n",
       "      <td>0.000000</td>\n",
       "      <td>0.082252</td>\n",
       "      <td>0.327309</td>\n",
       "      <td>0.402551</td>\n",
       "      <td>172.213000</td>\n",
       "      <td>0.063651</td>\n",
       "      <td>2.000000</td>\n",
       "    </tr>\n",
       "    <tr>\n",
       "      <th>50%</th>\n",
       "      <td>0.555668</td>\n",
       "      <td>0.598899</td>\n",
       "      <td>5.000000</td>\n",
       "      <td>0.753590</td>\n",
       "      <td>1.000000</td>\n",
       "      <td>0.045625</td>\n",
       "      <td>0.268072</td>\n",
       "      <td>0.000143</td>\n",
       "      <td>0.120690</td>\n",
       "      <td>0.558233</td>\n",
       "      <td>0.486246</td>\n",
       "      <td>217.627000</td>\n",
       "      <td>0.082863</td>\n",
       "      <td>2.000000</td>\n",
       "    </tr>\n",
       "    <tr>\n",
       "      <th>75%</th>\n",
       "      <td>0.676113</td>\n",
       "      <td>0.786947</td>\n",
       "      <td>8.000000</td>\n",
       "      <td>0.808404</td>\n",
       "      <td>1.000000</td>\n",
       "      <td>0.073958</td>\n",
       "      <td>0.688755</td>\n",
       "      <td>0.082000</td>\n",
       "      <td>0.253550</td>\n",
       "      <td>0.770080</td>\n",
       "      <td>0.565837</td>\n",
       "      <td>267.093000</td>\n",
       "      <td>0.110293</td>\n",
       "      <td>3.000000</td>\n",
       "    </tr>\n",
       "    <tr>\n",
       "      <th>max</th>\n",
       "      <td>1.000000</td>\n",
       "      <td>1.000000</td>\n",
       "      <td>11.000000</td>\n",
       "      <td>1.000000</td>\n",
       "      <td>1.000000</td>\n",
       "      <td>1.000000</td>\n",
       "      <td>1.000000</td>\n",
       "      <td>1.000000</td>\n",
       "      <td>1.000000</td>\n",
       "      <td>1.000000</td>\n",
       "      <td>1.000000</td>\n",
       "      <td>4170.227000</td>\n",
       "      <td>1.000000</td>\n",
       "      <td>5.000000</td>\n",
       "    </tr>\n",
       "  </tbody>\n",
       "</table>\n",
       "</div>\n",
       "      <button class=\"colab-df-convert\" onclick=\"convertToInteractive('df-7e05a0e3-0ac7-435f-874f-0152708c3fc7')\"\n",
       "              title=\"Convert this dataframe to an interactive table.\"\n",
       "              style=\"display:none;\">\n",
       "        \n",
       "  <svg xmlns=\"http://www.w3.org/2000/svg\" height=\"24px\"viewBox=\"0 0 24 24\"\n",
       "       width=\"24px\">\n",
       "    <path d=\"M0 0h24v24H0V0z\" fill=\"none\"/>\n",
       "    <path d=\"M18.56 5.44l.94 2.06.94-2.06 2.06-.94-2.06-.94-.94-2.06-.94 2.06-2.06.94zm-11 1L8.5 8.5l.94-2.06 2.06-.94-2.06-.94L8.5 2.5l-.94 2.06-2.06.94zm10 10l.94 2.06.94-2.06 2.06-.94-2.06-.94-.94-2.06-.94 2.06-2.06.94z\"/><path d=\"M17.41 7.96l-1.37-1.37c-.4-.4-.92-.59-1.43-.59-.52 0-1.04.2-1.43.59L10.3 9.45l-7.72 7.72c-.78.78-.78 2.05 0 2.83L4 21.41c.39.39.9.59 1.41.59.51 0 1.02-.2 1.41-.59l7.78-7.78 2.81-2.81c.8-.78.8-2.07 0-2.86zM5.41 20L4 18.59l7.72-7.72 1.47 1.35L5.41 20z\"/>\n",
       "  </svg>\n",
       "      </button>\n",
       "      \n",
       "  <style>\n",
       "    .colab-df-container {\n",
       "      display:flex;\n",
       "      flex-wrap:wrap;\n",
       "      gap: 12px;\n",
       "    }\n",
       "\n",
       "    .colab-df-convert {\n",
       "      background-color: #E8F0FE;\n",
       "      border: none;\n",
       "      border-radius: 50%;\n",
       "      cursor: pointer;\n",
       "      display: none;\n",
       "      fill: #1967D2;\n",
       "      height: 32px;\n",
       "      padding: 0 0 0 0;\n",
       "      width: 32px;\n",
       "    }\n",
       "\n",
       "    .colab-df-convert:hover {\n",
       "      background-color: #E2EBFA;\n",
       "      box-shadow: 0px 1px 2px rgba(60, 64, 67, 0.3), 0px 1px 3px 1px rgba(60, 64, 67, 0.15);\n",
       "      fill: #174EA6;\n",
       "    }\n",
       "\n",
       "    [theme=dark] .colab-df-convert {\n",
       "      background-color: #3B4455;\n",
       "      fill: #D2E3FC;\n",
       "    }\n",
       "\n",
       "    [theme=dark] .colab-df-convert:hover {\n",
       "      background-color: #434B5C;\n",
       "      box-shadow: 0px 1px 3px 1px rgba(0, 0, 0, 0.15);\n",
       "      filter: drop-shadow(0px 1px 2px rgba(0, 0, 0, 0.3));\n",
       "      fill: #FFFFFF;\n",
       "    }\n",
       "  </style>\n",
       "\n",
       "      <script>\n",
       "        const buttonEl =\n",
       "          document.querySelector('#df-7e05a0e3-0ac7-435f-874f-0152708c3fc7 button.colab-df-convert');\n",
       "        buttonEl.style.display =\n",
       "          google.colab.kernel.accessAllowed ? 'block' : 'none';\n",
       "\n",
       "        async function convertToInteractive(key) {\n",
       "          const element = document.querySelector('#df-7e05a0e3-0ac7-435f-874f-0152708c3fc7');\n",
       "          const dataTable =\n",
       "            await google.colab.kernel.invokeFunction('convertToInteractive',\n",
       "                                                     [key], {});\n",
       "          if (!dataTable) return;\n",
       "\n",
       "          const docLinkHtml = 'Like what you see? Visit the ' +\n",
       "            '<a target=\"_blank\" href=https://colab.research.google.com/notebooks/data_table.ipynb>data table notebook</a>'\n",
       "            + ' to learn more about interactive tables.';\n",
       "          element.innerHTML = '';\n",
       "          dataTable['output_type'] = 'display_data';\n",
       "          await google.colab.output.renderOutput(dataTable, element);\n",
       "          const docLink = document.createElement('div');\n",
       "          docLink.innerHTML = docLinkHtml;\n",
       "          element.appendChild(docLink);\n",
       "        }\n",
       "      </script>\n",
       "    </div>\n",
       "  </div>\n",
       "  "
      ],
      "text/plain": [
       "       danceability        energy           key      loudness          mode  \\\n",
       "count  35853.000000  35853.000000  35853.000000  35853.000000  35853.000000   \n",
       "mean       0.543350      0.577640      5.198393      0.734854      0.691351   \n",
       "std        0.181269      0.254805      3.533529      0.101619      0.461942   \n",
       "min        0.000000      0.000000      0.000000      0.000000      0.000000   \n",
       "25%        0.421053      0.391847      2.000000      0.685378      0.000000   \n",
       "50%        0.555668      0.598899      5.000000      0.753590      1.000000   \n",
       "75%        0.676113      0.786947      8.000000      0.808404      1.000000   \n",
       "max        1.000000      1.000000     11.000000      1.000000      1.000000   \n",
       "\n",
       "        speechiness  acousticness  instrumentalness      liveness  \\\n",
       "count  35853.000000  35853.000000      35853.000000  35853.000000   \n",
       "mean       0.077077      0.370930          0.161870      0.192366   \n",
       "std        0.091748      0.342750          0.309411      0.176929   \n",
       "min        0.000000      0.000000          0.000000      0.000000   \n",
       "25%        0.035313      0.039458          0.000000      0.082252   \n",
       "50%        0.045625      0.268072          0.000143      0.120690   \n",
       "75%        0.073958      0.688755          0.082000      0.253550   \n",
       "max        1.000000      1.000000          1.000000      1.000000   \n",
       "\n",
       "            valence         tempo    duration_s    chorus_hit         genre  \n",
       "count  35853.000000  35853.000000  35853.000000  35853.000000  35853.000000  \n",
       "mean       0.542389      0.494077    235.412968      0.092798      2.755167  \n",
       "std        0.270009      0.121035    122.663760      0.044278      1.301983  \n",
       "min        0.000000      0.000000     15.168000      0.000000      0.000000  \n",
       "25%        0.327309      0.402551    172.213000      0.063651      2.000000  \n",
       "50%        0.558233      0.486246    217.627000      0.082863      2.000000  \n",
       "75%        0.770080      0.565837    267.093000      0.110293      3.000000  \n",
       "max        1.000000      1.000000   4170.227000      1.000000      5.000000  "
      ]
     },
     "execution_count": 7,
     "metadata": {},
     "output_type": "execute_result"
    }
   ],
   "source": [
    "from sklearn.neural_network import MLPClassifier\n",
    "from sklearn.model_selection import train_test_split\n",
    "from sklearn.preprocessing import StandardScaler\n",
    "from sklearn.preprocessing import MinMaxScaler\n",
    "\n",
    "songdata[['acousticness', 'danceability', 'energy', 'instrumentalness', 'liveness', 'loudness', 'tempo', 'time_signature', 'valence', 'mode', 'speechiness', 'chorus_hit', 'sections']] = MinMaxScaler().fit_transform(songdata[['acousticness', 'danceability', 'energy', 'instrumentalness', 'liveness', 'loudness', 'tempo', 'time_signature', 'valence', 'mode', 'speechiness', 'chorus_hit', 'sections']])\n",
    "\n",
    "songdata.drop(columns=['popularity', 'track', 'artist', 'decade', 'time_signature', 'sections'], inplace=True)\n",
    "songdata.describe()"
   ]
  },
  {
   "cell_type": "code",
   "execution_count": null,
   "id": "b02ef223",
   "metadata": {
    "id": "b02ef223",
    "outputId": "caa05c42-cc69-49e9-ef74-d8881e57245d"
   },
   "outputs": [
    {
     "data": {
      "text/plain": [
       "2    14247\n",
       "3     9499\n",
       "5     6157\n",
       "1     2497\n",
       "4     2127\n",
       "0     1326\n",
       "Name: genre, dtype: int64"
      ]
     },
     "execution_count": 13,
     "metadata": {},
     "output_type": "execute_result"
    }
   ],
   "source": [
    "songdata['genre'].value_counts()"
   ]
  },
  {
   "cell_type": "markdown",
   "id": "4be525e2",
   "metadata": {
    "id": "4be525e2"
   },
   "source": [
    "We note that the numbers of each songs per category are different. For example, there are 14247 songs in the Pop genre, whereas there are only 1326 songs in the EDM genre. Although using a Train/Test model would help to obtain random sampling of data, as there is a huge difference in sample size between song categories, we run the risk of introducing a significant sampling bias. \n",
    "\n",
    "Hence, we use Stratified Sampling Technique, which would help to eliminate the biasness of the selection of data.\n",
    "\n",
    "Source: https://medium.com/@IrekponorVictor/creating-an-unbiased-test-set-for-your-model-using-stratified-sampling-technique-672b778022d5"
   ]
  },
  {
   "cell_type": "code",
   "execution_count": null,
   "id": "d2bba12c",
   "metadata": {
    "id": "d2bba12c"
   },
   "outputs": [],
   "source": [
    "# importing StratifiedShuffleSplit\n",
    "from sklearn.model_selection import StratifiedShuffleSplit\n",
    "\n",
    "#split = StratifiedShuffleSplit(n_splits=1, test_size=0.2)\n",
    "# try out 10% test\n",
    "split = StratifiedShuffleSplit(n_splits=1, test_size=0.1)\n",
    "\n",
    "for train_index, test_index in split.split(songdata, songdata['genre']):\n",
    "     train_set, test_set = songdata.iloc[train_index], songdata.iloc[test_index]\n",
    "\n",
    "# after obtaining train/test set, proceed to split train into X and y train set, and test into x and y test set\n",
    "y_train = pd.DataFrame(train_set['genre'])\n",
    "x_train = train_set\n",
    "x_train = x_train.drop(columns=['genre', 'chorus_hit'])\n",
    "\n",
    "y_test = pd.DataFrame(test_set['genre'])\n",
    "x_test = test_set\n",
    "x_test = x_test.drop(columns=['genre', 'chorus_hit'])"
   ]
  },
  {
   "cell_type": "markdown",
   "id": "292f2b90",
   "metadata": {
    "id": "292f2b90"
   },
   "source": [
    "Check how many songs in each genre there are in train/test set"
   ]
  },
  {
   "cell_type": "code",
   "execution_count": null,
   "id": "962c20a4",
   "metadata": {
    "id": "962c20a4"
   },
   "outputs": [],
   "source": [
    "x_train.value_counts()"
   ]
  },
  {
   "cell_type": "code",
   "execution_count": null,
   "id": "6d6d3dab",
   "metadata": {
    "id": "6d6d3dab"
   },
   "outputs": [],
   "source": [
    "x_test.value_counts()"
   ]
  },
  {
   "cell_type": "code",
   "execution_count": null,
   "id": "adde23ee",
   "metadata": {
    "id": "adde23ee",
    "outputId": "0e9cfee3-f222-42a6-fb69-c9aa566f13c8"
   },
   "outputs": [
    {
     "data": {
      "text/plain": [
       "genre\n",
       "2        12822\n",
       "3         8549\n",
       "5         5541\n",
       "1         2247\n",
       "4         1914\n",
       "0         1194\n",
       "dtype: int64"
      ]
     },
     "execution_count": 21,
     "metadata": {},
     "output_type": "execute_result"
    }
   ],
   "source": [
    "y_train.value_counts()"
   ]
  },
  {
   "cell_type": "code",
   "execution_count": null,
   "id": "d2c7155c",
   "metadata": {
    "id": "d2c7155c",
    "outputId": "9e709c6e-6122-43fe-e7c3-10057cdc4c44"
   },
   "outputs": [
    {
     "data": {
      "text/plain": [
       "genre\n",
       "2        1425\n",
       "3         950\n",
       "5         616\n",
       "1         250\n",
       "4         213\n",
       "0         132\n",
       "dtype: int64"
      ]
     },
     "execution_count": 22,
     "metadata": {},
     "output_type": "execute_result"
    }
   ],
   "source": [
    "y_test.value_counts()"
   ]
  },
  {
   "cell_type": "markdown",
   "id": "5e01ad5b",
   "metadata": {
    "id": "5e01ad5b"
   },
   "source": [
    "After obtaining Train/Test data, use MLPClassifier.\n",
    "\n",
    "This time, the following changes have been made:\n",
    "1. Hidden layer increased to 5 layers, min 200 neurons per layer\n",
    "2. Max iterations increased to 2000\n",
    "3. Learning rate set to adaptive\n",
    "4. Batch size reduced to 10"
   ]
  },
  {
   "cell_type": "code",
   "execution_count": null,
   "id": "dc4439a9",
   "metadata": {
    "id": "dc4439a9"
   },
   "outputs": [],
   "source": [
    "def accuracy(confusion_matrix):\n",
    "   diagonal_sum = confusion_matrix.trace()\n",
    "   sum_of_all_elements = confusion_matrix.sum()\n",
    "   return diagonal_sum / sum_of_all_elements"
   ]
  },
  {
   "cell_type": "code",
   "execution_count": null,
   "id": "4d909bd4",
   "metadata": {
    "colab": {
     "base_uri": "https://localhost:8080/"
    },
    "executionInfo": {
     "elapsed": 7651260,
     "status": "ok",
     "timestamp": 1647956909928,
     "user": {
      "displayName": "Daniel Tan",
      "photoUrl": "https://lh3.googleusercontent.com/a-/AOh14Gh2rCY9GFaFOEwAtqfOOiYbt_xDtEymQK_Nbcw_fg=s64",
      "userId": "08000639285833235229"
     },
     "user_tz": -480
    },
    "id": "4d909bd4",
    "outputId": "aeb3d062-febf-4649-a150-92141a33c226"
   },
   "outputs": [
    {
     "name": "stderr",
     "output_type": "stream",
     "text": [
      "/usr/local/lib/python3.7/dist-packages/sklearn/neural_network/_multilayer_perceptron.py:699: UserWarning: Training interrupted by user.\n",
      "  warnings.warn(\"Training interrupted by user.\")\n"
     ]
    },
    {
     "name": "stdout",
     "output_type": "stream",
     "text": [
      "Accuracy of MLPClassifier :  0.783493972169709\n"
     ]
    }
   ],
   "source": [
    "#Initializing the MLPClassifier\n",
    "classifier = MLPClassifier(hidden_layer_sizes=(400, 350, 300, 250, 200), \n",
    "                           max_iter= 2000,activation = 'relu',\n",
    "                           solver='sgd', learning_rate = 'adaptive', \n",
    "                           learning_rate_init = 0.0001, batch_size=10,\n",
    "                           random_state=1)\n",
    "\n",
    "classifier.fit(x_train, y_train.values.ravel())\n",
    "y_pred = classifier.predict(x_train)\n",
    "\n",
    "#Importing Confusion Matrix\n",
    "from sklearn.metrics import confusion_matrix\n",
    "#Comparing the predictions against the actual observations in y_val\n",
    "cm = confusion_matrix(y_pred, y_train)\n",
    "\n",
    "#Printing the accuracy\n",
    "print(\"Accuracy of MLPClassifier : \", accuracy(cm))"
   ]
  },
  {
   "cell_type": "markdown",
   "id": "c49345f0",
   "metadata": {
    "id": "c49345f0"
   },
   "source": [
    "Try plotting the correlation matrix."
   ]
  },
  {
   "cell_type": "code",
   "execution_count": null,
   "id": "d701154c",
   "metadata": {
    "colab": {
     "base_uri": "https://localhost:8080/",
     "height": 285
    },
    "executionInfo": {
     "elapsed": 782,
     "status": "ok",
     "timestamp": 1647956910689,
     "user": {
      "displayName": "Daniel Tan",
      "photoUrl": "https://lh3.googleusercontent.com/a-/AOh14Gh2rCY9GFaFOEwAtqfOOiYbt_xDtEymQK_Nbcw_fg=s64",
      "userId": "08000639285833235229"
     },
     "user_tz": -480
    },
    "id": "d701154c",
    "outputId": "74b20dfe-7261-4185-ba74-53e74d1ef75e"
   },
   "outputs": [
    {
     "data": {
      "text/plain": [
       "<matplotlib.axes._subplots.AxesSubplot at 0x7fcb466e8910>"
      ]
     },
     "execution_count": 11,
     "metadata": {},
     "output_type": "execute_result"
    },
    {
     "data": {
      "image/png": "[encoded data removed]",
      "text/plain": [
       "<Figure size 432x288 with 2 Axes>"
      ]
     },
     "metadata": {},
     "output_type": "display_data"
    }
   ],
   "source": [
    "sb.heatmap(cm, annot=True, fmt=\".0f\", annot_kws={\"size\":18})"
   ]
  },
  {
   "cell_type": "markdown",
   "id": "7331ca3c",
   "metadata": {
    "id": "7331ca3c"
   },
   "source": [
    "Check the accuracy on the test data."
   ]
  },
  {
   "cell_type": "code",
   "execution_count": null,
   "id": "f401d7e2",
   "metadata": {
    "colab": {
     "base_uri": "https://localhost:8080/"
    },
    "executionInfo": {
     "elapsed": 337,
     "status": "ok",
     "timestamp": 1647957191674,
     "user": {
      "displayName": "Daniel Tan",
      "photoUrl": "https://lh3.googleusercontent.com/a-/AOh14Gh2rCY9GFaFOEwAtqfOOiYbt_xDtEymQK_Nbcw_fg=s64",
      "userId": "08000639285833235229"
     },
     "user_tz": -480
    },
    "id": "f401d7e2",
    "outputId": "ecdbd69c-81da-4cc5-abb5-e49f961408af"
   },
   "outputs": [
    {
     "name": "stdout",
     "output_type": "stream",
     "text": [
      "Accuracy of MLPClassifier on test data : 0.9152258784160625\n"
     ]
    },
    {
     "name": "stderr",
     "output_type": "stream",
     "text": [
      "/usr/local/lib/python3.7/dist-packages/sklearn/base.py:444: UserWarning: X has feature names, but MLPClassifier was fitted without feature names\n",
      "  f\"X has feature names, but {self.__class__.__name__} was fitted without\"\n"
     ]
    }
   ],
   "source": [
    "y_test_pred = classifier.predict(x_test)\n",
    "\n",
    "cm = confusion_matrix(y_test_pred, y_test)\n",
    "\n",
    "# print accuracy\n",
    "print('Accuracy of MLPClassifier on test data :', accuracy(cm))"
   ]
  },
  {
   "cell_type": "code",
   "execution_count": null,
   "id": "Of7J2MKEbKpL",
   "metadata": {
    "colab": {
     "base_uri": "https://localhost:8080/",
     "height": 285
    },
    "executionInfo": {
     "elapsed": 1674,
     "status": "ok",
     "timestamp": 1647957198846,
     "user": {
      "displayName": "Daniel Tan",
      "photoUrl": "https://lh3.googleusercontent.com/a-/AOh14Gh2rCY9GFaFOEwAtqfOOiYbt_xDtEymQK_Nbcw_fg=s64",
      "userId": "08000639285833235229"
     },
     "user_tz": -480
    },
    "id": "Of7J2MKEbKpL",
    "outputId": "fb526bb8-5854-48c2-b8d9-3d2c5506fa98"
   },
   "outputs": [
    {
     "data": {
      "text/plain": [
       "<matplotlib.axes._subplots.AxesSubplot at 0x7fcb4366db50>"
      ]
     },
     "execution_count": 17,
     "metadata": {},
     "output_type": "execute_result"
    },
    {
     "data": {
      "image/png": "[encoded data removed]",
      "text/plain": [
       "<Figure size 432x288 with 2 Axes>"
      ]
     },
     "metadata": {},
     "output_type": "display_data"
    }
   ],
   "source": [
    "sb.heatmap(cm, annot=True, fmt=\".0f\", annot_kws={\"size\":18})"
   ]
  },
  {
   "cell_type": "markdown",
   "id": "wCZhzTPjPgzs",
   "metadata": {
    "id": "wCZhzTPjPgzs"
   },
   "source": [
    "The model is much more accurate compared to the initial model, and it is now able to predict the various genres much more accurately. However, the model is still not the best as it is still incorrectly predicting the genre of many songs. This suggests that the predictor variables the model has been trained on is not unique enough to differentiate clearly between the genres. Further exploration of the music characteristics of the overlaping genres is needed, and this is done in the notebook \"EDA - Characteristics of Genre\"."
   ]
  },
  {
   "cell_type": "markdown",
   "id": "FgC-u-ZEPN72",
   "metadata": {
    "id": "FgC-u-ZEPN72"
   },
   "source": [
    "Save the model into a file with pickle to load later."
   ]
  },
  {
   "cell_type": "code",
   "execution_count": null,
   "id": "9d558116",
   "metadata": {
    "id": "9d558116"
   },
   "outputs": [],
   "source": [
    "import pickle\n",
    "\n",
    "# save the model to disk\n",
    "filename = 'models/90pct_model.sav'\n",
    "pickle.dump(classifier, open(filename, 'wb'))"
   ]
  }
 ],
 "metadata": {
  "colab": {
   "collapsed_sections": [],
   "name": "90pct_Model.ipynb",
   "provenance": []
  },
  "kernelspec": {
   "display_name": "Python 3 (ipykernel)",
   "language": "python",
   "name": "python3"
  },
  "language_info": {
   "codemirror_mode": {
    "name": "ipython",
    "version": 3
   },
   "file_extension": ".py",
   "mimetype": "text/x-python",
   "name": "python",
   "nbconvert_exporter": "python",
   "pygments_lexer": "ipython3",
   "version": "3.9.7"
  },
  "papermill": {
   "default_parameters": {},
   "duration": 12.896024,
   "end_time": "2022-02-16T02:25:53.224422",
   "environment_variables": {},
   "exception": null,
   "input_path": "__notebook__.ipynb",
   "output_path": "__notebook__.ipynb",
   "parameters": {},
   "start_time": "2022-02-16T02:25:40.328398",
   "version": "2.3.3"
  }
 },
 "nbformat": 4,
 "nbformat_minor": 5
}
