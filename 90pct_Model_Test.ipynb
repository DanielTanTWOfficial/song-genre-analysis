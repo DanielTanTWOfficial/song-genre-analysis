{
 "cells": [
  {
   "cell_type": "markdown",
   "id": "b9bd9501",
   "metadata": {
    "id": "b9bd9501",
    "papermill": {
     "duration": 0.015558,
     "end_time": "2022-02-16T02:25:50.528603",
     "exception": false,
     "start_time": "2022-02-16T02:25:50.513045",
     "status": "completed"
    },
    "tags": []
   },
   "source": [
    "## 90 Percent Model Testing File\n",
    "\n",
    "In this notebook, we load the saved 90 percent model and display its accuracy on the train and test datasets."
   ]
  },
  {
   "cell_type": "code",
   "execution_count": 1,
   "id": "7ef1aef5",
   "metadata": {
    "_cell_guid": "b1076dfc-b9ad-4769-8c92-a6c4dae69d19",
    "_uuid": "8f2839f25d086af736a60e9eeb907d3b93b6e0e5",
    "execution": {
     "iopub.execute_input": "2022-02-16T02:25:50.562033Z",
     "iopub.status.busy": "2022-02-16T02:25:50.560858Z",
     "iopub.status.idle": "2022-02-16T02:25:51.653868Z",
     "shell.execute_reply": "2022-02-16T02:25:51.653194Z",
     "shell.execute_reply.started": "2022-02-16T01:58:06.734377Z"
    },
    "id": "7ef1aef5",
    "papermill": {
     "duration": 1.111296,
     "end_time": "2022-02-16T02:25:51.654060",
     "exception": false,
     "start_time": "2022-02-16T02:25:50.542764",
     "status": "completed"
    },
    "tags": []
   },
   "outputs": [],
   "source": [
    "import numpy as np\n",
    "import pandas as pd\n",
    "import matplotlib.pyplot as plt\n",
    "import seaborn as sb\n",
    "sb.set()"
   ]
  },
  {
   "cell_type": "markdown",
   "id": "OD4Y0j6rSjes",
   "metadata": {
    "id": "OD4Y0j6rSjes"
   },
   "source": [
    "Import the dataset we will be using:"
   ]
  },
  {
   "cell_type": "code",
   "execution_count": 2,
   "id": "5f433dfd",
   "metadata": {
    "execution": {
     "iopub.execute_input": "2022-02-16T02:25:51.717449Z",
     "iopub.status.busy": "2022-02-16T02:25:51.716702Z",
     "iopub.status.idle": "2022-02-16T02:25:51.891228Z",
     "shell.execute_reply": "2022-02-16T02:25:51.890727Z",
     "shell.execute_reply.started": "2022-02-16T01:58:07.738499Z"
    },
    "id": "5f433dfd",
    "papermill": {
     "duration": 0.194273,
     "end_time": "2022-02-16T02:25:51.891373",
     "exception": false,
     "start_time": "2022-02-16T02:25:51.697100",
     "status": "completed"
    },
    "tags": []
   },
   "outputs": [],
   "source": [
    "songdata = pd.read_csv('data/genre_music_cleaned.csv')\n",
    "songdata = songdata.sort_values(['track'])"
   ]
  },
  {
   "cell_type": "markdown",
   "id": "9311ee65",
   "metadata": {
    "id": "9311ee65"
   },
   "source": [
    "Labelling of response variable and scaling of predictor variables."
   ]
  },
  {
   "cell_type": "code",
   "execution_count": 3,
   "id": "8d52701d",
   "metadata": {
    "colab": {
     "base_uri": "https://localhost:8080/",
     "height": 548
    },
    "executionInfo": {
     "elapsed": 341,
     "status": "ok",
     "timestamp": 1647949227420,
     "user": {
      "displayName": "Daniel Tan",
      "photoUrl": "https://lh3.googleusercontent.com/a-/AOh14Gh2rCY9GFaFOEwAtqfOOiYbt_xDtEymQK_Nbcw_fg=s64",
      "userId": "08000639285833235229"
     },
     "user_tz": -480
    },
    "id": "8d52701d",
    "outputId": "aee8fd11-6935-442f-a55b-f62f513f4eba"
   },
   "outputs": [
    {
     "data": {
      "text/html": [
       "<div>\n",
       "<style scoped>\n",
       "    .dataframe tbody tr th:only-of-type {\n",
       "        vertical-align: middle;\n",
       "    }\n",
       "\n",
       "    .dataframe tbody tr th {\n",
       "        vertical-align: top;\n",
       "    }\n",
       "\n",
       "    .dataframe thead th {\n",
       "        text-align: right;\n",
       "    }\n",
       "</style>\n",
       "<table border=\"1\" class=\"dataframe\">\n",
       "  <thead>\n",
       "    <tr style=\"text-align: right;\">\n",
       "      <th></th>\n",
       "      <th>track</th>\n",
       "      <th>artist</th>\n",
       "      <th>danceability</th>\n",
       "      <th>energy</th>\n",
       "      <th>key</th>\n",
       "      <th>loudness</th>\n",
       "      <th>mode</th>\n",
       "      <th>speechiness</th>\n",
       "      <th>acousticness</th>\n",
       "      <th>instrumentalness</th>\n",
       "      <th>liveness</th>\n",
       "      <th>valence</th>\n",
       "      <th>tempo</th>\n",
       "      <th>duration_s</th>\n",
       "      <th>time_signature</th>\n",
       "      <th>chorus_hit</th>\n",
       "      <th>sections</th>\n",
       "      <th>popularity</th>\n",
       "      <th>decade</th>\n",
       "      <th>genre</th>\n",
       "    </tr>\n",
       "  </thead>\n",
       "  <tbody>\n",
       "    <tr>\n",
       "      <th>10557</th>\n",
       "      <td>\"\"Cherry Cherry\"\" from Hot August Night</td>\n",
       "      <td>Neil Diamond</td>\n",
       "      <td>0.341</td>\n",
       "      <td>0.9480</td>\n",
       "      <td>9</td>\n",
       "      <td>-5.081</td>\n",
       "      <td>1</td>\n",
       "      <td>0.1360</td>\n",
       "      <td>0.10100</td>\n",
       "      <td>0.00148</td>\n",
       "      <td>0.874</td>\n",
       "      <td>0.6320</td>\n",
       "      <td>171.578</td>\n",
       "      <td>443.320</td>\n",
       "      <td>4</td>\n",
       "      <td>53.79041</td>\n",
       "      <td>16</td>\n",
       "      <td>1</td>\n",
       "      <td>70s</td>\n",
       "      <td>5</td>\n",
       "    </tr>\n",
       "    <tr>\n",
       "      <th>4496</th>\n",
       "      <td>\"\"Come, Sleep...\"\"</td>\n",
       "      <td>Louise Bogan</td>\n",
       "      <td>0.734</td>\n",
       "      <td>0.0694</td>\n",
       "      <td>3</td>\n",
       "      <td>-24.330</td>\n",
       "      <td>1</td>\n",
       "      <td>0.9170</td>\n",
       "      <td>0.61100</td>\n",
       "      <td>0.00000</td>\n",
       "      <td>0.106</td>\n",
       "      <td>0.3190</td>\n",
       "      <td>108.734</td>\n",
       "      <td>78.472</td>\n",
       "      <td>5</td>\n",
       "      <td>31.28651</td>\n",
       "      <td>4</td>\n",
       "      <td>0</td>\n",
       "      <td>60s</td>\n",
       "      <td>4</td>\n",
       "    </tr>\n",
       "    <tr>\n",
       "      <th>19258</th>\n",
       "      <td>\"\"I'll Be Back\"\" / Police Station &amp; Escape</td>\n",
       "      <td>Brad Fiedel</td>\n",
       "      <td>0.201</td>\n",
       "      <td>0.3910</td>\n",
       "      <td>7</td>\n",
       "      <td>-16.067</td>\n",
       "      <td>1</td>\n",
       "      <td>0.0479</td>\n",
       "      <td>0.88900</td>\n",
       "      <td>0.86400</td>\n",
       "      <td>0.111</td>\n",
       "      <td>0.1810</td>\n",
       "      <td>59.801</td>\n",
       "      <td>226.310</td>\n",
       "      <td>4</td>\n",
       "      <td>38.29173</td>\n",
       "      <td>10</td>\n",
       "      <td>0</td>\n",
       "      <td>80s</td>\n",
       "      <td>5</td>\n",
       "    </tr>\n",
       "    <tr>\n",
       "      <th>34244</th>\n",
       "      <td>\"\"Is This My Fate,\"\" He Asked Them</td>\n",
       "      <td>Story Of The Year</td>\n",
       "      <td>0.254</td>\n",
       "      <td>0.9700</td>\n",
       "      <td>8</td>\n",
       "      <td>-4.635</td>\n",
       "      <td>1</td>\n",
       "      <td>0.0789</td>\n",
       "      <td>0.00015</td>\n",
       "      <td>0.00586</td>\n",
       "      <td>0.141</td>\n",
       "      <td>0.1660</td>\n",
       "      <td>99.963</td>\n",
       "      <td>300.520</td>\n",
       "      <td>4</td>\n",
       "      <td>55.19977</td>\n",
       "      <td>13</td>\n",
       "      <td>0</td>\n",
       "      <td>10s</td>\n",
       "      <td>5</td>\n",
       "    </tr>\n",
       "    <tr>\n",
       "      <th>13984</th>\n",
       "      <td>\"\"Jerry\"\" To The Rescue</td>\n",
       "      <td>Pino Donaggio</td>\n",
       "      <td>0.215</td>\n",
       "      <td>0.2420</td>\n",
       "      <td>0</td>\n",
       "      <td>-15.141</td>\n",
       "      <td>0</td>\n",
       "      <td>0.0398</td>\n",
       "      <td>0.58400</td>\n",
       "      <td>0.93600</td>\n",
       "      <td>0.146</td>\n",
       "      <td>0.0613</td>\n",
       "      <td>116.234</td>\n",
       "      <td>143.520</td>\n",
       "      <td>4</td>\n",
       "      <td>25.60898</td>\n",
       "      <td>9</td>\n",
       "      <td>0</td>\n",
       "      <td>70s</td>\n",
       "      <td>5</td>\n",
       "    </tr>\n",
       "  </tbody>\n",
       "</table>\n",
       "</div>"
      ],
      "text/plain": [
       "                                            track             artist  \\\n",
       "10557     \"\"Cherry Cherry\"\" from Hot August Night       Neil Diamond   \n",
       "4496                           \"\"Come, Sleep...\"\"       Louise Bogan   \n",
       "19258  \"\"I'll Be Back\"\" / Police Station & Escape        Brad Fiedel   \n",
       "34244          \"\"Is This My Fate,\"\" He Asked Them  Story Of The Year   \n",
       "13984                     \"\"Jerry\"\" To The Rescue      Pino Donaggio   \n",
       "\n",
       "       danceability  energy  key  loudness  mode  speechiness  acousticness  \\\n",
       "10557         0.341  0.9480    9    -5.081     1       0.1360       0.10100   \n",
       "4496          0.734  0.0694    3   -24.330     1       0.9170       0.61100   \n",
       "19258         0.201  0.3910    7   -16.067     1       0.0479       0.88900   \n",
       "34244         0.254  0.9700    8    -4.635     1       0.0789       0.00015   \n",
       "13984         0.215  0.2420    0   -15.141     0       0.0398       0.58400   \n",
       "\n",
       "       instrumentalness  liveness  valence    tempo  duration_s  \\\n",
       "10557           0.00148     0.874   0.6320  171.578     443.320   \n",
       "4496            0.00000     0.106   0.3190  108.734      78.472   \n",
       "19258           0.86400     0.111   0.1810   59.801     226.310   \n",
       "34244           0.00586     0.141   0.1660   99.963     300.520   \n",
       "13984           0.93600     0.146   0.0613  116.234     143.520   \n",
       "\n",
       "       time_signature  chorus_hit  sections  popularity decade  genre  \n",
       "10557               4    53.79041        16           1    70s      5  \n",
       "4496                5    31.28651         4           0    60s      4  \n",
       "19258               4    38.29173        10           0    80s      5  \n",
       "34244               4    55.19977        13           0    10s      5  \n",
       "13984               4    25.60898         9           0    70s      5  "
      ]
     },
     "execution_count": 3,
     "metadata": {},
     "output_type": "execute_result"
    }
   ],
   "source": [
    "from sklearn.preprocessing import LabelEncoder\n",
    "\n",
    "# label encoding genre\n",
    "songdata['genre'] = LabelEncoder().fit_transform(songdata['genre'])\n",
    "songdata.head()"
   ]
  },
  {
   "cell_type": "markdown",
   "id": "91b629d6",
   "metadata": {
    "id": "91b629d6"
   },
   "source": [
    "We now need to scale the predictor variables so that they can be used together to predict the genres."
   ]
  },
  {
   "cell_type": "code",
   "execution_count": 4,
   "id": "d003d43e",
   "metadata": {
    "colab": {
     "base_uri": "https://localhost:8080/",
     "height": 364
    },
    "executionInfo": {
     "elapsed": 381,
     "status": "ok",
     "timestamp": 1647949232047,
     "user": {
      "displayName": "Daniel Tan",
      "photoUrl": "https://lh3.googleusercontent.com/a-/AOh14Gh2rCY9GFaFOEwAtqfOOiYbt_xDtEymQK_Nbcw_fg=s64",
      "userId": "08000639285833235229"
     },
     "user_tz": -480
    },
    "id": "d003d43e",
    "outputId": "e1f459c9-a44f-4fe9-ea01-922bf031c85f"
   },
   "outputs": [
    {
     "data": {
      "text/html": [
       "<div>\n",
       "<style scoped>\n",
       "    .dataframe tbody tr th:only-of-type {\n",
       "        vertical-align: middle;\n",
       "    }\n",
       "\n",
       "    .dataframe tbody tr th {\n",
       "        vertical-align: top;\n",
       "    }\n",
       "\n",
       "    .dataframe thead th {\n",
       "        text-align: right;\n",
       "    }\n",
       "</style>\n",
       "<table border=\"1\" class=\"dataframe\">\n",
       "  <thead>\n",
       "    <tr style=\"text-align: right;\">\n",
       "      <th></th>\n",
       "      <th>danceability</th>\n",
       "      <th>energy</th>\n",
       "      <th>key</th>\n",
       "      <th>loudness</th>\n",
       "      <th>mode</th>\n",
       "      <th>speechiness</th>\n",
       "      <th>acousticness</th>\n",
       "      <th>instrumentalness</th>\n",
       "      <th>liveness</th>\n",
       "      <th>valence</th>\n",
       "      <th>tempo</th>\n",
       "      <th>duration_s</th>\n",
       "      <th>chorus_hit</th>\n",
       "      <th>genre</th>\n",
       "    </tr>\n",
       "  </thead>\n",
       "  <tbody>\n",
       "    <tr>\n",
       "      <th>count</th>\n",
       "      <td>35853.000000</td>\n",
       "      <td>35853.000000</td>\n",
       "      <td>35853.000000</td>\n",
       "      <td>35853.000000</td>\n",
       "      <td>35853.000000</td>\n",
       "      <td>35853.000000</td>\n",
       "      <td>35853.000000</td>\n",
       "      <td>35853.000000</td>\n",
       "      <td>35853.000000</td>\n",
       "      <td>35853.000000</td>\n",
       "      <td>35853.000000</td>\n",
       "      <td>35853.000000</td>\n",
       "      <td>35853.000000</td>\n",
       "      <td>35853.000000</td>\n",
       "    </tr>\n",
       "    <tr>\n",
       "      <th>mean</th>\n",
       "      <td>0.542633</td>\n",
       "      <td>0.575719</td>\n",
       "      <td>5.202605</td>\n",
       "      <td>0.734070</td>\n",
       "      <td>0.692941</td>\n",
       "      <td>0.076686</td>\n",
       "      <td>0.374916</td>\n",
       "      <td>0.161579</td>\n",
       "      <td>0.192288</td>\n",
       "      <td>0.544558</td>\n",
       "      <td>0.494928</td>\n",
       "      <td>234.697358</td>\n",
       "      <td>0.092719</td>\n",
       "      <td>2.757315</td>\n",
       "    </tr>\n",
       "    <tr>\n",
       "      <th>std</th>\n",
       "      <td>0.181162</td>\n",
       "      <td>0.254555</td>\n",
       "      <td>3.533002</td>\n",
       "      <td>0.101216</td>\n",
       "      <td>0.461281</td>\n",
       "      <td>0.091585</td>\n",
       "      <td>0.342635</td>\n",
       "      <td>0.309249</td>\n",
       "      <td>0.176256</td>\n",
       "      <td>0.270307</td>\n",
       "      <td>0.120988</td>\n",
       "      <td>123.102013</td>\n",
       "      <td>0.044200</td>\n",
       "      <td>1.301303</td>\n",
       "    </tr>\n",
       "    <tr>\n",
       "      <th>min</th>\n",
       "      <td>0.000000</td>\n",
       "      <td>0.000000</td>\n",
       "      <td>0.000000</td>\n",
       "      <td>0.000000</td>\n",
       "      <td>0.000000</td>\n",
       "      <td>0.000000</td>\n",
       "      <td>0.000000</td>\n",
       "      <td>0.000000</td>\n",
       "      <td>0.000000</td>\n",
       "      <td>0.000000</td>\n",
       "      <td>0.000000</td>\n",
       "      <td>15.168000</td>\n",
       "      <td>0.000000</td>\n",
       "      <td>0.000000</td>\n",
       "    </tr>\n",
       "    <tr>\n",
       "      <th>25%</th>\n",
       "      <td>0.420040</td>\n",
       "      <td>0.389847</td>\n",
       "      <td>2.000000</td>\n",
       "      <td>0.684963</td>\n",
       "      <td>0.000000</td>\n",
       "      <td>0.035208</td>\n",
       "      <td>0.041466</td>\n",
       "      <td>0.000000</td>\n",
       "      <td>0.082353</td>\n",
       "      <td>0.329317</td>\n",
       "      <td>0.403620</td>\n",
       "      <td>170.667000</td>\n",
       "      <td>0.063628</td>\n",
       "      <td>2.000000</td>\n",
       "    </tr>\n",
       "    <tr>\n",
       "      <th>50%</th>\n",
       "      <td>0.554656</td>\n",
       "      <td>0.595899</td>\n",
       "      <td>5.000000</td>\n",
       "      <td>0.752495</td>\n",
       "      <td>1.000000</td>\n",
       "      <td>0.045417</td>\n",
       "      <td>0.277108</td>\n",
       "      <td>0.000145</td>\n",
       "      <td>0.120690</td>\n",
       "      <td>0.561245</td>\n",
       "      <td>0.487123</td>\n",
       "      <td>216.712000</td>\n",
       "      <td>0.082806</td>\n",
       "      <td>2.000000</td>\n",
       "    </tr>\n",
       "    <tr>\n",
       "      <th>75%</th>\n",
       "      <td>0.675101</td>\n",
       "      <td>0.784946</td>\n",
       "      <td>8.000000</td>\n",
       "      <td>0.806989</td>\n",
       "      <td>1.000000</td>\n",
       "      <td>0.073229</td>\n",
       "      <td>0.693775</td>\n",
       "      <td>0.080800</td>\n",
       "      <td>0.253550</td>\n",
       "      <td>0.773092</td>\n",
       "      <td>0.566713</td>\n",
       "      <td>266.840000</td>\n",
       "      <td>0.110258</td>\n",
       "      <td>3.000000</td>\n",
       "    </tr>\n",
       "    <tr>\n",
       "      <th>max</th>\n",
       "      <td>1.000000</td>\n",
       "      <td>1.000000</td>\n",
       "      <td>11.000000</td>\n",
       "      <td>1.000000</td>\n",
       "      <td>1.000000</td>\n",
       "      <td>1.000000</td>\n",
       "      <td>1.000000</td>\n",
       "      <td>1.000000</td>\n",
       "      <td>1.000000</td>\n",
       "      <td>1.000000</td>\n",
       "      <td>1.000000</td>\n",
       "      <td>4170.227000</td>\n",
       "      <td>1.000000</td>\n",
       "      <td>5.000000</td>\n",
       "    </tr>\n",
       "  </tbody>\n",
       "</table>\n",
       "</div>"
      ],
      "text/plain": [
       "       danceability        energy           key      loudness          mode  \\\n",
       "count  35853.000000  35853.000000  35853.000000  35853.000000  35853.000000   \n",
       "mean       0.542633      0.575719      5.202605      0.734070      0.692941   \n",
       "std        0.181162      0.254555      3.533002      0.101216      0.461281   \n",
       "min        0.000000      0.000000      0.000000      0.000000      0.000000   \n",
       "25%        0.420040      0.389847      2.000000      0.684963      0.000000   \n",
       "50%        0.554656      0.595899      5.000000      0.752495      1.000000   \n",
       "75%        0.675101      0.784946      8.000000      0.806989      1.000000   \n",
       "max        1.000000      1.000000     11.000000      1.000000      1.000000   \n",
       "\n",
       "        speechiness  acousticness  instrumentalness      liveness  \\\n",
       "count  35853.000000  35853.000000      35853.000000  35853.000000   \n",
       "mean       0.076686      0.374916          0.161579      0.192288   \n",
       "std        0.091585      0.342635          0.309249      0.176256   \n",
       "min        0.000000      0.000000          0.000000      0.000000   \n",
       "25%        0.035208      0.041466          0.000000      0.082353   \n",
       "50%        0.045417      0.277108          0.000145      0.120690   \n",
       "75%        0.073229      0.693775          0.080800      0.253550   \n",
       "max        1.000000      1.000000          1.000000      1.000000   \n",
       "\n",
       "            valence         tempo    duration_s    chorus_hit         genre  \n",
       "count  35853.000000  35853.000000  35853.000000  35853.000000  35853.000000  \n",
       "mean       0.544558      0.494928    234.697358      0.092719      2.757315  \n",
       "std        0.270307      0.120988    123.102013      0.044200      1.301303  \n",
       "min        0.000000      0.000000     15.168000      0.000000      0.000000  \n",
       "25%        0.329317      0.403620    170.667000      0.063628      2.000000  \n",
       "50%        0.561245      0.487123    216.712000      0.082806      2.000000  \n",
       "75%        0.773092      0.566713    266.840000      0.110258      3.000000  \n",
       "max        1.000000      1.000000   4170.227000      1.000000      5.000000  "
      ]
     },
     "execution_count": 4,
     "metadata": {},
     "output_type": "execute_result"
    }
   ],
   "source": [
    "from sklearn.neural_network import MLPClassifier\n",
    "from sklearn.model_selection import train_test_split\n",
    "from sklearn.preprocessing import StandardScaler\n",
    "from sklearn.preprocessing import MinMaxScaler\n",
    "\n",
    "songdata[['acousticness', 'danceability', 'energy', 'instrumentalness', 'liveness', 'loudness', 'tempo', 'time_signature', 'valence', 'mode', 'speechiness', 'chorus_hit', 'sections']] = MinMaxScaler().fit_transform(songdata[['acousticness', 'danceability', 'energy', 'instrumentalness', 'liveness', 'loudness', 'tempo', 'time_signature', 'valence', 'mode', 'speechiness', 'chorus_hit', 'sections']])\n",
    "\n",
    "songdata.drop(columns=['popularity', 'track', 'artist', 'decade', 'time_signature', 'sections'], inplace=True)\n",
    "songdata.describe()"
   ]
  },
  {
   "cell_type": "code",
   "execution_count": 5,
   "id": "b02ef223",
   "metadata": {
    "id": "b02ef223",
    "outputId": "caa05c42-cc69-49e9-ef74-d8881e57245d"
   },
   "outputs": [
    {
     "data": {
      "text/plain": [
       "2    14329\n",
       "3     9455\n",
       "5     6190\n",
       "1     2469\n",
       "4     2104\n",
       "0     1306\n",
       "Name: genre, dtype: int64"
      ]
     },
     "execution_count": 5,
     "metadata": {},
     "output_type": "execute_result"
    }
   ],
   "source": [
    "songdata['genre'].value_counts()"
   ]
  },
  {
   "cell_type": "markdown",
   "id": "4be525e2",
   "metadata": {
    "id": "4be525e2"
   },
   "source": [
    "We note that the numbers of each songs per category are different. For example, there are 14247 songs in the Pop genre, whereas there are only 1326 songs in the EDM genre. Although using a Train/Test model would help to obtain random sampling of data, as there is a huge difference in sample size between song categories, we run the risk of introducing a significant sampling bias. \n",
    "\n",
    "Hence, we use Stratified Sampling Technique, which would help to eliminate the biasness of the selection of data.\n",
    "\n",
    "Source: https://medium.com/@IrekponorVictor/creating-an-unbiased-test-set-for-your-model-using-stratified-sampling-technique-672b778022d5"
   ]
  },
  {
   "cell_type": "code",
   "execution_count": 6,
   "id": "d2bba12c",
   "metadata": {
    "id": "d2bba12c"
   },
   "outputs": [],
   "source": [
    "# importing StratifiedShuffleSplit\n",
    "from sklearn.model_selection import StratifiedShuffleSplit\n",
    "\n",
    "#split = StratifiedShuffleSplit(n_splits=1, test_size=0.2)\n",
    "# try out 10% test\n",
    "split = StratifiedShuffleSplit(n_splits=1, test_size=0.1)\n",
    "\n",
    "for train_index, test_index in split.split(songdata, songdata['genre']):\n",
    "     train_set, test_set = songdata.iloc[train_index], songdata.iloc[test_index]\n",
    "\n",
    "# after obtaining train/test set, proceed to split train into X and y train set, and test into x and y test set\n",
    "y_train = pd.DataFrame(train_set['genre'])\n",
    "x_train = train_set\n",
    "x_train = x_train.drop(columns=['genre', 'chorus_hit'])\n",
    "\n",
    "y_test = pd.DataFrame(test_set['genre'])\n",
    "x_test = test_set\n",
    "x_test = x_test.drop(columns=['genre', 'chorus_hit'])"
   ]
  },
  {
   "cell_type": "markdown",
   "id": "292f2b90",
   "metadata": {
    "id": "292f2b90"
   },
   "source": [
    "Check how many songs in each genre there are in train/test set"
   ]
  },
  {
   "cell_type": "code",
   "execution_count": 7,
   "id": "962c20a4",
   "metadata": {
    "id": "962c20a4"
   },
   "outputs": [
    {
     "data": {
      "text/plain": [
       "danceability  energy    key  loudness  mode  speechiness  acousticness  instrumentalness  liveness  valence   tempo     duration_s\n",
       "0.711538      0.825956  10   0.793894  0.0   0.035521     0.032329      0.006290          0.168357  0.948795  0.429710  285.373       3\n",
       "0.456478      0.549887  1    0.775817  1.0   0.272917     0.010843      0.000000          0.061562  0.596386  0.331942  227.960       2\n",
       "0.955466      0.510877  5    0.722550  0.0   0.167708     0.042169      0.001070          0.025254  0.845382  0.469053  203.787       2\n",
       "0.697368      0.496874  2    0.658075  1.0   0.033229     0.264056      0.000006          0.207911  0.641566  0.473152  212.893       2\n",
       "0.519231      0.025855  3    0.484933  0.0   0.057500     0.998996      0.882000          0.098377  0.399598  0.287666  169.482       2\n",
       "                                                                                                                                     ..\n",
       "0.470648      0.394848  9    0.815310  1.0   0.037083     0.662651      0.000048          0.154158  0.458835  0.358597  167.733       1\n",
       "              0.381845  2    0.684756  1.0   0.037500     0.154618      0.954000          0.096349  0.882530  0.565850  162.293       1\n",
       "              0.378844  7    0.733759  1.0   0.030313     0.684739      0.000000          0.103448  0.518072  0.428569  196.240       1\n",
       "              0.364841  5    0.690983  0.0   0.030729     0.620482      0.011300          0.062576  0.266064  0.713268  276.373       1\n",
       "1.000000      0.632908  5    0.646093  0.0   0.092500     0.075803      0.000002          0.054564  0.932731  0.487505  248.160       1\n",
       "Length: 32187, dtype: int64"
      ]
     },
     "execution_count": 7,
     "metadata": {},
     "output_type": "execute_result"
    }
   ],
   "source": [
    "x_train.value_counts()"
   ]
  },
  {
   "cell_type": "code",
   "execution_count": 8,
   "id": "6d6d3dab",
   "metadata": {
    "id": "6d6d3dab"
   },
   "outputs": [
    {
     "data": {
      "text/plain": [
       "danceability  energy    key  loudness  mode  speechiness  acousticness  instrumentalness  liveness  valence   tempo     duration_s\n",
       "0.780364      0.694923  2    0.740872  1.0   0.065313     0.000110      0.675000          0.023225  0.599398  0.514487  375.484       2\n",
       "0.443320      0.809952  10   0.770044  1.0   0.047604     0.456827      0.000002          0.322515  0.764056  0.610844  142.533       2\n",
       "0.703441      0.700925  1    0.866879  1.0   0.058542     0.299197      0.001710          0.047566  0.934739  0.407918  430.120       2\n",
       "0.063765      0.029256  2    0.444478  0.0   0.037604     0.979920      0.947000          0.096349  0.057430  0.279529  578.467       1\n",
       "0.639676      0.351837  7    0.504104  1.0   0.079896     0.956827      0.753000          0.067444  0.614458  0.387890  19.533        1\n",
       "                                                                                                                                     ..\n",
       "0.477733      0.587897  0    0.771346  1.0   0.026458     0.130522      0.000000          0.139959  0.315261  0.315337  255.973       1\n",
       "              0.706926  7    0.728871  0.0   0.033125     0.252008      0.001110          0.225152  0.948795  0.774419  176.565       1\n",
       "              0.945986  2    0.842727  1.0   0.151042     0.037349      0.000000          0.343813  0.487952  0.736441  201.027       1\n",
       "              0.974994  4    0.850275  1.0   0.178125     0.009036      0.000004          0.309331  0.372490  0.494766  239.853       1\n",
       "0.961538      0.862966  1    0.879220  0.0   0.242708     0.237952      0.000000          0.062779  0.780120  0.539357  192.157       1\n",
       "Length: 3583, dtype: int64"
      ]
     },
     "execution_count": 8,
     "metadata": {},
     "output_type": "execute_result"
    }
   ],
   "source": [
    "x_test.value_counts()"
   ]
  },
  {
   "cell_type": "code",
   "execution_count": 9,
   "id": "adde23ee",
   "metadata": {
    "id": "adde23ee",
    "outputId": "0e9cfee3-f222-42a6-fb69-c9aa566f13c8"
   },
   "outputs": [
    {
     "data": {
      "text/plain": [
       "genre\n",
       "2        12896\n",
       "3         8509\n",
       "5         5571\n",
       "1         2222\n",
       "4         1894\n",
       "0         1175\n",
       "dtype: int64"
      ]
     },
     "execution_count": 9,
     "metadata": {},
     "output_type": "execute_result"
    }
   ],
   "source": [
    "y_train.value_counts()"
   ]
  },
  {
   "cell_type": "code",
   "execution_count": 10,
   "id": "d2c7155c",
   "metadata": {
    "id": "d2c7155c",
    "outputId": "9e709c6e-6122-43fe-e7c3-10057cdc4c44"
   },
   "outputs": [
    {
     "data": {
      "text/plain": [
       "genre\n",
       "2        1433\n",
       "3         946\n",
       "5         619\n",
       "1         247\n",
       "4         210\n",
       "0         131\n",
       "dtype: int64"
      ]
     },
     "execution_count": 10,
     "metadata": {},
     "output_type": "execute_result"
    }
   ],
   "source": [
    "y_test.value_counts()"
   ]
  },
  {
   "cell_type": "markdown",
   "id": "5e01ad5b",
   "metadata": {
    "id": "5e01ad5b"
   },
   "source": [
    "Now we load the saved model to predict the train and test datasets."
   ]
  },
  {
   "cell_type": "code",
   "execution_count": 11,
   "id": "qOiielQXTrzl",
   "metadata": {
    "id": "qOiielQXTrzl"
   },
   "outputs": [
    {
     "name": "stderr",
     "output_type": "stream",
     "text": [
      "D:\\python\\miniconda\\envs\\jupyter-env\\lib\\site-packages\\sklearn\\base.py:329: UserWarning: Trying to unpickle estimator LabelBinarizer from version 0.24.2 when using version 1.0.2. This might lead to breaking code or invalid results. Use at your own risk. For more info please refer to:\n",
      "https://scikit-learn.org/stable/modules/model_persistence.html#security-maintainability-limitations\n",
      "  warnings.warn(\n",
      "D:\\python\\miniconda\\envs\\jupyter-env\\lib\\site-packages\\sklearn\\base.py:329: UserWarning: Trying to unpickle estimator MLPClassifier from version 0.24.2 when using version 1.0.2. This might lead to breaking code or invalid results. Use at your own risk. For more info please refer to:\n",
      "https://scikit-learn.org/stable/modules/model_persistence.html#security-maintainability-limitations\n",
      "  warnings.warn(\n"
     ]
    }
   ],
   "source": [
    "import pickle\n",
    "\n",
    "filename = \"models/90pct_model.sav\"\n",
    "classifier = pickle.load(open(filename, 'rb'))"
   ]
  },
  {
   "cell_type": "code",
   "execution_count": 12,
   "id": "dc4439a9",
   "metadata": {
    "id": "dc4439a9"
   },
   "outputs": [],
   "source": [
    "def accuracy(confusion_matrix):\n",
    "   diagonal_sum = confusion_matrix.trace()\n",
    "   sum_of_all_elements = confusion_matrix.sum()\n",
    "   return diagonal_sum / sum_of_all_elements"
   ]
  },
  {
   "cell_type": "code",
   "execution_count": 17,
   "id": "4d909bd4",
   "metadata": {
    "colab": {
     "base_uri": "https://localhost:8080/"
    },
    "executionInfo": {
     "elapsed": 7651260,
     "status": "ok",
     "timestamp": 1647956909928,
     "user": {
      "displayName": "Daniel Tan",
      "photoUrl": "https://lh3.googleusercontent.com/a-/AOh14Gh2rCY9GFaFOEwAtqfOOiYbt_xDtEymQK_Nbcw_fg=s64",
      "userId": "08000639285833235229"
     },
     "user_tz": -480
    },
    "id": "4d909bd4",
    "outputId": "aeb3d062-febf-4649-a150-92141a33c226"
   },
   "outputs": [
    {
     "name": "stdout",
     "output_type": "stream",
     "text": [
      "Accuracy of MLPClassifier :  0.9095360585117922\n"
     ]
    }
   ],
   "source": [
    "y_pred = classifier.predict(x_train.values)\n",
    "\n",
    "#Importing Confusion Matrix\n",
    "from sklearn.metrics import confusion_matrix\n",
    "#Comparing the predictions against the actual observations in y_val\n",
    "cm = confusion_matrix(y_pred, y_train)\n",
    "\n",
    "#Printing the accuracy\n",
    "print(\"Accuracy of MLPClassifier : \", accuracy(cm))"
   ]
  },
  {
   "cell_type": "markdown",
   "id": "c49345f0",
   "metadata": {
    "id": "c49345f0"
   },
   "source": [
    "Try plotting the correlation matrix."
   ]
  },
  {
   "cell_type": "code",
   "execution_count": 18,
   "id": "d701154c",
   "metadata": {
    "colab": {
     "base_uri": "https://localhost:8080/",
     "height": 285
    },
    "executionInfo": {
     "elapsed": 782,
     "status": "ok",
     "timestamp": 1647956910689,
     "user": {
      "displayName": "Daniel Tan",
      "photoUrl": "https://lh3.googleusercontent.com/a-/AOh14Gh2rCY9GFaFOEwAtqfOOiYbt_xDtEymQK_Nbcw_fg=s64",
      "userId": "08000639285833235229"
     },
     "user_tz": -480
    },
    "id": "d701154c",
    "outputId": "74b20dfe-7261-4185-ba74-53e74d1ef75e"
   },
   "outputs": [
    {
     "data": {
      "text/plain": [
       "<AxesSubplot:>"
      ]
     },
     "execution_count": 18,
     "metadata": {},
     "output_type": "execute_result"
    },
    {
     "data": {
      "image/png": "[encoded data removed]",
      "text/plain": [
       "<Figure size 432x288 with 2 Axes>"
      ]
     },
     "metadata": {},
     "output_type": "display_data"
    }
   ],
   "source": [
    "sb.heatmap(cm, annot=True, fmt=\".0f\", annot_kws={\"size\":18})"
   ]
  },
  {
   "cell_type": "markdown",
   "id": "7331ca3c",
   "metadata": {
    "id": "7331ca3c"
   },
   "source": [
    "Check the accuracy on the test data."
   ]
  },
  {
   "cell_type": "code",
   "execution_count": 19,
   "id": "f401d7e2",
   "metadata": {
    "colab": {
     "base_uri": "https://localhost:8080/"
    },
    "executionInfo": {
     "elapsed": 337,
     "status": "ok",
     "timestamp": 1647957191674,
     "user": {
      "displayName": "Daniel Tan",
      "photoUrl": "https://lh3.googleusercontent.com/a-/AOh14Gh2rCY9GFaFOEwAtqfOOiYbt_xDtEymQK_Nbcw_fg=s64",
      "userId": "08000639285833235229"
     },
     "user_tz": -480
    },
    "id": "f401d7e2",
    "outputId": "ecdbd69c-81da-4cc5-abb5-e49f961408af"
   },
   "outputs": [
    {
     "name": "stdout",
     "output_type": "stream",
     "text": [
      "Accuracy of MLPClassifier on test data : 0.9107640825432236\n"
     ]
    }
   ],
   "source": [
    "y_test_pred = classifier.predict(x_test.values)\n",
    "\n",
    "cm = confusion_matrix(y_test_pred, y_test)\n",
    "\n",
    "# print accuracy\n",
    "print('Accuracy of MLPClassifier on test data :', accuracy(cm))"
   ]
  },
  {
   "cell_type": "code",
   "execution_count": 20,
   "id": "Of7J2MKEbKpL",
   "metadata": {
    "colab": {
     "base_uri": "https://localhost:8080/",
     "height": 285
    },
    "executionInfo": {
     "elapsed": 1674,
     "status": "ok",
     "timestamp": 1647957198846,
     "user": {
      "displayName": "Daniel Tan",
      "photoUrl": "https://lh3.googleusercontent.com/a-/AOh14Gh2rCY9GFaFOEwAtqfOOiYbt_xDtEymQK_Nbcw_fg=s64",
      "userId": "08000639285833235229"
     },
     "user_tz": -480
    },
    "id": "Of7J2MKEbKpL",
    "outputId": "fb526bb8-5854-48c2-b8d9-3d2c5506fa98"
   },
   "outputs": [
    {
     "data": {
      "text/plain": [
       "<AxesSubplot:>"
      ]
     },
     "execution_count": 20,
     "metadata": {},
     "output_type": "execute_result"
    },
    {
     "data": {
      "image/png": "[encoded data removed]",
      "text/plain": [
       "<Figure size 432x288 with 2 Axes>"
      ]
     },
     "metadata": {},
     "output_type": "display_data"
    }
   ],
   "source": [
    "sb.heatmap(cm, annot=True, fmt=\".0f\", annot_kws={\"size\":18})"
   ]
  },
  {
   "cell_type": "markdown",
   "id": "wCZhzTPjPgzs",
   "metadata": {
    "id": "wCZhzTPjPgzs"
   },
   "source": [
    "The model is much more accurate compared to the initial model, and it is now able to predict the various genres much more accurately. However, the model is still not the best as it is still incorrectly predicting the genre of many songs. This suggests that the predictor variables the model has been trained on is not unique enough to differentiate clearly between the genres. Further exploration of the music characteristics of the overlapping genres is needed, and this is done in the notebook \"EDA - Characteristics of Genre\"."
   ]
  }
 ],
 "metadata": {
  "colab": {
   "collapsed_sections": [],
   "name": "90pct_Model_Test.ipynb",
   "provenance": []
  },
  "kernelspec": {
   "display_name": "Python 3 (ipykernel)",
   "language": "python",
   "name": "python3"
  },
  "language_info": {
   "codemirror_mode": {
    "name": "ipython",
    "version": 3
   },
   "file_extension": ".py",
   "mimetype": "text/x-python",
   "name": "python",
   "nbconvert_exporter": "python",
   "pygments_lexer": "ipython3",
   "version": "3.9.7"
  },
  "papermill": {
   "default_parameters": {},
   "duration": 12.896024,
   "end_time": "2022-02-16T02:25:53.224422",
   "environment_variables": {},
   "exception": null,
   "input_path": "__notebook__.ipynb",
   "output_path": "__notebook__.ipynb",
   "parameters": {},
   "start_time": "2022-02-16T02:25:40.328398",
   "version": "2.3.3"
  }
 },
 "nbformat": 4,
 "nbformat_minor": 5
}
