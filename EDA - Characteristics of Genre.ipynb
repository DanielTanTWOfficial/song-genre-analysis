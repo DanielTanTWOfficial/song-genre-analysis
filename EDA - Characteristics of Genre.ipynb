{
 "cells": [
  {
   "cell_type": "markdown",
   "id": "7cfbc722",
   "metadata": {},
   "source": [
    "# EDA - Characteristics of Genre\n",
    "\n",
    "In this notebook, we perform Exploratory Data Analysis on the dataset."
   ]
  },
  {
   "cell_type": "code",
   "execution_count": 1,
   "id": "c9c9df97",
   "metadata": {},
   "outputs": [],
   "source": [
    "import numpy as np\n",
    "import pandas as pd\n",
    "import matplotlib.pyplot as plt\n",
    "import seaborn as sb\n",
    "sb.set()"
   ]
  },
  {
   "cell_type": "code",
   "execution_count": 2,
   "id": "ed36596c",
   "metadata": {},
   "outputs": [],
   "source": [
    "songdata = pd.read_csv('data/genre_music.csv')\n",
    "\n",
    "#songdata.info()"
   ]
  },
  {
   "cell_type": "code",
   "execution_count": 3,
   "id": "a517e969",
   "metadata": {},
   "outputs": [
    {
     "name": "stdout",
     "output_type": "stream",
     "text": [
      "Original shape:  (35853, 20)\n"
     ]
    }
   ],
   "source": [
    "print('Original shape: ', songdata.shape)"
   ]
  },
  {
   "cell_type": "code",
   "execution_count": 4,
   "id": "205699b2",
   "metadata": {},
   "outputs": [
    {
     "data": {
      "text/plain": [
       "0"
      ]
     },
     "execution_count": 4,
     "metadata": {},
     "output_type": "execute_result"
    }
   ],
   "source": [
    "songdata.track.duplicated().sum()"
   ]
  },
  {
   "cell_type": "code",
   "execution_count": 5,
   "id": "e09eb55c",
   "metadata": {},
   "outputs": [
    {
     "name": "stdout",
     "output_type": "stream",
     "text": [
      "New shape:  (35853, 20)\n"
     ]
    },
    {
     "data": {
      "text/html": [
       "<div>\n",
       "<style scoped>\n",
       "    .dataframe tbody tr th:only-of-type {\n",
       "        vertical-align: middle;\n",
       "    }\n",
       "\n",
       "    .dataframe tbody tr th {\n",
       "        vertical-align: top;\n",
       "    }\n",
       "\n",
       "    .dataframe thead th {\n",
       "        text-align: right;\n",
       "    }\n",
       "</style>\n",
       "<table border=\"1\" class=\"dataframe\">\n",
       "  <thead>\n",
       "    <tr style=\"text-align: right;\">\n",
       "      <th></th>\n",
       "      <th>track</th>\n",
       "      <th>artist</th>\n",
       "      <th>danceability</th>\n",
       "      <th>energy</th>\n",
       "      <th>key</th>\n",
       "      <th>loudness</th>\n",
       "      <th>mode</th>\n",
       "      <th>speechiness</th>\n",
       "      <th>acousticness</th>\n",
       "      <th>instrumentalness</th>\n",
       "      <th>liveness</th>\n",
       "      <th>valence</th>\n",
       "      <th>tempo</th>\n",
       "      <th>duration_s</th>\n",
       "      <th>time_signature</th>\n",
       "      <th>chorus_hit</th>\n",
       "      <th>sections</th>\n",
       "      <th>popularity</th>\n",
       "      <th>decade</th>\n",
       "      <th>genre</th>\n",
       "    </tr>\n",
       "  </thead>\n",
       "  <tbody>\n",
       "    <tr>\n",
       "      <th>0</th>\n",
       "      <td>Jealous Kind Of Fella</td>\n",
       "      <td>Garland Green</td>\n",
       "      <td>0.417</td>\n",
       "      <td>0.620</td>\n",
       "      <td>3</td>\n",
       "      <td>-7.727</td>\n",
       "      <td>1</td>\n",
       "      <td>0.0403</td>\n",
       "      <td>0.490</td>\n",
       "      <td>0.000000</td>\n",
       "      <td>0.0779</td>\n",
       "      <td>0.845</td>\n",
       "      <td>185.655</td>\n",
       "      <td>173.533</td>\n",
       "      <td>3</td>\n",
       "      <td>32.94975</td>\n",
       "      <td>9</td>\n",
       "      <td>1</td>\n",
       "      <td>60s</td>\n",
       "      <td>edm</td>\n",
       "    </tr>\n",
       "    <tr>\n",
       "      <th>1</th>\n",
       "      <td>Initials B.B.</td>\n",
       "      <td>Serge Gainsbourg</td>\n",
       "      <td>0.498</td>\n",
       "      <td>0.505</td>\n",
       "      <td>3</td>\n",
       "      <td>-12.475</td>\n",
       "      <td>1</td>\n",
       "      <td>0.0337</td>\n",
       "      <td>0.018</td>\n",
       "      <td>0.107000</td>\n",
       "      <td>0.1760</td>\n",
       "      <td>0.797</td>\n",
       "      <td>101.801</td>\n",
       "      <td>213.613</td>\n",
       "      <td>4</td>\n",
       "      <td>48.82510</td>\n",
       "      <td>10</td>\n",
       "      <td>0</td>\n",
       "      <td>60s</td>\n",
       "      <td>pop</td>\n",
       "    </tr>\n",
       "    <tr>\n",
       "      <th>2</th>\n",
       "      <td>Melody Twist</td>\n",
       "      <td>Lord Melody</td>\n",
       "      <td>0.657</td>\n",
       "      <td>0.649</td>\n",
       "      <td>5</td>\n",
       "      <td>-13.392</td>\n",
       "      <td>1</td>\n",
       "      <td>0.0380</td>\n",
       "      <td>0.846</td>\n",
       "      <td>0.000004</td>\n",
       "      <td>0.1190</td>\n",
       "      <td>0.908</td>\n",
       "      <td>115.940</td>\n",
       "      <td>223.960</td>\n",
       "      <td>4</td>\n",
       "      <td>37.22663</td>\n",
       "      <td>12</td>\n",
       "      <td>0</td>\n",
       "      <td>60s</td>\n",
       "      <td>pop</td>\n",
       "    </tr>\n",
       "    <tr>\n",
       "      <th>3</th>\n",
       "      <td>Mi Bomba Sonó</td>\n",
       "      <td>Celia Cruz</td>\n",
       "      <td>0.590</td>\n",
       "      <td>0.545</td>\n",
       "      <td>7</td>\n",
       "      <td>-12.058</td>\n",
       "      <td>0</td>\n",
       "      <td>0.1040</td>\n",
       "      <td>0.706</td>\n",
       "      <td>0.024600</td>\n",
       "      <td>0.0610</td>\n",
       "      <td>0.967</td>\n",
       "      <td>105.592</td>\n",
       "      <td>157.907</td>\n",
       "      <td>4</td>\n",
       "      <td>24.75484</td>\n",
       "      <td>8</td>\n",
       "      <td>0</td>\n",
       "      <td>60s</td>\n",
       "      <td>pop</td>\n",
       "    </tr>\n",
       "    <tr>\n",
       "      <th>4</th>\n",
       "      <td>Uravu Solla</td>\n",
       "      <td>P. Susheela</td>\n",
       "      <td>0.515</td>\n",
       "      <td>0.765</td>\n",
       "      <td>11</td>\n",
       "      <td>-3.515</td>\n",
       "      <td>0</td>\n",
       "      <td>0.1240</td>\n",
       "      <td>0.857</td>\n",
       "      <td>0.000872</td>\n",
       "      <td>0.2130</td>\n",
       "      <td>0.906</td>\n",
       "      <td>114.617</td>\n",
       "      <td>245.600</td>\n",
       "      <td>4</td>\n",
       "      <td>21.79874</td>\n",
       "      <td>14</td>\n",
       "      <td>0</td>\n",
       "      <td>60s</td>\n",
       "      <td>r&amp;b</td>\n",
       "    </tr>\n",
       "  </tbody>\n",
       "</table>\n",
       "</div>"
      ],
      "text/plain": [
       "                   track            artist  danceability  energy  key  \\\n",
       "0  Jealous Kind Of Fella     Garland Green         0.417   0.620    3   \n",
       "1          Initials B.B.  Serge Gainsbourg         0.498   0.505    3   \n",
       "2           Melody Twist       Lord Melody         0.657   0.649    5   \n",
       "3          Mi Bomba Sonó        Celia Cruz         0.590   0.545    7   \n",
       "4            Uravu Solla       P. Susheela         0.515   0.765   11   \n",
       "\n",
       "   loudness  mode  speechiness  acousticness  instrumentalness  liveness  \\\n",
       "0    -7.727     1       0.0403         0.490          0.000000    0.0779   \n",
       "1   -12.475     1       0.0337         0.018          0.107000    0.1760   \n",
       "2   -13.392     1       0.0380         0.846          0.000004    0.1190   \n",
       "3   -12.058     0       0.1040         0.706          0.024600    0.0610   \n",
       "4    -3.515     0       0.1240         0.857          0.000872    0.2130   \n",
       "\n",
       "   valence    tempo  duration_s  time_signature  chorus_hit  sections  \\\n",
       "0    0.845  185.655     173.533               3    32.94975         9   \n",
       "1    0.797  101.801     213.613               4    48.82510        10   \n",
       "2    0.908  115.940     223.960               4    37.22663        12   \n",
       "3    0.967  105.592     157.907               4    24.75484         8   \n",
       "4    0.906  114.617     245.600               4    21.79874        14   \n",
       "\n",
       "   popularity decade genre  \n",
       "0           1    60s   edm  \n",
       "1           0    60s   pop  \n",
       "2           0    60s   pop  \n",
       "3           0    60s   pop  \n",
       "4           0    60s   r&b  "
      ]
     },
     "execution_count": 5,
     "metadata": {},
     "output_type": "execute_result"
    }
   ],
   "source": [
    "songdata.drop_duplicates(subset=['track'], keep='first', inplace=True)\n",
    "print('New shape: ', songdata.shape)\n",
    "songdata.head()"
   ]
  },
  {
   "cell_type": "markdown",
   "id": "81177063",
   "metadata": {},
   "source": [
    "## Split data set to separate DataFrames based on Genre"
   ]
  },
  {
   "cell_type": "code",
   "execution_count": 6,
   "id": "9690b1cc",
   "metadata": {},
   "outputs": [],
   "source": [
    "test_data = songdata"
   ]
  },
  {
   "cell_type": "code",
   "execution_count": 7,
   "id": "e56aeece",
   "metadata": {},
   "outputs": [],
   "source": [
    "edm_data = test_data.loc[(test_data['genre'] == 'edm')]\n",
    "latin_data = test_data.loc[(test_data['genre'] == 'latin')]\n",
    "pop_data = test_data.loc[(test_data['genre'] == 'pop')]\n",
    "rb_data = test_data.loc[(test_data['genre'] == 'r&b')]\n",
    "rap_data = test_data.loc[(test_data['genre'] == 'rap')]\n",
    "rock_data = test_data.loc[(test_data['genre'] == 'rock')]"
   ]
  },
  {
   "cell_type": "code",
   "execution_count": 8,
   "id": "2438b05a",
   "metadata": {},
   "outputs": [
    {
     "name": "stdout",
     "output_type": "stream",
     "text": [
      "<class 'pandas.core.frame.DataFrame'>\n",
      "Int64Index: 35853 entries, 0 to 35852\n",
      "Data columns (total 20 columns):\n",
      " #   Column            Non-Null Count  Dtype  \n",
      "---  ------            --------------  -----  \n",
      " 0   track             35853 non-null  object \n",
      " 1   artist            35853 non-null  object \n",
      " 2   danceability      35853 non-null  float64\n",
      " 3   energy            35853 non-null  float64\n",
      " 4   key               35853 non-null  int64  \n",
      " 5   loudness          35853 non-null  float64\n",
      " 6   mode              35853 non-null  int64  \n",
      " 7   speechiness       35853 non-null  float64\n",
      " 8   acousticness      35853 non-null  float64\n",
      " 9   instrumentalness  35853 non-null  float64\n",
      " 10  liveness          35853 non-null  float64\n",
      " 11  valence           35853 non-null  float64\n",
      " 12  tempo             35853 non-null  float64\n",
      " 13  duration_s        35853 non-null  float64\n",
      " 14  time_signature    35853 non-null  int64  \n",
      " 15  chorus_hit        35853 non-null  float64\n",
      " 16  sections          35853 non-null  int64  \n",
      " 17  popularity        35853 non-null  int64  \n",
      " 18  decade            35853 non-null  object \n",
      " 19  genre             35853 non-null  object \n",
      "dtypes: float64(11), int64(5), object(4)\n",
      "memory usage: 5.7+ MB\n"
     ]
    }
   ],
   "source": [
    "test_data.info()"
   ]
  },
  {
   "cell_type": "code",
   "execution_count": 9,
   "id": "aa836902",
   "metadata": {},
   "outputs": [
    {
     "name": "stdout",
     "output_type": "stream",
     "text": [
      "<class 'pandas.core.frame.DataFrame'>\n",
      "Int64Index: 1306 entries, 0 to 35843\n",
      "Data columns (total 20 columns):\n",
      " #   Column            Non-Null Count  Dtype  \n",
      "---  ------            --------------  -----  \n",
      " 0   track             1306 non-null   object \n",
      " 1   artist            1306 non-null   object \n",
      " 2   danceability      1306 non-null   float64\n",
      " 3   energy            1306 non-null   float64\n",
      " 4   key               1306 non-null   int64  \n",
      " 5   loudness          1306 non-null   float64\n",
      " 6   mode              1306 non-null   int64  \n",
      " 7   speechiness       1306 non-null   float64\n",
      " 8   acousticness      1306 non-null   float64\n",
      " 9   instrumentalness  1306 non-null   float64\n",
      " 10  liveness          1306 non-null   float64\n",
      " 11  valence           1306 non-null   float64\n",
      " 12  tempo             1306 non-null   float64\n",
      " 13  duration_s        1306 non-null   float64\n",
      " 14  time_signature    1306 non-null   int64  \n",
      " 15  chorus_hit        1306 non-null   float64\n",
      " 16  sections          1306 non-null   int64  \n",
      " 17  popularity        1306 non-null   int64  \n",
      " 18  decade            1306 non-null   object \n",
      " 19  genre             1306 non-null   object \n",
      "dtypes: float64(11), int64(5), object(4)\n",
      "memory usage: 214.3+ KB\n"
     ]
    }
   ],
   "source": [
    "edm_data.info()"
   ]
  },
  {
   "cell_type": "code",
   "execution_count": 10,
   "id": "d7811ff4",
   "metadata": {},
   "outputs": [
    {
     "name": "stdout",
     "output_type": "stream",
     "text": [
      "<class 'pandas.core.frame.DataFrame'>\n",
      "Int64Index: 2469 entries, 66 to 35841\n",
      "Data columns (total 20 columns):\n",
      " #   Column            Non-Null Count  Dtype  \n",
      "---  ------            --------------  -----  \n",
      " 0   track             2469 non-null   object \n",
      " 1   artist            2469 non-null   object \n",
      " 2   danceability      2469 non-null   float64\n",
      " 3   energy            2469 non-null   float64\n",
      " 4   key               2469 non-null   int64  \n",
      " 5   loudness          2469 non-null   float64\n",
      " 6   mode              2469 non-null   int64  \n",
      " 7   speechiness       2469 non-null   float64\n",
      " 8   acousticness      2469 non-null   float64\n",
      " 9   instrumentalness  2469 non-null   float64\n",
      " 10  liveness          2469 non-null   float64\n",
      " 11  valence           2469 non-null   float64\n",
      " 12  tempo             2469 non-null   float64\n",
      " 13  duration_s        2469 non-null   float64\n",
      " 14  time_signature    2469 non-null   int64  \n",
      " 15  chorus_hit        2469 non-null   float64\n",
      " 16  sections          2469 non-null   int64  \n",
      " 17  popularity        2469 non-null   int64  \n",
      " 18  decade            2469 non-null   object \n",
      " 19  genre             2469 non-null   object \n",
      "dtypes: float64(11), int64(5), object(4)\n",
      "memory usage: 405.1+ KB\n"
     ]
    }
   ],
   "source": [
    "latin_data.info()"
   ]
  },
  {
   "cell_type": "code",
   "execution_count": 11,
   "id": "f7530c41",
   "metadata": {},
   "outputs": [
    {
     "name": "stdout",
     "output_type": "stream",
     "text": [
      "<class 'pandas.core.frame.DataFrame'>\n",
      "Int64Index: 14329 entries, 1 to 35852\n",
      "Data columns (total 20 columns):\n",
      " #   Column            Non-Null Count  Dtype  \n",
      "---  ------            --------------  -----  \n",
      " 0   track             14329 non-null  object \n",
      " 1   artist            14329 non-null  object \n",
      " 2   danceability      14329 non-null  float64\n",
      " 3   energy            14329 non-null  float64\n",
      " 4   key               14329 non-null  int64  \n",
      " 5   loudness          14329 non-null  float64\n",
      " 6   mode              14329 non-null  int64  \n",
      " 7   speechiness       14329 non-null  float64\n",
      " 8   acousticness      14329 non-null  float64\n",
      " 9   instrumentalness  14329 non-null  float64\n",
      " 10  liveness          14329 non-null  float64\n",
      " 11  valence           14329 non-null  float64\n",
      " 12  tempo             14329 non-null  float64\n",
      " 13  duration_s        14329 non-null  float64\n",
      " 14  time_signature    14329 non-null  int64  \n",
      " 15  chorus_hit        14329 non-null  float64\n",
      " 16  sections          14329 non-null  int64  \n",
      " 17  popularity        14329 non-null  int64  \n",
      " 18  decade            14329 non-null  object \n",
      " 19  genre             14329 non-null  object \n",
      "dtypes: float64(11), int64(5), object(4)\n",
      "memory usage: 2.3+ MB\n"
     ]
    }
   ],
   "source": [
    "pop_data.info()"
   ]
  },
  {
   "cell_type": "code",
   "execution_count": 12,
   "id": "8c246030",
   "metadata": {},
   "outputs": [
    {
     "name": "stdout",
     "output_type": "stream",
     "text": [
      "<class 'pandas.core.frame.DataFrame'>\n",
      "Int64Index: 9455 entries, 4 to 35849\n",
      "Data columns (total 20 columns):\n",
      " #   Column            Non-Null Count  Dtype  \n",
      "---  ------            --------------  -----  \n",
      " 0   track             9455 non-null   object \n",
      " 1   artist            9455 non-null   object \n",
      " 2   danceability      9455 non-null   float64\n",
      " 3   energy            9455 non-null   float64\n",
      " 4   key               9455 non-null   int64  \n",
      " 5   loudness          9455 non-null   float64\n",
      " 6   mode              9455 non-null   int64  \n",
      " 7   speechiness       9455 non-null   float64\n",
      " 8   acousticness      9455 non-null   float64\n",
      " 9   instrumentalness  9455 non-null   float64\n",
      " 10  liveness          9455 non-null   float64\n",
      " 11  valence           9455 non-null   float64\n",
      " 12  tempo             9455 non-null   float64\n",
      " 13  duration_s        9455 non-null   float64\n",
      " 14  time_signature    9455 non-null   int64  \n",
      " 15  chorus_hit        9455 non-null   float64\n",
      " 16  sections          9455 non-null   int64  \n",
      " 17  popularity        9455 non-null   int64  \n",
      " 18  decade            9455 non-null   object \n",
      " 19  genre             9455 non-null   object \n",
      "dtypes: float64(11), int64(5), object(4)\n",
      "memory usage: 1.5+ MB\n"
     ]
    }
   ],
   "source": [
    "rb_data.info()"
   ]
  },
  {
   "cell_type": "code",
   "execution_count": 13,
   "id": "64b9365f",
   "metadata": {},
   "outputs": [
    {
     "name": "stdout",
     "output_type": "stream",
     "text": [
      "<class 'pandas.core.frame.DataFrame'>\n",
      "Int64Index: 2104 entries, 45 to 35825\n",
      "Data columns (total 20 columns):\n",
      " #   Column            Non-Null Count  Dtype  \n",
      "---  ------            --------------  -----  \n",
      " 0   track             2104 non-null   object \n",
      " 1   artist            2104 non-null   object \n",
      " 2   danceability      2104 non-null   float64\n",
      " 3   energy            2104 non-null   float64\n",
      " 4   key               2104 non-null   int64  \n",
      " 5   loudness          2104 non-null   float64\n",
      " 6   mode              2104 non-null   int64  \n",
      " 7   speechiness       2104 non-null   float64\n",
      " 8   acousticness      2104 non-null   float64\n",
      " 9   instrumentalness  2104 non-null   float64\n",
      " 10  liveness          2104 non-null   float64\n",
      " 11  valence           2104 non-null   float64\n",
      " 12  tempo             2104 non-null   float64\n",
      " 13  duration_s        2104 non-null   float64\n",
      " 14  time_signature    2104 non-null   int64  \n",
      " 15  chorus_hit        2104 non-null   float64\n",
      " 16  sections          2104 non-null   int64  \n",
      " 17  popularity        2104 non-null   int64  \n",
      " 18  decade            2104 non-null   object \n",
      " 19  genre             2104 non-null   object \n",
      "dtypes: float64(11), int64(5), object(4)\n",
      "memory usage: 345.2+ KB\n"
     ]
    }
   ],
   "source": [
    "rap_data.info()"
   ]
  },
  {
   "cell_type": "code",
   "execution_count": 14,
   "id": "83717251",
   "metadata": {},
   "outputs": [
    {
     "name": "stdout",
     "output_type": "stream",
     "text": [
      "<class 'pandas.core.frame.DataFrame'>\n",
      "Int64Index: 6190 entries, 16 to 35851\n",
      "Data columns (total 20 columns):\n",
      " #   Column            Non-Null Count  Dtype  \n",
      "---  ------            --------------  -----  \n",
      " 0   track             6190 non-null   object \n",
      " 1   artist            6190 non-null   object \n",
      " 2   danceability      6190 non-null   float64\n",
      " 3   energy            6190 non-null   float64\n",
      " 4   key               6190 non-null   int64  \n",
      " 5   loudness          6190 non-null   float64\n",
      " 6   mode              6190 non-null   int64  \n",
      " 7   speechiness       6190 non-null   float64\n",
      " 8   acousticness      6190 non-null   float64\n",
      " 9   instrumentalness  6190 non-null   float64\n",
      " 10  liveness          6190 non-null   float64\n",
      " 11  valence           6190 non-null   float64\n",
      " 12  tempo             6190 non-null   float64\n",
      " 13  duration_s        6190 non-null   float64\n",
      " 14  time_signature    6190 non-null   int64  \n",
      " 15  chorus_hit        6190 non-null   float64\n",
      " 16  sections          6190 non-null   int64  \n",
      " 17  popularity        6190 non-null   int64  \n",
      " 18  decade            6190 non-null   object \n",
      " 19  genre             6190 non-null   object \n",
      "dtypes: float64(11), int64(5), object(4)\n",
      "memory usage: 1015.5+ KB\n"
     ]
    }
   ],
   "source": [
    "rock_data.info()"
   ]
  },
  {
   "cell_type": "code",
   "execution_count": 15,
   "id": "ae9826d8",
   "metadata": {},
   "outputs": [],
   "source": [
    "genre_list = ['danceability', 'energy', 'key', 'loudness', 'mode', 'speechiness', 'acousticness',\n",
    "             'instrumentalness', 'liveness', 'valence', 'tempo', 'duration_s', 'time_signature',\n",
    "              'chorus_hit', 'sections', 'popularity'\n",
    "             ]"
   ]
  },
  {
   "cell_type": "code",
   "execution_count": 16,
   "id": "8c959602",
   "metadata": {
    "scrolled": false
   },
   "outputs": [
    {
     "ename": "NameError",
     "evalue": "name 'boxplot_stats' is not defined",
     "output_type": "error",
     "traceback": [
      "\u001b[1;31m---------------------------------------------------------------------------\u001b[0m",
      "\u001b[1;31mNameError\u001b[0m                                 Traceback (most recent call last)",
      "\u001b[1;32m~\\AppData\\Local\\Temp/ipykernel_13172/3538886837.py\u001b[0m in \u001b[0;36m<module>\u001b[1;34m\u001b[0m\n\u001b[0;32m     11\u001b[0m \u001b[1;33m\u001b[0m\u001b[0m\n\u001b[0;32m     12\u001b[0m \u001b[1;33m\u001b[0m\u001b[0m\n\u001b[1;32m---> 13\u001b[1;33m     \u001b[0mprint\u001b[0m\u001b[1;33m(\u001b[0m\u001b[1;34m\"#1: EDM --> Outlier Count = \"\u001b[0m\u001b[1;33m,\u001b[0m \u001b[0mlen\u001b[0m\u001b[1;33m(\u001b[0m\u001b[0mboxplot_stats\u001b[0m\u001b[1;33m(\u001b[0m\u001b[0medm_foo\u001b[0m\u001b[1;33m)\u001b[0m\u001b[1;33m.\u001b[0m\u001b[0mpop\u001b[0m\u001b[1;33m(\u001b[0m\u001b[1;36m0\u001b[0m\u001b[1;33m)\u001b[0m\u001b[1;33m[\u001b[0m\u001b[1;34m'fliers'\u001b[0m\u001b[1;33m]\u001b[0m\u001b[1;33m)\u001b[0m\u001b[1;33m)\u001b[0m\u001b[1;33m\u001b[0m\u001b[1;33m\u001b[0m\u001b[0m\n\u001b[0m\u001b[0;32m     14\u001b[0m     \u001b[0msb\u001b[0m\u001b[1;33m.\u001b[0m\u001b[0mboxplot\u001b[0m\u001b[1;33m(\u001b[0m\u001b[0mdata\u001b[0m \u001b[1;33m=\u001b[0m \u001b[0medm_foo\u001b[0m\u001b[1;33m,\u001b[0m \u001b[0morient\u001b[0m \u001b[1;33m=\u001b[0m \u001b[1;34m\"h\"\u001b[0m\u001b[1;33m,\u001b[0m \u001b[0max\u001b[0m \u001b[1;33m=\u001b[0m \u001b[0maxes_foo\u001b[0m\u001b[1;33m[\u001b[0m\u001b[1;36m0\u001b[0m\u001b[1;33m]\u001b[0m\u001b[1;33m,\u001b[0m \u001b[0mfliersize\u001b[0m \u001b[1;33m=\u001b[0m \u001b[1;36m6.0\u001b[0m\u001b[1;33m)\u001b[0m\u001b[1;33m\u001b[0m\u001b[1;33m\u001b[0m\u001b[0m\n\u001b[0;32m     15\u001b[0m     \u001b[0mprint\u001b[0m\u001b[1;33m(\u001b[0m\u001b[1;34m\"#2: Latin --> Outlier Count = \"\u001b[0m\u001b[1;33m,\u001b[0m \u001b[0mlen\u001b[0m\u001b[1;33m(\u001b[0m\u001b[0mboxplot_stats\u001b[0m\u001b[1;33m(\u001b[0m\u001b[0mlatin_foo\u001b[0m\u001b[1;33m)\u001b[0m\u001b[1;33m.\u001b[0m\u001b[0mpop\u001b[0m\u001b[1;33m(\u001b[0m\u001b[1;36m0\u001b[0m\u001b[1;33m)\u001b[0m\u001b[1;33m[\u001b[0m\u001b[1;34m'fliers'\u001b[0m\u001b[1;33m]\u001b[0m\u001b[1;33m)\u001b[0m\u001b[1;33m)\u001b[0m\u001b[1;33m\u001b[0m\u001b[1;33m\u001b[0m\u001b[0m\n",
      "\u001b[1;31mNameError\u001b[0m: name 'boxplot_stats' is not defined"
     ]
    },
    {
     "data": {
      "image/png": "[encoded data removed]",
      "text/plain": [
       "<Figure size 864x1296 with 6 Axes>"
      ]
     },
     "metadata": {},
     "output_type": "display_data"
    }
   ],
   "source": [
    "\n",
    "for var in genre_list:\n",
    "    f_bar, axes_foo = plt.subplots(6, 1, figsize=(12,18))\n",
    "\n",
    "    edm_foo = pd.DataFrame(edm_data[var])\n",
    "    latin_foo = pd.DataFrame(latin_data[var])\n",
    "    pop_foo = pd.DataFrame(pop_data[var])\n",
    "    rb_foo = pd.DataFrame(rb_data[var])\n",
    "    rap_foo = pd.DataFrame(rap_data[var])\n",
    "    rock_foo = pd.DataFrame(rock_data[var])\n",
    "    \n",
    "    \n",
    "    \n",
    "    print(\"#1: EDM --> Outlier Count = \", len(boxplot_stats(edm_foo).pop(0)['fliers']))\n",
    "    sb.boxplot(data = edm_foo, orient = \"h\", ax = axes_foo[0], fliersize = 6.0)\n",
    "    print(\"#2: Latin --> Outlier Count = \", len(boxplot_stats(latin_foo).pop(0)['fliers']))\n",
    "    sb.boxplot(data = latin_foo, orient = \"h\", ax = axes_foo[1], fliersize = 6.0)\n",
    "    print(\"#3: Pop --> Outlier Count = \", len(boxplot_stats(pop_foo).pop(0)['fliers']))\n",
    "    sb.boxplot(data = pop_foo, orient = \"h\", ax = axes_foo[2], fliersize = 6.0)\n",
    "    print(\"#4: R&B --> Outlier Count = \", len(boxplot_stats(rb_foo).pop(0)['fliers']))\n",
    "    sb.boxplot(data = rb_foo, orient = \"h\", ax = axes_foo[3], fliersize = 6.0)\n",
    "    print(\"#5: Rap --> Outlier Count = \", len(boxplot_stats(rap_foo).pop(0)['fliers']))\n",
    "    sb.boxplot(data = rap_foo, orient = \"h\", ax = axes_foo[4], fliersize = 6.0)\n",
    "    print(\"#6: Rock --> Outlier Count = \", len(boxplot_stats(rock_foo).pop(0)['fliers']))\n",
    "    sb.boxplot(data = rock_foo, orient = \"h\", ax = axes_foo[5], fliersize = 6.0)\n",
    "    print()"
   ]
  },
  {
   "cell_type": "markdown",
   "id": "90153964",
   "metadata": {},
   "source": [
    "### To clean up scaling of box-plots if/when used for presentation"
   ]
  },
  {
   "cell_type": "code",
   "execution_count": null,
   "id": "91aa22d5",
   "metadata": {},
   "outputs": [],
   "source": []
  },
  {
   "cell_type": "code",
   "execution_count": null,
   "id": "33bff737",
   "metadata": {},
   "outputs": [],
   "source": []
  },
  {
   "cell_type": "code",
   "execution_count": null,
   "id": "b2dc5a67",
   "metadata": {},
   "outputs": [],
   "source": [
    "# Box Plot 2 of 16: Energy\n",
    "\n",
    "f_energy, axes_energy = plt.subplots(6, 1, figsize=(12, 18))\n",
    "\n",
    "edm_energy = pd.DataFrame(edm_data['energy'])\n",
    "latin_energy = pd.DataFrame(latin_data['energy'])\n",
    "pop_energy = pd.DataFrame(pop_data['energy'])\n",
    "rb_energy = pd.DataFrame(rb_data['energy'])\n",
    "rap_energy = pd.DataFrame(rap_data['energy'])\n",
    "rock_energy = pd.DataFrame(rock_data['energy'])\n",
    "\n",
    "\n",
    "print(\"#1: EDM --> Outlier Count = \", len(boxplot_stats(edm_energy).pop(0)['fliers']))\n",
    "sb.boxplot(data = edm_energy, orient = \"h\", ax = axes_energy[0], fliersize = 6.0)\n",
    "print(\"#2: Latin --> Outlier Count = \", len(boxplot_stats(latin_energy).pop(0)['fliers']))\n",
    "sb.boxplot(data = latin_energy, orient = \"h\", ax = axes_energy[1], fliersize = 6.0)\n",
    "print(\"#3: Pop --> Outlier Count = \", len(boxplot_stats(pop_energy).pop(0)['fliers']))\n",
    "sb.boxplot(data = pop_energy, orient = \"h\", ax = axes_energy[2], fliersize = 6.0)\n",
    "print(\"#4: R&B --> Outlier Count = \", len(boxplot_stats(rb_energy).pop(0)['fliers']))\n",
    "sb.boxplot(data = rb_energy, orient = \"h\", ax = axes_energy[3], fliersize = 6.0)\n",
    "print(\"#5: Rap --> Outlier Count = \", len(boxplot_stats(rap_energy).pop(0)['fliers']))\n",
    "sb.boxplot(data = rap_energy, orient = \"h\", ax = axes_energy[4], fliersize = 6.0)\n",
    "print(\"#6: Rock --> Outlier Count = \", len(boxplot_stats(rock_energy).pop(0)['fliers']))\n",
    "sb.boxplot(data = rock_energy, orient = \"h\", ax = axes_energy[5], fliersize = 6.0)"
   ]
  },
  {
   "cell_type": "code",
   "execution_count": null,
   "id": "a9043160",
   "metadata": {},
   "outputs": [],
   "source": []
  }
 ],
 "metadata": {
  "kernelspec": {
   "display_name": "Python 3 (ipykernel)",
   "language": "python",
   "name": "python3"
  },
  "language_info": {
   "codemirror_mode": {
    "name": "ipython",
    "version": 3
   },
   "file_extension": ".py",
   "mimetype": "text/x-python",
   "name": "python",
   "nbconvert_exporter": "python",
   "pygments_lexer": "ipython3",
   "version": "3.9.7"
  }
 },
 "nbformat": 4,
 "nbformat_minor": 5
}
