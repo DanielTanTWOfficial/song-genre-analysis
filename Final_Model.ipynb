{
 "cells": [
  {
   "cell_type": "markdown",
   "id": "b9bd9501",
   "metadata": {
    "id": "b9bd9501"
   },
   "source": [
    "## Model Improvement\n",
    "\n",
    "Based on the additional EDA (Genre Clustering Analysis) performed on the most incorrectly predicted genres, a subset of the original predictor variables were identified as most important in differentitating between songs of different genres. These variables were then given to the model to train on, and all other predictor variables were dropped.\n",
    "\n",
    "The unique predictor variables:\n",
    "1. Instrumentalness\n",
    "2. Liveness\n",
    "3. Tempo\n",
    "4. Energy\n",
    "5. Loudness\n",
    "6. Speechiness\n",
    "7. Duration_s"
   ]
  },
  {
   "cell_type": "code",
   "execution_count": 15,
   "id": "7ef1aef5",
   "metadata": {
    "id": "7ef1aef5"
   },
   "outputs": [],
   "source": [
    "import numpy as np\n",
    "import pandas as pd\n",
    "import matplotlib.pyplot as plt\n",
    "import seaborn as sb\n",
    "sb.set()"
   ]
  },
  {
   "cell_type": "markdown",
   "id": "633f52b5",
   "metadata": {
    "id": "633f52b5"
   },
   "source": [
    "Create a dataframe from the dataset"
   ]
  },
  {
   "cell_type": "code",
   "execution_count": 16,
   "id": "5f433dfd",
   "metadata": {
    "colab": {
     "base_uri": "https://localhost:8080/",
     "height": 1000
    },
    "executionInfo": {
     "elapsed": 2442,
     "status": "ok",
     "timestamp": 1647305936763,
     "user": {
      "displayName": "Daniel Tan",
      "photoUrl": "https://lh3.googleusercontent.com/a-/AOh14Gh2rCY9GFaFOEwAtqfOOiYbt_xDtEymQK_Nbcw_fg=s64",
      "userId": "08000639285833235229"
     },
     "user_tz": -480
    },
    "id": "5f433dfd",
    "outputId": "c6bc6843-f8b6-472d-e27b-2b54f89c4f9e"
   },
   "outputs": [],
   "source": [
    "songdata = pd.read_csv('data/genre_music_cleaned.csv')"
   ]
  },
  {
   "cell_type": "code",
   "execution_count": 17,
   "id": "b8752fa6",
   "metadata": {
    "id": "b8752fa6",
    "outputId": "6b8c7207-0e52-4c71-bef1-04cbec223458"
   },
   "outputs": [
    {
     "name": "stdout",
     "output_type": "stream",
     "text": [
      "Shape:  (35853, 20)\n"
     ]
    }
   ],
   "source": [
    "print(\"Shape: \", songdata.shape)"
   ]
  },
  {
   "cell_type": "markdown",
   "id": "Dy3b8K2pZARE",
   "metadata": {
    "id": "Dy3b8K2pZARE"
   },
   "source": [
    "### Model Data Preparation"
   ]
  },
  {
   "cell_type": "markdown",
   "id": "a1f2f097",
   "metadata": {
    "id": "a1f2f097"
   },
   "source": [
    "MLPClassifier predicts classes that inputs fall into, and therefore we need to classify the genre values and label encode them."
   ]
  },
  {
   "cell_type": "code",
   "execution_count": 18,
   "id": "8d52701d",
   "metadata": {
    "colab": {
     "base_uri": "https://localhost:8080/",
     "height": 548
    },
    "executionInfo": {
     "elapsed": 344,
     "status": "ok",
     "timestamp": 1647305953219,
     "user": {
      "displayName": "Daniel Tan",
      "photoUrl": "https://lh3.googleusercontent.com/a-/AOh14Gh2rCY9GFaFOEwAtqfOOiYbt_xDtEymQK_Nbcw_fg=s64",
      "userId": "08000639285833235229"
     },
     "user_tz": -480
    },
    "id": "8d52701d",
    "outputId": "56c8cbef-befe-47be-81cb-9508a39e58d3"
   },
   "outputs": [
    {
     "data": {
      "text/html": [
       "<div>\n",
       "<style scoped>\n",
       "    .dataframe tbody tr th:only-of-type {\n",
       "        vertical-align: middle;\n",
       "    }\n",
       "\n",
       "    .dataframe tbody tr th {\n",
       "        vertical-align: top;\n",
       "    }\n",
       "\n",
       "    .dataframe thead th {\n",
       "        text-align: right;\n",
       "    }\n",
       "</style>\n",
       "<table border=\"1\" class=\"dataframe\">\n",
       "  <thead>\n",
       "    <tr style=\"text-align: right;\">\n",
       "      <th></th>\n",
       "      <th>track</th>\n",
       "      <th>artist</th>\n",
       "      <th>danceability</th>\n",
       "      <th>energy</th>\n",
       "      <th>key</th>\n",
       "      <th>loudness</th>\n",
       "      <th>mode</th>\n",
       "      <th>speechiness</th>\n",
       "      <th>acousticness</th>\n",
       "      <th>instrumentalness</th>\n",
       "      <th>liveness</th>\n",
       "      <th>valence</th>\n",
       "      <th>tempo</th>\n",
       "      <th>duration_s</th>\n",
       "      <th>time_signature</th>\n",
       "      <th>chorus_hit</th>\n",
       "      <th>sections</th>\n",
       "      <th>popularity</th>\n",
       "      <th>decade</th>\n",
       "      <th>genre</th>\n",
       "    </tr>\n",
       "  </thead>\n",
       "  <tbody>\n",
       "    <tr>\n",
       "      <th>0</th>\n",
       "      <td>Jealous Kind Of Fella</td>\n",
       "      <td>Garland Green</td>\n",
       "      <td>0.417</td>\n",
       "      <td>0.620</td>\n",
       "      <td>3</td>\n",
       "      <td>-7.727</td>\n",
       "      <td>1</td>\n",
       "      <td>0.0403</td>\n",
       "      <td>0.490</td>\n",
       "      <td>0.000000</td>\n",
       "      <td>0.0779</td>\n",
       "      <td>0.845</td>\n",
       "      <td>185.655</td>\n",
       "      <td>173.533</td>\n",
       "      <td>3</td>\n",
       "      <td>32.94975</td>\n",
       "      <td>9</td>\n",
       "      <td>1</td>\n",
       "      <td>60s</td>\n",
       "      <td>0</td>\n",
       "    </tr>\n",
       "    <tr>\n",
       "      <th>1</th>\n",
       "      <td>Initials B.B.</td>\n",
       "      <td>Serge Gainsbourg</td>\n",
       "      <td>0.498</td>\n",
       "      <td>0.505</td>\n",
       "      <td>3</td>\n",
       "      <td>-12.475</td>\n",
       "      <td>1</td>\n",
       "      <td>0.0337</td>\n",
       "      <td>0.018</td>\n",
       "      <td>0.107000</td>\n",
       "      <td>0.1760</td>\n",
       "      <td>0.797</td>\n",
       "      <td>101.801</td>\n",
       "      <td>213.613</td>\n",
       "      <td>4</td>\n",
       "      <td>48.82510</td>\n",
       "      <td>10</td>\n",
       "      <td>0</td>\n",
       "      <td>60s</td>\n",
       "      <td>2</td>\n",
       "    </tr>\n",
       "    <tr>\n",
       "      <th>2</th>\n",
       "      <td>Melody Twist</td>\n",
       "      <td>Lord Melody</td>\n",
       "      <td>0.657</td>\n",
       "      <td>0.649</td>\n",
       "      <td>5</td>\n",
       "      <td>-13.392</td>\n",
       "      <td>1</td>\n",
       "      <td>0.0380</td>\n",
       "      <td>0.846</td>\n",
       "      <td>0.000004</td>\n",
       "      <td>0.1190</td>\n",
       "      <td>0.908</td>\n",
       "      <td>115.940</td>\n",
       "      <td>223.960</td>\n",
       "      <td>4</td>\n",
       "      <td>37.22663</td>\n",
       "      <td>12</td>\n",
       "      <td>0</td>\n",
       "      <td>60s</td>\n",
       "      <td>2</td>\n",
       "    </tr>\n",
       "    <tr>\n",
       "      <th>3</th>\n",
       "      <td>Mi Bomba Sonó</td>\n",
       "      <td>Celia Cruz</td>\n",
       "      <td>0.590</td>\n",
       "      <td>0.545</td>\n",
       "      <td>7</td>\n",
       "      <td>-12.058</td>\n",
       "      <td>0</td>\n",
       "      <td>0.1040</td>\n",
       "      <td>0.706</td>\n",
       "      <td>0.024600</td>\n",
       "      <td>0.0610</td>\n",
       "      <td>0.967</td>\n",
       "      <td>105.592</td>\n",
       "      <td>157.907</td>\n",
       "      <td>4</td>\n",
       "      <td>24.75484</td>\n",
       "      <td>8</td>\n",
       "      <td>0</td>\n",
       "      <td>60s</td>\n",
       "      <td>2</td>\n",
       "    </tr>\n",
       "    <tr>\n",
       "      <th>4</th>\n",
       "      <td>Uravu Solla</td>\n",
       "      <td>P. Susheela</td>\n",
       "      <td>0.515</td>\n",
       "      <td>0.765</td>\n",
       "      <td>11</td>\n",
       "      <td>-3.515</td>\n",
       "      <td>0</td>\n",
       "      <td>0.1240</td>\n",
       "      <td>0.857</td>\n",
       "      <td>0.000872</td>\n",
       "      <td>0.2130</td>\n",
       "      <td>0.906</td>\n",
       "      <td>114.617</td>\n",
       "      <td>245.600</td>\n",
       "      <td>4</td>\n",
       "      <td>21.79874</td>\n",
       "      <td>14</td>\n",
       "      <td>0</td>\n",
       "      <td>60s</td>\n",
       "      <td>3</td>\n",
       "    </tr>\n",
       "  </tbody>\n",
       "</table>\n",
       "</div>"
      ],
      "text/plain": [
       "                   track            artist  danceability  energy  key  \\\n",
       "0  Jealous Kind Of Fella     Garland Green         0.417   0.620    3   \n",
       "1          Initials B.B.  Serge Gainsbourg         0.498   0.505    3   \n",
       "2           Melody Twist       Lord Melody         0.657   0.649    5   \n",
       "3          Mi Bomba Sonó        Celia Cruz         0.590   0.545    7   \n",
       "4            Uravu Solla       P. Susheela         0.515   0.765   11   \n",
       "\n",
       "   loudness  mode  speechiness  acousticness  instrumentalness  liveness  \\\n",
       "0    -7.727     1       0.0403         0.490          0.000000    0.0779   \n",
       "1   -12.475     1       0.0337         0.018          0.107000    0.1760   \n",
       "2   -13.392     1       0.0380         0.846          0.000004    0.1190   \n",
       "3   -12.058     0       0.1040         0.706          0.024600    0.0610   \n",
       "4    -3.515     0       0.1240         0.857          0.000872    0.2130   \n",
       "\n",
       "   valence    tempo  duration_s  time_signature  chorus_hit  sections  \\\n",
       "0    0.845  185.655     173.533               3    32.94975         9   \n",
       "1    0.797  101.801     213.613               4    48.82510        10   \n",
       "2    0.908  115.940     223.960               4    37.22663        12   \n",
       "3    0.967  105.592     157.907               4    24.75484         8   \n",
       "4    0.906  114.617     245.600               4    21.79874        14   \n",
       "\n",
       "   popularity decade  genre  \n",
       "0           1    60s      0  \n",
       "1           0    60s      2  \n",
       "2           0    60s      2  \n",
       "3           0    60s      2  \n",
       "4           0    60s      3  "
      ]
     },
     "execution_count": 18,
     "metadata": {},
     "output_type": "execute_result"
    }
   ],
   "source": [
    "from sklearn.preprocessing import LabelEncoder\n",
    "\n",
    "# label encoding genre\n",
    "songdata['genre'] = LabelEncoder().fit_transform(songdata['genre'])\n",
    "songdata.head()"
   ]
  },
  {
   "cell_type": "markdown",
   "id": "91b629d6",
   "metadata": {
    "id": "91b629d6"
   },
   "source": [
    "We now need to scale the predictor variables so that they can be used together to predict the genres. Dropping of less important variables is done here too."
   ]
  },
  {
   "cell_type": "code",
   "execution_count": 19,
   "id": "d003d43e",
   "metadata": {
    "colab": {
     "base_uri": "https://localhost:8080/",
     "height": 344
    },
    "executionInfo": {
     "elapsed": 318,
     "status": "ok",
     "timestamp": 1647259697865,
     "user": {
      "displayName": "Daniel Tan",
      "photoUrl": "https://lh3.googleusercontent.com/a-/AOh14Gh2rCY9GFaFOEwAtqfOOiYbt_xDtEymQK_Nbcw_fg=s64",
      "userId": "08000639285833235229"
     },
     "user_tz": -480
    },
    "id": "d003d43e",
    "outputId": "ce61442e-9925-4382-b1aa-67921c35ec18"
   },
   "outputs": [
    {
     "data": {
      "text/html": [
       "<div>\n",
       "<style scoped>\n",
       "    .dataframe tbody tr th:only-of-type {\n",
       "        vertical-align: middle;\n",
       "    }\n",
       "\n",
       "    .dataframe tbody tr th {\n",
       "        vertical-align: top;\n",
       "    }\n",
       "\n",
       "    .dataframe thead th {\n",
       "        text-align: right;\n",
       "    }\n",
       "</style>\n",
       "<table border=\"1\" class=\"dataframe\">\n",
       "  <thead>\n",
       "    <tr style=\"text-align: right;\">\n",
       "      <th></th>\n",
       "      <th>danceability</th>\n",
       "      <th>energy</th>\n",
       "      <th>key</th>\n",
       "      <th>loudness</th>\n",
       "      <th>speechiness</th>\n",
       "      <th>instrumentalness</th>\n",
       "      <th>liveness</th>\n",
       "      <th>tempo</th>\n",
       "      <th>duration_s</th>\n",
       "      <th>genre</th>\n",
       "    </tr>\n",
       "  </thead>\n",
       "  <tbody>\n",
       "    <tr>\n",
       "      <th>count</th>\n",
       "      <td>35853.000000</td>\n",
       "      <td>35853.000000</td>\n",
       "      <td>35853.000000</td>\n",
       "      <td>35853.000000</td>\n",
       "      <td>35853.000000</td>\n",
       "      <td>35853.000000</td>\n",
       "      <td>35853.000000</td>\n",
       "      <td>35853.000000</td>\n",
       "      <td>35853.000000</td>\n",
       "      <td>35853.000000</td>\n",
       "    </tr>\n",
       "    <tr>\n",
       "      <th>mean</th>\n",
       "      <td>0.542633</td>\n",
       "      <td>0.575719</td>\n",
       "      <td>5.202605</td>\n",
       "      <td>0.734070</td>\n",
       "      <td>0.076686</td>\n",
       "      <td>0.161579</td>\n",
       "      <td>0.192288</td>\n",
       "      <td>0.494928</td>\n",
       "      <td>0.052834</td>\n",
       "      <td>2.757315</td>\n",
       "    </tr>\n",
       "    <tr>\n",
       "      <th>std</th>\n",
       "      <td>0.181162</td>\n",
       "      <td>0.254555</td>\n",
       "      <td>3.533002</td>\n",
       "      <td>0.101216</td>\n",
       "      <td>0.091585</td>\n",
       "      <td>0.309249</td>\n",
       "      <td>0.176256</td>\n",
       "      <td>0.120988</td>\n",
       "      <td>0.029627</td>\n",
       "      <td>1.301303</td>\n",
       "    </tr>\n",
       "    <tr>\n",
       "      <th>min</th>\n",
       "      <td>0.000000</td>\n",
       "      <td>0.000000</td>\n",
       "      <td>0.000000</td>\n",
       "      <td>0.000000</td>\n",
       "      <td>0.000000</td>\n",
       "      <td>0.000000</td>\n",
       "      <td>0.000000</td>\n",
       "      <td>0.000000</td>\n",
       "      <td>0.000000</td>\n",
       "      <td>0.000000</td>\n",
       "    </tr>\n",
       "    <tr>\n",
       "      <th>25%</th>\n",
       "      <td>0.420040</td>\n",
       "      <td>0.389847</td>\n",
       "      <td>2.000000</td>\n",
       "      <td>0.684963</td>\n",
       "      <td>0.035208</td>\n",
       "      <td>0.000000</td>\n",
       "      <td>0.082353</td>\n",
       "      <td>0.403620</td>\n",
       "      <td>0.037424</td>\n",
       "      <td>2.000000</td>\n",
       "    </tr>\n",
       "    <tr>\n",
       "      <th>50%</th>\n",
       "      <td>0.554656</td>\n",
       "      <td>0.595899</td>\n",
       "      <td>5.000000</td>\n",
       "      <td>0.752495</td>\n",
       "      <td>0.045417</td>\n",
       "      <td>0.000145</td>\n",
       "      <td>0.120690</td>\n",
       "      <td>0.487123</td>\n",
       "      <td>0.048506</td>\n",
       "      <td>2.000000</td>\n",
       "    </tr>\n",
       "    <tr>\n",
       "      <th>75%</th>\n",
       "      <td>0.675101</td>\n",
       "      <td>0.784946</td>\n",
       "      <td>8.000000</td>\n",
       "      <td>0.806989</td>\n",
       "      <td>0.073229</td>\n",
       "      <td>0.080800</td>\n",
       "      <td>0.253550</td>\n",
       "      <td>0.566713</td>\n",
       "      <td>0.060570</td>\n",
       "      <td>3.000000</td>\n",
       "    </tr>\n",
       "    <tr>\n",
       "      <th>max</th>\n",
       "      <td>1.000000</td>\n",
       "      <td>1.000000</td>\n",
       "      <td>11.000000</td>\n",
       "      <td>1.000000</td>\n",
       "      <td>1.000000</td>\n",
       "      <td>1.000000</td>\n",
       "      <td>1.000000</td>\n",
       "      <td>1.000000</td>\n",
       "      <td>1.000000</td>\n",
       "      <td>5.000000</td>\n",
       "    </tr>\n",
       "  </tbody>\n",
       "</table>\n",
       "</div>"
      ],
      "text/plain": [
       "       danceability        energy           key      loudness   speechiness  \\\n",
       "count  35853.000000  35853.000000  35853.000000  35853.000000  35853.000000   \n",
       "mean       0.542633      0.575719      5.202605      0.734070      0.076686   \n",
       "std        0.181162      0.254555      3.533002      0.101216      0.091585   \n",
       "min        0.000000      0.000000      0.000000      0.000000      0.000000   \n",
       "25%        0.420040      0.389847      2.000000      0.684963      0.035208   \n",
       "50%        0.554656      0.595899      5.000000      0.752495      0.045417   \n",
       "75%        0.675101      0.784946      8.000000      0.806989      0.073229   \n",
       "max        1.000000      1.000000     11.000000      1.000000      1.000000   \n",
       "\n",
       "       instrumentalness      liveness         tempo    duration_s  \\\n",
       "count      35853.000000  35853.000000  35853.000000  35853.000000   \n",
       "mean           0.161579      0.192288      0.494928      0.052834   \n",
       "std            0.309249      0.176256      0.120988      0.029627   \n",
       "min            0.000000      0.000000      0.000000      0.000000   \n",
       "25%            0.000000      0.082353      0.403620      0.037424   \n",
       "50%            0.000145      0.120690      0.487123      0.048506   \n",
       "75%            0.080800      0.253550      0.566713      0.060570   \n",
       "max            1.000000      1.000000      1.000000      1.000000   \n",
       "\n",
       "              genre  \n",
       "count  35853.000000  \n",
       "mean       2.757315  \n",
       "std        1.301303  \n",
       "min        0.000000  \n",
       "25%        2.000000  \n",
       "50%        2.000000  \n",
       "75%        3.000000  \n",
       "max        5.000000  "
      ]
     },
     "execution_count": 19,
     "metadata": {},
     "output_type": "execute_result"
    }
   ],
   "source": [
    "from sklearn.neural_network import MLPClassifier\n",
    "from sklearn.model_selection import train_test_split\n",
    "from sklearn.preprocessing import StandardScaler\n",
    "from sklearn.preprocessing import MinMaxScaler\n",
    "\n",
    "songdata[['acousticness', 'danceability', 'energy', 'instrumentalness', 'liveness', 'loudness', 'tempo', 'time_signature', 'valence', 'mode', 'speechiness', 'chorus_hit', 'sections', 'duration_s']] = MinMaxScaler().fit_transform(songdata[['acousticness', 'danceability', 'energy', 'instrumentalness', 'liveness', 'loudness', 'tempo', 'time_signature', 'valence', 'mode', 'speechiness', 'chorus_hit', 'sections', 'duration_s']])\n",
    "\n",
    "songdata.drop(columns=['popularity', 'track', 'artist', 'decade', 'time_signature', 'sections', 'acousticness', 'valence', 'mode', 'chorus_hit'], inplace=True)\n",
    "songdata.describe()"
   ]
  },
  {
   "cell_type": "code",
   "execution_count": 20,
   "id": "b02ef223",
   "metadata": {
    "colab": {
     "base_uri": "https://localhost:8080/"
    },
    "executionInfo": {
     "elapsed": 305,
     "status": "ok",
     "timestamp": 1647259708544,
     "user": {
      "displayName": "Daniel Tan",
      "photoUrl": "https://lh3.googleusercontent.com/a-/AOh14Gh2rCY9GFaFOEwAtqfOOiYbt_xDtEymQK_Nbcw_fg=s64",
      "userId": "08000639285833235229"
     },
     "user_tz": -480
    },
    "id": "b02ef223",
    "outputId": "7103c1de-c613-4025-b190-d44f76199891"
   },
   "outputs": [
    {
     "data": {
      "text/plain": [
       "2    14329\n",
       "3     9455\n",
       "5     6190\n",
       "1     2469\n",
       "4     2104\n",
       "0     1306\n",
       "Name: genre, dtype: int64"
      ]
     },
     "execution_count": 20,
     "metadata": {},
     "output_type": "execute_result"
    }
   ],
   "source": [
    "songdata['genre'].value_counts()"
   ]
  },
  {
   "cell_type": "markdown",
   "id": "4be525e2",
   "metadata": {
    "id": "4be525e2"
   },
   "source": [
    "We note that the numbers of each songs per category are different. For example, there are 14247 songs in the Pop genre, whereas there are only 1326 songs in the EDM genre. Although using a Train/Test model would help to obtain random sampling of data, as there is a huge difference in sample size between song categories, we run the risk of introducing a significant sampling bias. \n",
    "\n",
    "Hence, we use Stratified Sampling Technique, which would help to eliminate the biasness of the selection of data.\n",
    "\n",
    "Source: https://medium.com/@IrekponorVictor/creating-an-unbiased-test-set-for-your-model-using-stratified-sampling-technique-672b778022d5"
   ]
  },
  {
   "cell_type": "code",
   "execution_count": 21,
   "id": "d2bba12c",
   "metadata": {
    "id": "d2bba12c"
   },
   "outputs": [],
   "source": [
    "# importing StratifiedShuffleSplit\n",
    "from sklearn.model_selection import StratifiedShuffleSplit\n",
    "\n",
    "split = StratifiedShuffleSplit(n_splits=1, test_size=0.20)\n",
    "\n",
    "for train_index, test_index in split.split(songdata, songdata['genre']):\n",
    "     train_set, test_set = songdata.iloc[train_index], songdata.iloc[test_index]\n",
    "\n",
    "# after obtaining train/test set, proceed to split train into X and y train set, and test into x and y test set\n",
    "y_train = pd.DataFrame(train_set['genre'])\n",
    "x_train = train_set\n",
    "x_train = x_train.drop(columns=['genre'])\n",
    "\n",
    "y_test = pd.DataFrame(test_set['genre'])\n",
    "x_test = test_set\n",
    "x_test = x_test.drop(columns=['genre'])"
   ]
  },
  {
   "cell_type": "markdown",
   "id": "292f2b90",
   "metadata": {
    "id": "292f2b90"
   },
   "source": [
    "Check how many songs in each genre there are in train/test set"
   ]
  },
  {
   "cell_type": "code",
   "execution_count": 22,
   "id": "adde23ee",
   "metadata": {
    "colab": {
     "base_uri": "https://localhost:8080/"
    },
    "executionInfo": {
     "elapsed": 307,
     "status": "ok",
     "timestamp": 1647259733914,
     "user": {
      "displayName": "Daniel Tan",
      "photoUrl": "https://lh3.googleusercontent.com/a-/AOh14Gh2rCY9GFaFOEwAtqfOOiYbt_xDtEymQK_Nbcw_fg=s64",
      "userId": "08000639285833235229"
     },
     "user_tz": -480
    },
    "id": "adde23ee",
    "outputId": "a8551ba5-bc1e-4c98-fe2f-b911c6dee2c8"
   },
   "outputs": [
    {
     "data": {
      "text/plain": [
       "<bound method DataFrame.value_counts of        genre\n",
       "8802       2\n",
       "31959      2\n",
       "7120       3\n",
       "26130      2\n",
       "15543      3\n",
       "...      ...\n",
       "23922      3\n",
       "19013      3\n",
       "10324      2\n",
       "7639       2\n",
       "577        2\n",
       "\n",
       "[28682 rows x 1 columns]>"
      ]
     },
     "execution_count": 22,
     "metadata": {},
     "output_type": "execute_result"
    }
   ],
   "source": [
    "y_train.value_counts"
   ]
  },
  {
   "cell_type": "code",
   "execution_count": 23,
   "id": "12ba24bb",
   "metadata": {
    "colab": {
     "base_uri": "https://localhost:8080/"
    },
    "executionInfo": {
     "elapsed": 12,
     "status": "ok",
     "timestamp": 1647259736620,
     "user": {
      "displayName": "Daniel Tan",
      "photoUrl": "https://lh3.googleusercontent.com/a-/AOh14Gh2rCY9GFaFOEwAtqfOOiYbt_xDtEymQK_Nbcw_fg=s64",
      "userId": "08000639285833235229"
     },
     "user_tz": -480
    },
    "id": "12ba24bb",
    "outputId": "b1fae9dd-0859-4559-8cc9-454fa97d0089"
   },
   "outputs": [
    {
     "name": "stdout",
     "output_type": "stream",
     "text": [
      "28682\n",
      "35\n"
     ]
    }
   ],
   "source": [
    "print(len(y_train))\n",
    "print((int)(np.ceil(10**6 / len(y_train))))"
   ]
  },
  {
   "cell_type": "code",
   "execution_count": 24,
   "id": "d2c7155c",
   "metadata": {
    "id": "d2c7155c",
    "outputId": "f68f9514-a6d2-4386-f13d-7ae39c4930d5"
   },
   "outputs": [
    {
     "data": {
      "text/plain": [
       "genre\n",
       "2        2866\n",
       "3        1891\n",
       "5        1238\n",
       "1         494\n",
       "4         421\n",
       "0         261\n",
       "dtype: int64"
      ]
     },
     "execution_count": 24,
     "metadata": {},
     "output_type": "execute_result"
    }
   ],
   "source": [
    "y_test.value_counts()"
   ]
  },
  {
   "cell_type": "markdown",
   "id": "5e01ad5b",
   "metadata": {
    "id": "5e01ad5b"
   },
   "source": [
    "After obtaining Train/Test data, use MLPClassifier"
   ]
  },
  {
   "cell_type": "markdown",
   "id": "c49345f0",
   "metadata": {
    "id": "c49345f0"
   },
   "source": [
    "Try plotting the correlation matrix."
   ]
  },
  {
   "cell_type": "code",
   "execution_count": null,
   "id": "6c781672",
   "metadata": {
    "colab": {
     "base_uri": "https://localhost:8080/"
    },
    "executionInfo": {
     "elapsed": 11146467,
     "status": "ok",
     "timestamp": 1647270958199,
     "user": {
      "displayName": "Daniel Tan",
      "photoUrl": "https://lh3.googleusercontent.com/a-/AOh14Gh2rCY9GFaFOEwAtqfOOiYbt_xDtEymQK_Nbcw_fg=s64",
      "userId": "08000639285833235229"
     },
     "user_tz": -480
    },
    "id": "6c781672",
    "outputId": "a82716f1-1090-41da-f6f0-751d21cfcdaf"
   },
   "outputs": [],
   "source": [
    "def accuracy(confusion_matrix):\n",
    "   diagonal_sum = confusion_matrix.trace()\n",
    "   sum_of_all_elements = confusion_matrix.sum()\n",
    "   return diagonal_sum / sum_of_all_elements\n",
    "\n",
    "#Initializing the MLPClassifier\n",
    "classifier = MLPClassifier(hidden_layer_sizes=(400, 300, 250, 100, 50), max_iter=3000,\n",
    "                           activation = 'relu', solver='sgd', learning_rate='adaptive', learning_rate_init=0.0001,\n",
    "                           momentum=0.9, batch_size=6, random_state=1)\n",
    "\n",
    "classifier.fit(x_train, y_train.values.ravel())\n",
    "y_pred = classifier.predict(x_train)\n",
    "\n",
    "#Importing Confusion Matrix\n",
    "from sklearn.metrics import confusion_matrix\n",
    "#Comparing the predictions against the actual observations in y_val\n",
    "cm = confusion_matrix(y_pred, y_train)\n",
    "\n",
    "#Printing the accuracy\n",
    "print(\"Accuracy of MLPClassifier : \", accuracy(cm))"
   ]
  },
  {
   "cell_type": "code",
   "execution_count": null,
   "id": "d701154c",
   "metadata": {
    "colab": {
     "base_uri": "https://localhost:8080/",
     "height": 285
    },
    "executionInfo": {
     "elapsed": 852,
     "status": "ok",
     "timestamp": 1647270959044,
     "user": {
      "displayName": "Daniel Tan",
      "photoUrl": "https://lh3.googleusercontent.com/a-/AOh14Gh2rCY9GFaFOEwAtqfOOiYbt_xDtEymQK_Nbcw_fg=s64",
      "userId": "08000639285833235229"
     },
     "user_tz": -480
    },
    "id": "d701154c",
    "outputId": "0a2628b1-a47e-4122-eb45-963ed170cfff"
   },
   "outputs": [
    {
     "data": {
      "text/plain": [
       "<matplotlib.axes._subplots.AxesSubplot at 0x7f99a420ab10>"
      ]
     },
     "execution_count": 13,
     "metadata": {},
     "output_type": "execute_result"
    },
    {
     "data": {
      "image/png": "[encoded data removed]",
      "text/plain": [
       "<Figure size 432x288 with 2 Axes>"
      ]
     },
     "metadata": {
      "needs_background": "light"
     },
     "output_type": "display_data"
    }
   ],
   "source": [
    "sb.heatmap(cm, annot=True, fmt=\".0f\", annot_kws={\"size\":18})"
   ]
  },
  {
   "cell_type": "markdown",
   "id": "7331ca3c",
   "metadata": {
    "id": "7331ca3c"
   },
   "source": [
    "Check the accuracy on the test data."
   ]
  },
  {
   "cell_type": "code",
   "execution_count": null,
   "id": "f401d7e2",
   "metadata": {
    "colab": {
     "base_uri": "https://localhost:8080/"
    },
    "executionInfo": {
     "elapsed": 328,
     "status": "ok",
     "timestamp": 1647271042822,
     "user": {
      "displayName": "Daniel Tan",
      "photoUrl": "https://lh3.googleusercontent.com/a-/AOh14Gh2rCY9GFaFOEwAtqfOOiYbt_xDtEymQK_Nbcw_fg=s64",
      "userId": "08000639285833235229"
     },
     "user_tz": -480
    },
    "id": "f401d7e2",
    "outputId": "70dcb8b3-270f-4dc2-dd3d-2d6b7fcda7ee"
   },
   "outputs": [
    {
     "name": "stdout",
     "output_type": "stream",
     "text": [
      "Accuracy of MLPClassifier on test data : 0.988843954818017\n"
     ]
    }
   ],
   "source": [
    "y_test_pred = classifier.predict(x_test)\n",
    "\n",
    "cm = confusion_matrix(y_test_pred, y_test)\n",
    "\n",
    "# print accuracy\n",
    "print('Accuracy of MLPClassifier on test data :', accuracy(cm))"
   ]
  },
  {
   "cell_type": "code",
   "execution_count": null,
   "id": "f6cbd60d",
   "metadata": {
    "id": "f6cbd60d",
    "outputId": "a3c5f909-3993-43b5-dfed-623371185025"
   },
   "outputs": [
    {
     "data": {
      "text/plain": [
       "<AxesSubplot:>"
      ]
     },
     "execution_count": 12,
     "metadata": {},
     "output_type": "execute_result"
    },
    {
     "data": {
      "image/png": "[encoded data removed]",
      "text/plain": [
       "<Figure size 432x288 with 2 Axes>"
      ]
     },
     "metadata": {},
     "output_type": "display_data"
    }
   ],
   "source": [
    "sb.heatmap(cm, annot=True, fmt=\".0f\", annot_kws={\"size\":18})"
   ]
  },
  {
   "cell_type": "markdown",
   "id": "cI53Z8lPaLaT",
   "metadata": {
    "id": "cI53Z8lPaLaT"
   },
   "source": [
    "With the refined predictor variables, the model has improved in its prediction accuracy, with 99% accuracy on the train and 98% accuracy on the test set."
   ]
  },
  {
   "cell_type": "markdown",
   "id": "9a6a9b8d",
   "metadata": {
    "id": "9a6a9b8d"
   },
   "source": [
    "Save model with pickle"
   ]
  },
  {
   "cell_type": "code",
   "execution_count": null,
   "id": "7ee7164d",
   "metadata": {
    "id": "7ee7164d"
   },
   "outputs": [],
   "source": [
    "import pickle\n",
    "\n",
    "filename = \"models/final_model.sav\"\n",
    "pickle.dump(classifier, open(filename, 'wb'))"
   ]
  },
  {
   "cell_type": "markdown",
   "id": "x9mG7YwkbEU1",
   "metadata": {
    "id": "x9mG7YwkbEU1"
   },
   "source": [
    "In order to test the ability of the model to predict the genres of song samples beyond the training dataset, an extra dataset of additional song samples was given to the model. (Source: https://kaggle.com/mrmorj/dataset-of-songs-in-spotify?select=genres_v2.csv)"
   ]
  },
  {
   "cell_type": "markdown",
   "id": "dd821837",
   "metadata": {
    "id": "dd821837"
   },
   "source": [
    "Verification with new dataset\n",
    "\n",
    "In this new dataset, there are only 3 different genres of songs, Pop, R&B and Rap, so we encoded them to match the encoding used on the original dataset. (Pop = 2, R&B = 3, Rap = 4)"
   ]
  },
  {
   "cell_type": "code",
   "execution_count": null,
   "id": "7ff0f07e",
   "metadata": {
    "colab": {
     "base_uri": "https://localhost:8080/",
     "height": 423
    },
    "executionInfo": {
     "elapsed": 1247,
     "status": "ok",
     "timestamp": 1647306288074,
     "user": {
      "displayName": "Daniel Tan",
      "photoUrl": "https://lh3.googleusercontent.com/a-/AOh14Gh2rCY9GFaFOEwAtqfOOiYbt_xDtEymQK_Nbcw_fg=s64",
      "userId": "08000639285833235229"
     },
     "user_tz": -480
    },
    "id": "7ff0f07e",
    "outputId": "4a6bb632-6bcc-4f45-c6ab-1cc7a7b78011"
   },
   "outputs": [
    {
     "data": {
      "text/html": [
       "\n",
       "  <div id=\"df-5fb5b3a6-e255-4d54-bf87-955d8c4947d2\">\n",
       "    <div class=\"colab-df-container\">\n",
       "      <div>\n",
       "<style scoped>\n",
       "    .dataframe tbody tr th:only-of-type {\n",
       "        vertical-align: middle;\n",
       "    }\n",
       "\n",
       "    .dataframe tbody tr th {\n",
       "        vertical-align: top;\n",
       "    }\n",
       "\n",
       "    .dataframe thead th {\n",
       "        text-align: right;\n",
       "    }\n",
       "</style>\n",
       "<table border=\"1\" class=\"dataframe\">\n",
       "  <thead>\n",
       "    <tr style=\"text-align: right;\">\n",
       "      <th></th>\n",
       "      <th>danceability</th>\n",
       "      <th>energy</th>\n",
       "      <th>key</th>\n",
       "      <th>loudness</th>\n",
       "      <th>speechiness</th>\n",
       "      <th>instrumentalness</th>\n",
       "      <th>liveness</th>\n",
       "      <th>tempo</th>\n",
       "      <th>duration_ms</th>\n",
       "      <th>genre</th>\n",
       "      <th>song_name</th>\n",
       "    </tr>\n",
       "  </thead>\n",
       "  <tbody>\n",
       "    <tr>\n",
       "      <th>14089</th>\n",
       "      <td>0.745</td>\n",
       "      <td>0.561</td>\n",
       "      <td>0</td>\n",
       "      <td>-4.869</td>\n",
       "      <td>0.0807</td>\n",
       "      <td>0.000000</td>\n",
       "      <td>0.133</td>\n",
       "      <td>77.557</td>\n",
       "      <td>248431</td>\n",
       "      <td>4</td>\n",
       "      <td>Empty</td>\n",
       "    </tr>\n",
       "    <tr>\n",
       "      <th>14090</th>\n",
       "      <td>0.837</td>\n",
       "      <td>0.364</td>\n",
       "      <td>8</td>\n",
       "      <td>-11.713</td>\n",
       "      <td>0.2760</td>\n",
       "      <td>0.000000</td>\n",
       "      <td>0.271</td>\n",
       "      <td>123.984</td>\n",
       "      <td>213594</td>\n",
       "      <td>4</td>\n",
       "      <td>MIDDLE CHILD</td>\n",
       "    </tr>\n",
       "    <tr>\n",
       "      <th>14091</th>\n",
       "      <td>0.834</td>\n",
       "      <td>0.730</td>\n",
       "      <td>8</td>\n",
       "      <td>-3.714</td>\n",
       "      <td>0.2220</td>\n",
       "      <td>0.000000</td>\n",
       "      <td>0.124</td>\n",
       "      <td>155.008</td>\n",
       "      <td>312820</td>\n",
       "      <td>4</td>\n",
       "      <td>SICKO MODE</td>\n",
       "    </tr>\n",
       "    <tr>\n",
       "      <th>14092</th>\n",
       "      <td>0.598</td>\n",
       "      <td>0.427</td>\n",
       "      <td>7</td>\n",
       "      <td>-8.764</td>\n",
       "      <td>0.0317</td>\n",
       "      <td>0.000006</td>\n",
       "      <td>0.210</td>\n",
       "      <td>76.469</td>\n",
       "      <td>175721</td>\n",
       "      <td>4</td>\n",
       "      <td>HIGHEST IN THE ROOM</td>\n",
       "    </tr>\n",
       "    <tr>\n",
       "      <th>14093</th>\n",
       "      <td>0.763</td>\n",
       "      <td>0.628</td>\n",
       "      <td>11</td>\n",
       "      <td>-5.850</td>\n",
       "      <td>0.0500</td>\n",
       "      <td>0.000000</td>\n",
       "      <td>0.114</td>\n",
       "      <td>140.958</td>\n",
       "      <td>190557</td>\n",
       "      <td>4</td>\n",
       "      <td>BUTTERFLY EFFECT</td>\n",
       "    </tr>\n",
       "    <tr>\n",
       "      <th>...</th>\n",
       "      <td>...</td>\n",
       "      <td>...</td>\n",
       "      <td>...</td>\n",
       "      <td>...</td>\n",
       "      <td>...</td>\n",
       "      <td>...</td>\n",
       "      <td>...</td>\n",
       "      <td>...</td>\n",
       "      <td>...</td>\n",
       "      <td>...</td>\n",
       "      <td>...</td>\n",
       "    </tr>\n",
       "    <tr>\n",
       "      <th>18492</th>\n",
       "      <td>0.486</td>\n",
       "      <td>0.617</td>\n",
       "      <td>5</td>\n",
       "      <td>-7.115</td>\n",
       "      <td>0.0287</td>\n",
       "      <td>0.000003</td>\n",
       "      <td>0.109</td>\n",
       "      <td>138.015</td>\n",
       "      <td>242373</td>\n",
       "      <td>2</td>\n",
       "      <td>Viva La Vida</td>\n",
       "    </tr>\n",
       "    <tr>\n",
       "      <th>18493</th>\n",
       "      <td>0.572</td>\n",
       "      <td>0.385</td>\n",
       "      <td>7</td>\n",
       "      <td>-6.362</td>\n",
       "      <td>0.0308</td>\n",
       "      <td>0.000000</td>\n",
       "      <td>0.231</td>\n",
       "      <td>191.598</td>\n",
       "      <td>215733</td>\n",
       "      <td>2</td>\n",
       "      <td>Shallow</td>\n",
       "    </tr>\n",
       "    <tr>\n",
       "      <th>18494</th>\n",
       "      <td>0.781</td>\n",
       "      <td>0.445</td>\n",
       "      <td>2</td>\n",
       "      <td>-6.061</td>\n",
       "      <td>0.0295</td>\n",
       "      <td>0.000000</td>\n",
       "      <td>0.184</td>\n",
       "      <td>157.996</td>\n",
       "      <td>281560</td>\n",
       "      <td>2</td>\n",
       "      <td>Thinking out Loud</td>\n",
       "    </tr>\n",
       "    <tr>\n",
       "      <th>18495</th>\n",
       "      <td>0.620</td>\n",
       "      <td>0.574</td>\n",
       "      <td>5</td>\n",
       "      <td>-7.788</td>\n",
       "      <td>0.0479</td>\n",
       "      <td>0.000000</td>\n",
       "      <td>0.190</td>\n",
       "      <td>200.046</td>\n",
       "      <td>250173</td>\n",
       "      <td>2</td>\n",
       "      <td>1-800-273-8255</td>\n",
       "    </tr>\n",
       "    <tr>\n",
       "      <th>18496</th>\n",
       "      <td>0.556</td>\n",
       "      <td>0.864</td>\n",
       "      <td>3</td>\n",
       "      <td>-5.870</td>\n",
       "      <td>0.0584</td>\n",
       "      <td>0.000000</td>\n",
       "      <td>0.209</td>\n",
       "      <td>210.286</td>\n",
       "      <td>216880</td>\n",
       "      <td>2</td>\n",
       "      <td>In the End</td>\n",
       "    </tr>\n",
       "  </tbody>\n",
       "</table>\n",
       "<p>4408 rows × 11 columns</p>\n",
       "</div>\n",
       "      <button class=\"colab-df-convert\" onclick=\"convertToInteractive('df-5fb5b3a6-e255-4d54-bf87-955d8c4947d2')\"\n",
       "              title=\"Convert this dataframe to an interactive table.\"\n",
       "              style=\"display:none;\">\n",
       "        \n",
       "  <svg xmlns=\"http://www.w3.org/2000/svg\" height=\"24px\"viewBox=\"0 0 24 24\"\n",
       "       width=\"24px\">\n",
       "    <path d=\"M0 0h24v24H0V0z\" fill=\"none\"/>\n",
       "    <path d=\"M18.56 5.44l.94 2.06.94-2.06 2.06-.94-2.06-.94-.94-2.06-.94 2.06-2.06.94zm-11 1L8.5 8.5l.94-2.06 2.06-.94-2.06-.94L8.5 2.5l-.94 2.06-2.06.94zm10 10l.94 2.06.94-2.06 2.06-.94-2.06-.94-.94-2.06-.94 2.06-2.06.94z\"/><path d=\"M17.41 7.96l-1.37-1.37c-.4-.4-.92-.59-1.43-.59-.52 0-1.04.2-1.43.59L10.3 9.45l-7.72 7.72c-.78.78-.78 2.05 0 2.83L4 21.41c.39.39.9.59 1.41.59.51 0 1.02-.2 1.41-.59l7.78-7.78 2.81-2.81c.8-.78.8-2.07 0-2.86zM5.41 20L4 18.59l7.72-7.72 1.47 1.35L5.41 20z\"/>\n",
       "  </svg>\n",
       "      </button>\n",
       "      \n",
       "  <style>\n",
       "    .colab-df-container {\n",
       "      display:flex;\n",
       "      flex-wrap:wrap;\n",
       "      gap: 12px;\n",
       "    }\n",
       "\n",
       "    .colab-df-convert {\n",
       "      background-color: #E8F0FE;\n",
       "      border: none;\n",
       "      border-radius: 50%;\n",
       "      cursor: pointer;\n",
       "      display: none;\n",
       "      fill: #1967D2;\n",
       "      height: 32px;\n",
       "      padding: 0 0 0 0;\n",
       "      width: 32px;\n",
       "    }\n",
       "\n",
       "    .colab-df-convert:hover {\n",
       "      background-color: #E2EBFA;\n",
       "      box-shadow: 0px 1px 2px rgba(60, 64, 67, 0.3), 0px 1px 3px 1px rgba(60, 64, 67, 0.15);\n",
       "      fill: #174EA6;\n",
       "    }\n",
       "\n",
       "    [theme=dark] .colab-df-convert {\n",
       "      background-color: #3B4455;\n",
       "      fill: #D2E3FC;\n",
       "    }\n",
       "\n",
       "    [theme=dark] .colab-df-convert:hover {\n",
       "      background-color: #434B5C;\n",
       "      box-shadow: 0px 1px 3px 1px rgba(0, 0, 0, 0.15);\n",
       "      filter: drop-shadow(0px 1px 2px rgba(0, 0, 0, 0.3));\n",
       "      fill: #FFFFFF;\n",
       "    }\n",
       "  </style>\n",
       "\n",
       "      <script>\n",
       "        const buttonEl =\n",
       "          document.querySelector('#df-5fb5b3a6-e255-4d54-bf87-955d8c4947d2 button.colab-df-convert');\n",
       "        buttonEl.style.display =\n",
       "          google.colab.kernel.accessAllowed ? 'block' : 'none';\n",
       "\n",
       "        async function convertToInteractive(key) {\n",
       "          const element = document.querySelector('#df-5fb5b3a6-e255-4d54-bf87-955d8c4947d2');\n",
       "          const dataTable =\n",
       "            await google.colab.kernel.invokeFunction('convertToInteractive',\n",
       "                                                     [key], {});\n",
       "          if (!dataTable) return;\n",
       "\n",
       "          const docLinkHtml = 'Like what you see? Visit the ' +\n",
       "            '<a target=\"_blank\" href=https://colab.research.google.com/notebooks/data_table.ipynb>data table notebook</a>'\n",
       "            + ' to learn more about interactive tables.';\n",
       "          element.innerHTML = '';\n",
       "          dataTable['output_type'] = 'display_data';\n",
       "          await google.colab.output.renderOutput(dataTable, element);\n",
       "          const docLink = document.createElement('div');\n",
       "          docLink.innerHTML = docLinkHtml;\n",
       "          element.appendChild(docLink);\n",
       "        }\n",
       "      </script>\n",
       "    </div>\n",
       "  </div>\n",
       "  "
      ],
      "text/plain": [
       "       danceability  energy  key  loudness  speechiness  instrumentalness  \\\n",
       "14089         0.745   0.561    0    -4.869       0.0807          0.000000   \n",
       "14090         0.837   0.364    8   -11.713       0.2760          0.000000   \n",
       "14091         0.834   0.730    8    -3.714       0.2220          0.000000   \n",
       "14092         0.598   0.427    7    -8.764       0.0317          0.000006   \n",
       "14093         0.763   0.628   11    -5.850       0.0500          0.000000   \n",
       "...             ...     ...  ...       ...          ...               ...   \n",
       "18492         0.486   0.617    5    -7.115       0.0287          0.000003   \n",
       "18493         0.572   0.385    7    -6.362       0.0308          0.000000   \n",
       "18494         0.781   0.445    2    -6.061       0.0295          0.000000   \n",
       "18495         0.620   0.574    5    -7.788       0.0479          0.000000   \n",
       "18496         0.556   0.864    3    -5.870       0.0584          0.000000   \n",
       "\n",
       "       liveness    tempo  duration_ms  genre            song_name  \n",
       "14089     0.133   77.557       248431      4                Empty  \n",
       "14090     0.271  123.984       213594      4         MIDDLE CHILD  \n",
       "14091     0.124  155.008       312820      4           SICKO MODE  \n",
       "14092     0.210   76.469       175721      4  HIGHEST IN THE ROOM  \n",
       "14093     0.114  140.958       190557      4     BUTTERFLY EFFECT  \n",
       "...         ...      ...          ...    ...                  ...  \n",
       "18492     0.109  138.015       242373      2         Viva La Vida  \n",
       "18493     0.231  191.598       215733      2              Shallow  \n",
       "18494     0.184  157.996       281560      2    Thinking out Loud  \n",
       "18495     0.190  200.046       250173      2       1-800-273-8255  \n",
       "18496     0.209  210.286       216880      2           In the End  \n",
       "\n",
       "[4408 rows x 11 columns]"
      ]
     },
     "execution_count": 13,
     "metadata": {},
     "output_type": "execute_result"
    }
   ],
   "source": [
    "validationdata = pd.read_csv('data/genres_v2.csv', low_memory=False)\n",
    "validationdata.drop(columns=['type', 'id', 'uri', 'track_href', 'analysis_url', 'time_signature', 'Unnamed: 0', 'title', 'acousticness', 'valence', 'mode'], inplace=True)\n",
    "validationdata = validationdata.loc[validationdata['genre'].isin(['Pop', 'RnB', 'Rap'])]\n",
    "validationdata.drop_duplicates(subset=['song_name'], keep='first')\n",
    "\n",
    "for index_label, row_series in validationdata.iterrows():\n",
    "    if validationdata.at[index_label , 'genre'] == 'Pop':\n",
    "        validationdata.at[index_label , 'genre'] = 2\n",
    "    elif validationdata.at[index_label , 'genre'] == 'RnB':\n",
    "        validationdata.at[index_label , 'genre'] = 3\n",
    "    elif validationdata.at[index_label , 'genre'] == 'Rap':\n",
    "        validationdata.at[index_label , 'genre'] = 4\n",
    "\n",
    "validationdata['genre'] = pd.to_numeric(validationdata['genre'])\n",
    "validationdata.head(50000)"
   ]
  },
  {
   "cell_type": "code",
   "execution_count": null,
   "id": "62598d0b",
   "metadata": {
    "colab": {
     "base_uri": "https://localhost:8080/",
     "height": 303
    },
    "executionInfo": {
     "elapsed": 981,
     "status": "ok",
     "timestamp": 1647271508931,
     "user": {
      "displayName": "Daniel Tan",
      "photoUrl": "https://lh3.googleusercontent.com/a-/AOh14Gh2rCY9GFaFOEwAtqfOOiYbt_xDtEymQK_Nbcw_fg=s64",
      "userId": "08000639285833235229"
     },
     "user_tz": -480
    },
    "id": "62598d0b",
    "outputId": "28656e57-eee8-4daa-963c-54bd8b8ec098"
   },
   "outputs": [
    {
     "name": "stdout",
     "output_type": "stream",
     "text": [
      "Accuracy of MLPClassifier on test data : 0.4147005444646098\n"
     ]
    },
    {
     "data": {
      "text/plain": [
       "<matplotlib.axes._subplots.AxesSubplot at 0x7f99a0428cd0>"
      ]
     },
     "execution_count": 17,
     "metadata": {},
     "output_type": "execute_result"
    },
    {
     "data": {
      "image/png": "[encoded data removed]",
      "text/plain": [
       "<Figure size 432x288 with 2 Axes>"
      ]
     },
     "metadata": {
      "needs_background": "light"
     },
     "output_type": "display_data"
    }
   ],
   "source": [
    "## converting duration_ms to duration_s as duration_s was used in original dataset\n",
    "validationdata[\"duration_ms\"] = validationdata[\"duration_ms\"]/1000\n",
    "validationdata.rename(columns={\"duration_ms\":\"duration_s\"},inplace=True)\n",
    "\n",
    "validationdata[['danceability', 'energy', 'instrumentalness', 'liveness', 'loudness', 'tempo', 'speechiness', 'duration_s']] = MinMaxScaler().fit_transform(validationdata[['danceability', 'energy', 'instrumentalness', 'liveness', 'loudness', 'tempo', 'speechiness', 'duration_s']])\n",
    "validationdata.drop(columns=['song_name'], inplace=True)\n",
    "\n",
    "response = pd.DataFrame(validationdata['genre'])\n",
    "predictor = validationdata\n",
    "predictor = validationdata.drop(columns=['genre'])\n",
    "\n",
    "validation_pred = classifier.predict(predictor)\n",
    "cm = confusion_matrix(validation_pred, response)\n",
    "\n",
    "# print accuracy\n",
    "print('Accuracy of MLPClassifier on test data :', accuracy(cm))\n",
    "\n",
    "sb.heatmap(cm, annot=True, fmt=\".0f\", annot_kws={\"size\":18})"
   ]
  },
  {
   "cell_type": "markdown",
   "id": "lf1FjXkVgQ8x",
   "metadata": {
    "id": "lf1FjXkVgQ8x"
   },
   "source": [
    "The accuracy of the model on this test set was 41%, which is reasonable. However, there is still much room for improvement, and perhaps training the model on an even larger dataset with more song samples would yield a better prediction accuracy. There may also be even more music characteristics which can be used as predictor variables which are not present in the dataset."
   ]
  }
 ],
 "metadata": {
  "colab": {
   "collapsed_sections": [],
   "name": "Final_Model.ipynb",
   "provenance": []
  },
  "kernelspec": {
   "display_name": "Python 3 (ipykernel)",
   "language": "python",
   "name": "python3"
  },
  "language_info": {
   "codemirror_mode": {
    "name": "ipython",
    "version": 3
   },
   "file_extension": ".py",
   "mimetype": "text/x-python",
   "name": "python",
   "nbconvert_exporter": "python",
   "pygments_lexer": "ipython3",
   "version": "3.9.7"
  },
  "papermill": {
   "default_parameters": {},
   "duration": 12.896024,
   "end_time": "2022-02-16T02:25:53.224422",
   "environment_variables": {},
   "exception": null,
   "input_path": "__notebook__.ipynb",
   "output_path": "__notebook__.ipynb",
   "parameters": {},
   "start_time": "2022-02-16T02:25:40.328398",
   "version": "2.3.3"
  }
 },
 "nbformat": 4,
 "nbformat_minor": 5
}
