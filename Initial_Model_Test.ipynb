{
 "cells": [
  {
   "cell_type": "markdown",
   "id": "b9bd9501",
   "metadata": {
    "id": "b9bd9501",
    "papermill": {
     "duration": 0.015558,
     "end_time": "2022-02-16T02:25:50.528603",
     "exception": false,
     "start_time": "2022-02-16T02:25:50.513045",
     "status": "completed"
    },
    "tags": []
   },
   "source": [
    "## Initial Model Testing File\n",
    "\n",
    "In this notebook, we load the saved initial model and display its accuracy on the train and test datasets."
   ]
  },
  {
   "cell_type": "code",
   "execution_count": 15,
   "id": "7ef1aef5",
   "metadata": {
    "_cell_guid": "b1076dfc-b9ad-4769-8c92-a6c4dae69d19",
    "_uuid": "8f2839f25d086af736a60e9eeb907d3b93b6e0e5",
    "execution": {
     "iopub.execute_input": "2022-02-16T02:25:50.562033Z",
     "iopub.status.busy": "2022-02-16T02:25:50.560858Z",
     "iopub.status.idle": "2022-02-16T02:25:51.653868Z",
     "shell.execute_reply": "2022-02-16T02:25:51.653194Z",
     "shell.execute_reply.started": "2022-02-16T01:58:06.734377Z"
    },
    "id": "7ef1aef5",
    "papermill": {
     "duration": 1.111296,
     "end_time": "2022-02-16T02:25:51.654060",
     "exception": false,
     "start_time": "2022-02-16T02:25:50.542764",
     "status": "completed"
    },
    "tags": []
   },
   "outputs": [],
   "source": [
    "import numpy as np\n",
    "import pandas as pd\n",
    "import matplotlib.pyplot as plt\n",
    "import seaborn as sb\n",
    "sb.set()"
   ]
  },
  {
   "cell_type": "markdown",
   "id": "bFKiuXuJVaHX",
   "metadata": {
    "id": "bFKiuXuJVaHX"
   },
   "source": [
    "Import the dataset we will be using:"
   ]
  },
  {
   "cell_type": "code",
   "execution_count": 2,
   "id": "2cvZ1_icVixF",
   "metadata": {
    "id": "2cvZ1_icVixF"
   },
   "outputs": [],
   "source": [
    "songdata = pd.read_csv('data/genre_music_cleaned.csv')"
   ]
  },
  {
   "cell_type": "markdown",
   "id": "a8jZ-aOwZ2UT",
   "metadata": {
    "id": "a8jZ-aOwZ2UT"
   },
   "source": [
    "Labelling of response variable and scaling of predictor variables."
   ]
  },
  {
   "cell_type": "code",
   "execution_count": 3,
   "id": "8d52701d",
   "metadata": {
    "colab": {
     "base_uri": "https://localhost:8080/",
     "height": 548
    },
    "executionInfo": {
     "elapsed": 8,
     "status": "ok",
     "timestamp": 1647931445622,
     "user": {
      "displayName": "Daniel Tan",
      "photoUrl": "https://lh3.googleusercontent.com/a-/AOh14Gh2rCY9GFaFOEwAtqfOOiYbt_xDtEymQK_Nbcw_fg=s64",
      "userId": "08000639285833235229"
     },
     "user_tz": -480
    },
    "id": "8d52701d",
    "outputId": "edb7fd9a-a9e9-4b81-b030-0c706c2bbdc2"
   },
   "outputs": [],
   "source": [
    "from sklearn.preprocessing import LabelEncoder\n",
    "\n",
    "# label encoding genre\n",
    "songdata['genre'] = LabelEncoder().fit_transform(songdata['genre'])"
   ]
  },
  {
   "cell_type": "markdown",
   "id": "91b629d6",
   "metadata": {
    "id": "91b629d6"
   },
   "source": [
    "We now need to scale the predictor variables so that they can be used together to predict the genre."
   ]
  },
  {
   "cell_type": "code",
   "execution_count": 4,
   "id": "d003d43e",
   "metadata": {
    "colab": {
     "base_uri": "https://localhost:8080/",
     "height": 364
    },
    "executionInfo": {
     "elapsed": 345,
     "status": "ok",
     "timestamp": 1647931449536,
     "user": {
      "displayName": "Daniel Tan",
      "photoUrl": "https://lh3.googleusercontent.com/a-/AOh14Gh2rCY9GFaFOEwAtqfOOiYbt_xDtEymQK_Nbcw_fg=s64",
      "userId": "08000639285833235229"
     },
     "user_tz": -480
    },
    "id": "d003d43e",
    "outputId": "20e7e0c8-9d0f-4961-8538-c3d8e16a4770"
   },
   "outputs": [
    {
     "data": {
      "text/html": [
       "<div>\n",
       "<style scoped>\n",
       "    .dataframe tbody tr th:only-of-type {\n",
       "        vertical-align: middle;\n",
       "    }\n",
       "\n",
       "    .dataframe tbody tr th {\n",
       "        vertical-align: top;\n",
       "    }\n",
       "\n",
       "    .dataframe thead th {\n",
       "        text-align: right;\n",
       "    }\n",
       "</style>\n",
       "<table border=\"1\" class=\"dataframe\">\n",
       "  <thead>\n",
       "    <tr style=\"text-align: right;\">\n",
       "      <th></th>\n",
       "      <th>danceability</th>\n",
       "      <th>energy</th>\n",
       "      <th>key</th>\n",
       "      <th>loudness</th>\n",
       "      <th>mode</th>\n",
       "      <th>speechiness</th>\n",
       "      <th>acousticness</th>\n",
       "      <th>instrumentalness</th>\n",
       "      <th>liveness</th>\n",
       "      <th>valence</th>\n",
       "      <th>tempo</th>\n",
       "      <th>duration_s</th>\n",
       "      <th>chorus_hit</th>\n",
       "      <th>genre</th>\n",
       "    </tr>\n",
       "  </thead>\n",
       "  <tbody>\n",
       "    <tr>\n",
       "      <th>count</th>\n",
       "      <td>35853.000000</td>\n",
       "      <td>35853.000000</td>\n",
       "      <td>35853.000000</td>\n",
       "      <td>35853.000000</td>\n",
       "      <td>35853.000000</td>\n",
       "      <td>35853.000000</td>\n",
       "      <td>35853.000000</td>\n",
       "      <td>35853.000000</td>\n",
       "      <td>35853.000000</td>\n",
       "      <td>35853.000000</td>\n",
       "      <td>35853.000000</td>\n",
       "      <td>35853.000000</td>\n",
       "      <td>35853.000000</td>\n",
       "      <td>35853.000000</td>\n",
       "    </tr>\n",
       "    <tr>\n",
       "      <th>mean</th>\n",
       "      <td>0.542633</td>\n",
       "      <td>0.575719</td>\n",
       "      <td>5.202605</td>\n",
       "      <td>0.734070</td>\n",
       "      <td>0.692941</td>\n",
       "      <td>0.076686</td>\n",
       "      <td>0.374916</td>\n",
       "      <td>0.161579</td>\n",
       "      <td>0.192288</td>\n",
       "      <td>0.544558</td>\n",
       "      <td>0.494928</td>\n",
       "      <td>234.697358</td>\n",
       "      <td>0.092719</td>\n",
       "      <td>2.757315</td>\n",
       "    </tr>\n",
       "    <tr>\n",
       "      <th>std</th>\n",
       "      <td>0.181162</td>\n",
       "      <td>0.254555</td>\n",
       "      <td>3.533002</td>\n",
       "      <td>0.101216</td>\n",
       "      <td>0.461281</td>\n",
       "      <td>0.091585</td>\n",
       "      <td>0.342635</td>\n",
       "      <td>0.309249</td>\n",
       "      <td>0.176256</td>\n",
       "      <td>0.270307</td>\n",
       "      <td>0.120988</td>\n",
       "      <td>123.102013</td>\n",
       "      <td>0.044200</td>\n",
       "      <td>1.301303</td>\n",
       "    </tr>\n",
       "    <tr>\n",
       "      <th>min</th>\n",
       "      <td>0.000000</td>\n",
       "      <td>0.000000</td>\n",
       "      <td>0.000000</td>\n",
       "      <td>0.000000</td>\n",
       "      <td>0.000000</td>\n",
       "      <td>0.000000</td>\n",
       "      <td>0.000000</td>\n",
       "      <td>0.000000</td>\n",
       "      <td>0.000000</td>\n",
       "      <td>0.000000</td>\n",
       "      <td>0.000000</td>\n",
       "      <td>15.168000</td>\n",
       "      <td>0.000000</td>\n",
       "      <td>0.000000</td>\n",
       "    </tr>\n",
       "    <tr>\n",
       "      <th>25%</th>\n",
       "      <td>0.420040</td>\n",
       "      <td>0.389847</td>\n",
       "      <td>2.000000</td>\n",
       "      <td>0.684963</td>\n",
       "      <td>0.000000</td>\n",
       "      <td>0.035208</td>\n",
       "      <td>0.041466</td>\n",
       "      <td>0.000000</td>\n",
       "      <td>0.082353</td>\n",
       "      <td>0.329317</td>\n",
       "      <td>0.403620</td>\n",
       "      <td>170.667000</td>\n",
       "      <td>0.063628</td>\n",
       "      <td>2.000000</td>\n",
       "    </tr>\n",
       "    <tr>\n",
       "      <th>50%</th>\n",
       "      <td>0.554656</td>\n",
       "      <td>0.595899</td>\n",
       "      <td>5.000000</td>\n",
       "      <td>0.752495</td>\n",
       "      <td>1.000000</td>\n",
       "      <td>0.045417</td>\n",
       "      <td>0.277108</td>\n",
       "      <td>0.000145</td>\n",
       "      <td>0.120690</td>\n",
       "      <td>0.561245</td>\n",
       "      <td>0.487123</td>\n",
       "      <td>216.712000</td>\n",
       "      <td>0.082806</td>\n",
       "      <td>2.000000</td>\n",
       "    </tr>\n",
       "    <tr>\n",
       "      <th>75%</th>\n",
       "      <td>0.675101</td>\n",
       "      <td>0.784946</td>\n",
       "      <td>8.000000</td>\n",
       "      <td>0.806989</td>\n",
       "      <td>1.000000</td>\n",
       "      <td>0.073229</td>\n",
       "      <td>0.693775</td>\n",
       "      <td>0.080800</td>\n",
       "      <td>0.253550</td>\n",
       "      <td>0.773092</td>\n",
       "      <td>0.566713</td>\n",
       "      <td>266.840000</td>\n",
       "      <td>0.110258</td>\n",
       "      <td>3.000000</td>\n",
       "    </tr>\n",
       "    <tr>\n",
       "      <th>max</th>\n",
       "      <td>1.000000</td>\n",
       "      <td>1.000000</td>\n",
       "      <td>11.000000</td>\n",
       "      <td>1.000000</td>\n",
       "      <td>1.000000</td>\n",
       "      <td>1.000000</td>\n",
       "      <td>1.000000</td>\n",
       "      <td>1.000000</td>\n",
       "      <td>1.000000</td>\n",
       "      <td>1.000000</td>\n",
       "      <td>1.000000</td>\n",
       "      <td>4170.227000</td>\n",
       "      <td>1.000000</td>\n",
       "      <td>5.000000</td>\n",
       "    </tr>\n",
       "  </tbody>\n",
       "</table>\n",
       "</div>"
      ],
      "text/plain": [
       "       danceability        energy           key      loudness          mode  \\\n",
       "count  35853.000000  35853.000000  35853.000000  35853.000000  35853.000000   \n",
       "mean       0.542633      0.575719      5.202605      0.734070      0.692941   \n",
       "std        0.181162      0.254555      3.533002      0.101216      0.461281   \n",
       "min        0.000000      0.000000      0.000000      0.000000      0.000000   \n",
       "25%        0.420040      0.389847      2.000000      0.684963      0.000000   \n",
       "50%        0.554656      0.595899      5.000000      0.752495      1.000000   \n",
       "75%        0.675101      0.784946      8.000000      0.806989      1.000000   \n",
       "max        1.000000      1.000000     11.000000      1.000000      1.000000   \n",
       "\n",
       "        speechiness  acousticness  instrumentalness      liveness  \\\n",
       "count  35853.000000  35853.000000      35853.000000  35853.000000   \n",
       "mean       0.076686      0.374916          0.161579      0.192288   \n",
       "std        0.091585      0.342635          0.309249      0.176256   \n",
       "min        0.000000      0.000000          0.000000      0.000000   \n",
       "25%        0.035208      0.041466          0.000000      0.082353   \n",
       "50%        0.045417      0.277108          0.000145      0.120690   \n",
       "75%        0.073229      0.693775          0.080800      0.253550   \n",
       "max        1.000000      1.000000          1.000000      1.000000   \n",
       "\n",
       "            valence         tempo    duration_s    chorus_hit         genre  \n",
       "count  35853.000000  35853.000000  35853.000000  35853.000000  35853.000000  \n",
       "mean       0.544558      0.494928    234.697358      0.092719      2.757315  \n",
       "std        0.270307      0.120988    123.102013      0.044200      1.301303  \n",
       "min        0.000000      0.000000     15.168000      0.000000      0.000000  \n",
       "25%        0.329317      0.403620    170.667000      0.063628      2.000000  \n",
       "50%        0.561245      0.487123    216.712000      0.082806      2.000000  \n",
       "75%        0.773092      0.566713    266.840000      0.110258      3.000000  \n",
       "max        1.000000      1.000000   4170.227000      1.000000      5.000000  "
      ]
     },
     "execution_count": 4,
     "metadata": {},
     "output_type": "execute_result"
    }
   ],
   "source": [
    "from sklearn.neural_network import MLPClassifier\n",
    "from sklearn.model_selection import train_test_split\n",
    "from sklearn.preprocessing import StandardScaler\n",
    "from sklearn.preprocessing import MinMaxScaler\n",
    "\n",
    "songdata[['acousticness', 'danceability', 'energy', 'instrumentalness', 'liveness', 'loudness', 'tempo', 'time_signature', 'valence', 'mode', 'speechiness', 'chorus_hit', 'sections']] = MinMaxScaler().fit_transform(songdata[['acousticness', 'danceability', 'energy', 'instrumentalness', 'liveness', 'loudness', 'tempo', 'time_signature', 'valence', 'mode', 'speechiness', 'chorus_hit', 'sections']])\n",
    "\n",
    "songdata.drop(columns=['popularity', 'track', 'artist', 'decade', 'time_signature', 'sections'], inplace=True)\n",
    "songdata.describe()"
   ]
  },
  {
   "cell_type": "code",
   "execution_count": 5,
   "id": "b02ef223",
   "metadata": {
    "colab": {
     "base_uri": "https://localhost:8080/"
    },
    "executionInfo": {
     "elapsed": 3,
     "status": "ok",
     "timestamp": 1647931452609,
     "user": {
      "displayName": "Daniel Tan",
      "photoUrl": "https://lh3.googleusercontent.com/a-/AOh14Gh2rCY9GFaFOEwAtqfOOiYbt_xDtEymQK_Nbcw_fg=s64",
      "userId": "08000639285833235229"
     },
     "user_tz": -480
    },
    "id": "b02ef223",
    "outputId": "b2c32ba6-9472-43a3-ddeb-fb15dff8e98b"
   },
   "outputs": [
    {
     "data": {
      "text/plain": [
       "2    14329\n",
       "3     9455\n",
       "5     6190\n",
       "1     2469\n",
       "4     2104\n",
       "0     1306\n",
       "Name: genre, dtype: int64"
      ]
     },
     "execution_count": 5,
     "metadata": {},
     "output_type": "execute_result"
    }
   ],
   "source": [
    "songdata['genre'].value_counts()"
   ]
  },
  {
   "cell_type": "markdown",
   "id": "4be525e2",
   "metadata": {
    "id": "4be525e2"
   },
   "source": [
    "We note that the numbers of each songs per category are different. For example, there are 14247 songs in the Pop genre, whereas there are only 1326 songs in the EDM genre. Although using a Train/Test model would help to obtain random sampling of data, as there is a huge difference in sample size between song categories, we run the risk of introducing a significant sampling bias. \n",
    "\n",
    "Hence, we use Stratified Sampling Technique, which would help to eliminate the biasness of the selection of data.\n",
    "\n",
    "Source: https://medium.com/@IrekponorVictor/creating-an-unbiased-test-set-for-your-model-using-stratified-sampling-technique-672b778022d5"
   ]
  },
  {
   "cell_type": "code",
   "execution_count": 6,
   "id": "d2bba12c",
   "metadata": {
    "id": "d2bba12c"
   },
   "outputs": [],
   "source": [
    "# importing StratifiedShuffleSplit\n",
    "from sklearn.model_selection import StratifiedShuffleSplit\n",
    "\n",
    "split = StratifiedShuffleSplit(n_splits=1, test_size=0.2)\n",
    "\n",
    "for train_index, test_index in split.split(songdata, songdata['genre']):\n",
    "     train_set, test_set = songdata.iloc[train_index], songdata.iloc[test_index]\n",
    "\n",
    "# after obtaining train/test set, proceed to split train into X and y train set, and test into x and y test set\n",
    "y_train = pd.DataFrame(train_set['genre'])\n",
    "x_train = train_set\n",
    "x_train = x_train.drop(columns=['genre'])\n",
    "\n",
    "y_test = pd.DataFrame(test_set['genre'])\n",
    "x_test = test_set\n",
    "x_test = x_test.drop(columns=['genre'])"
   ]
  },
  {
   "cell_type": "markdown",
   "id": "292f2b90",
   "metadata": {
    "id": "292f2b90"
   },
   "source": [
    "Check how many songs in each genre there are in train/test set"
   ]
  },
  {
   "cell_type": "code",
   "execution_count": 7,
   "id": "adde23ee",
   "metadata": {
    "colab": {
     "base_uri": "https://localhost:8080/"
    },
    "executionInfo": {
     "elapsed": 318,
     "status": "ok",
     "timestamp": 1647931461885,
     "user": {
      "displayName": "Daniel Tan",
      "photoUrl": "https://lh3.googleusercontent.com/a-/AOh14Gh2rCY9GFaFOEwAtqfOOiYbt_xDtEymQK_Nbcw_fg=s64",
      "userId": "08000639285833235229"
     },
     "user_tz": -480
    },
    "id": "adde23ee",
    "outputId": "169ad4c4-2981-4b6c-d1c0-38a81fdf8ce6"
   },
   "outputs": [
    {
     "data": {
      "text/plain": [
       "genre\n",
       "2        11463\n",
       "3         7564\n",
       "5         4952\n",
       "1         1975\n",
       "4         1683\n",
       "0         1045\n",
       "dtype: int64"
      ]
     },
     "execution_count": 7,
     "metadata": {},
     "output_type": "execute_result"
    }
   ],
   "source": [
    "y_train.value_counts()"
   ]
  },
  {
   "cell_type": "code",
   "execution_count": 8,
   "id": "d2c7155c",
   "metadata": {
    "colab": {
     "base_uri": "https://localhost:8080/"
    },
    "executionInfo": {
     "elapsed": 390,
     "status": "ok",
     "timestamp": 1647931464061,
     "user": {
      "displayName": "Daniel Tan",
      "photoUrl": "https://lh3.googleusercontent.com/a-/AOh14Gh2rCY9GFaFOEwAtqfOOiYbt_xDtEymQK_Nbcw_fg=s64",
      "userId": "08000639285833235229"
     },
     "user_tz": -480
    },
    "id": "d2c7155c",
    "outputId": "9ff40dec-9cfb-455b-db93-3893f2369e44"
   },
   "outputs": [
    {
     "data": {
      "text/plain": [
       "genre\n",
       "2        2866\n",
       "3        1891\n",
       "5        1238\n",
       "1         494\n",
       "4         421\n",
       "0         261\n",
       "dtype: int64"
      ]
     },
     "execution_count": 8,
     "metadata": {},
     "output_type": "execute_result"
    }
   ],
   "source": [
    "y_test.value_counts()"
   ]
  },
  {
   "cell_type": "markdown",
   "id": "5e01ad5b",
   "metadata": {
    "id": "5e01ad5b"
   },
   "source": [
    "Now we load the saved model to predict the train and test datasets."
   ]
  },
  {
   "cell_type": "code",
   "execution_count": 12,
   "id": "706QwMxNaJM1",
   "metadata": {
    "id": "706QwMxNaJM1"
   },
   "outputs": [],
   "source": [
    "import pickle\n",
    "\n",
    "filename = \"models/initial_model.sav\"\n",
    "classifier = pickle.load(open(filename, 'rb'))"
   ]
  },
  {
   "cell_type": "code",
   "execution_count": 13,
   "id": "VR9znnovTHCo",
   "metadata": {
    "id": "VR9znnovTHCo"
   },
   "outputs": [
    {
     "name": "stdout",
     "output_type": "stream",
     "text": [
      "Accuracy of MLPClassifier :  0.39965832229272713\n"
     ]
    }
   ],
   "source": [
    "def accuracy(confusion_matrix):\n",
    "   diagonal_sum = confusion_matrix.trace()\n",
    "   sum_of_all_elements = confusion_matrix.sum()\n",
    "   return diagonal_sum / sum_of_all_elements\n",
    "\n",
    "y_pred = classifier.predict(x_train)\n",
    "\n",
    "#Importing Confusion Matrix\n",
    "from sklearn.metrics import confusion_matrix\n",
    "#Comparing the predictions against the actual observations in y_val\n",
    "cm = confusion_matrix(y_pred, y_train)\n",
    "\n",
    "#Printing the accuracy\n",
    "print(\"Accuracy of MLPClassifier : \", accuracy(cm))"
   ]
  },
  {
   "cell_type": "markdown",
   "id": "c49345f0",
   "metadata": {
    "id": "c49345f0"
   },
   "source": [
    "Try plotting the correlation matrix."
   ]
  },
  {
   "cell_type": "code",
   "execution_count": 16,
   "id": "d701154c",
   "metadata": {
    "colab": {
     "base_uri": "https://localhost:8080/",
     "height": 285
    },
    "executionInfo": {
     "elapsed": 1583,
     "status": "ok",
     "timestamp": 1647931474799,
     "user": {
      "displayName": "Daniel Tan",
      "photoUrl": "https://lh3.googleusercontent.com/a-/AOh14Gh2rCY9GFaFOEwAtqfOOiYbt_xDtEymQK_Nbcw_fg=s64",
      "userId": "08000639285833235229"
     },
     "user_tz": -480
    },
    "id": "d701154c",
    "outputId": "deb3bad9-e430-4c4c-ae20-d16e85e26e9a"
   },
   "outputs": [
    {
     "data": {
      "text/plain": [
       "<AxesSubplot:>"
      ]
     },
     "execution_count": 16,
     "metadata": {},
     "output_type": "execute_result"
    },
    {
     "data": {
      "image/png": "[encoded data removed]",
      "text/plain": [
       "<Figure size 432x288 with 2 Axes>"
      ]
     },
     "metadata": {},
     "output_type": "display_data"
    }
   ],
   "source": [
    "sb.heatmap(cm, annot=True, fmt=\".0f\", annot_kws={\"size\":18})"
   ]
  },
  {
   "cell_type": "markdown",
   "id": "7331ca3c",
   "metadata": {
    "id": "7331ca3c"
   },
   "source": [
    "Check the accuracy on the test data."
   ]
  },
  {
   "cell_type": "code",
   "execution_count": 17,
   "id": "f401d7e2",
   "metadata": {
    "colab": {
     "base_uri": "https://localhost:8080/"
    },
    "executionInfo": {
     "elapsed": 353,
     "status": "ok",
     "timestamp": 1647931483522,
     "user": {
      "displayName": "Daniel Tan",
      "photoUrl": "https://lh3.googleusercontent.com/a-/AOh14Gh2rCY9GFaFOEwAtqfOOiYbt_xDtEymQK_Nbcw_fg=s64",
      "userId": "08000639285833235229"
     },
     "user_tz": -480
    },
    "id": "f401d7e2",
    "outputId": "b83ab377-16d8-45e6-d40b-5a062a9e3a36"
   },
   "outputs": [
    {
     "name": "stdout",
     "output_type": "stream",
     "text": [
      "Accuracy of MLPClassifier on test data : 0.3996653186445405\n"
     ]
    }
   ],
   "source": [
    "y_test_pred = classifier.predict(x_test)\n",
    "\n",
    "cm = confusion_matrix(y_test_pred, y_test)\n",
    "\n",
    "# print accuracy\n",
    "print('Accuracy of MLPClassifier on test data :', accuracy(cm))"
   ]
  },
  {
   "cell_type": "code",
   "execution_count": 18,
   "id": "b82ca0e8",
   "metadata": {
    "colab": {
     "base_uri": "https://localhost:8080/",
     "height": 285
    },
    "executionInfo": {
     "elapsed": 940,
     "status": "ok",
     "timestamp": 1647931486469,
     "user": {
      "displayName": "Daniel Tan",
      "photoUrl": "https://lh3.googleusercontent.com/a-/AOh14Gh2rCY9GFaFOEwAtqfOOiYbt_xDtEymQK_Nbcw_fg=s64",
      "userId": "08000639285833235229"
     },
     "user_tz": -480
    },
    "id": "b82ca0e8",
    "outputId": "e529541e-b4df-49c7-e722-3008c216384b"
   },
   "outputs": [
    {
     "data": {
      "text/plain": [
       "<AxesSubplot:>"
      ]
     },
     "execution_count": 18,
     "metadata": {},
     "output_type": "execute_result"
    },
    {
     "data": {
      "image/png": "[encoded data removed]",
      "text/plain": [
       "<Figure size 432x288 with 2 Axes>"
      ]
     },
     "metadata": {},
     "output_type": "display_data"
    }
   ],
   "source": [
    "sb.heatmap(cm, annot=True, fmt=\".0f\", annot_kws={\"size\":18})"
   ]
  },
  {
   "cell_type": "markdown",
   "id": "wFhf45NUWvlx",
   "metadata": {
    "id": "wFhf45NUWvlx"
   },
   "source": [
    "Clearly, the results of this model are very inaccurate, and it has been trained on too large a batch size, which has resulted in the model being unable to differentiate between each genre, and simply predicts all genres as being from the same genre."
   ]
  }
 ],
 "metadata": {
  "colab": {
   "collapsed_sections": [],
   "name": "Initial_Model_Test.ipynb",
   "provenance": []
  },
  "kernelspec": {
   "display_name": "Python 3 (ipykernel)",
   "language": "python",
   "name": "python3"
  },
  "language_info": {
   "codemirror_mode": {
    "name": "ipython",
    "version": 3
   },
   "file_extension": ".py",
   "mimetype": "text/x-python",
   "name": "python",
   "nbconvert_exporter": "python",
   "pygments_lexer": "ipython3",
   "version": "3.9.7"
  },
  "papermill": {
   "default_parameters": {},
   "duration": 12.896024,
   "end_time": "2022-02-16T02:25:53.224422",
   "environment_variables": {},
   "exception": null,
   "input_path": "__notebook__.ipynb",
   "output_path": "__notebook__.ipynb",
   "parameters": {},
   "start_time": "2022-02-16T02:25:40.328398",
   "version": "2.3.3"
  }
 },
 "nbformat": 4,
 "nbformat_minor": 5
}
